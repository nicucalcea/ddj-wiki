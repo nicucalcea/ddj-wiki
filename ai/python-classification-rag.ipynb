{
  "cells": [
    {
      "cell_type": "raw",
      "id": "c250529d-3381-4cf1-b9e1-da590fa12691",
      "metadata": {
        "vscode": {
          "languageId": "raw"
        }
      },
      "source": [
        "---\n",
        "title: \"Identifying fossil fuel lobbyists with AI\"\n",
        "href: python-classification-rag\n",
        "execute: \n",
        "  cache: true\n",
        "---"
      ]
    },
    {
      "cell_type": "markdown",
      "metadata": {
        "id": "fsv4jGuU89rX"
      },
      "source": [
        "<a target=\"_blank\" href=\"https://colab.research.google.com/github/nicucalcea/ddj-wiki/blob/main/ai/python-classification-rag.ipynb\">\n",
        "  <img src=\"https://colab.research.google.com/assets/colab-badge.svg\" alt=\"Open In Colab\"/>\n",
        "</a>\n",
        "<a target=\"_blank\" href=\"https://github.com/nicucalcea/ddj-wiki/blob/main/ai/python-classification-rag.ipynb\">\n",
        "  <img src=\"https://badgen.net/badge/icon/github?icon=github&label=View%20code\" alt=\"View on GitHub\"/>\n",
        "</a>"
      ]
    },
    {
      "cell_type": "markdown",
      "metadata": {
        "id": "vO-mZV3OGrm_"
      },
      "source": [
        "Without looking it up, would you know if the \"Clean Resource Innovation Network” is an oil and gas lobbying organisation? Lobbyists often hide under unintuitive or misleading affiliations that obscure their origins. The work of uncovering their identities can be time-consuming and challenging.  \n",
        "\n",
        "This workshop will outline an approach to using web scraping and Large Language Models (LLMs), like those powering ChatGPT, to systematically identify organisations that are affiliated with the fossil fuel industry. These techniques could also be adapted to other climate projects, such as identifying climate misinformation.\n",
        "\n",
        "The tutorial will:\n",
        "\n",
        "- Describe some of the challenges of web scraping at scale and the technical tools that can be used to address those challenges\n",
        "- Describe how to design and test a successful LLM prompt\n",
        "- How to identify the right LLM for the project you want to do\n",
        "- How to test your approach and validate the results"
      ]
    },
    {
      "cell_type": "markdown",
      "metadata": {
        "id": "Nd-jWkBqd8jH"
      },
      "source": [
        "## Install and load libraries"
      ]
    },
    {
      "cell_type": "code",
      "execution_count": null,
      "metadata": {
        "id": "Jbn2VKx1gj4W"
      },
      "outputs": [],
      "source": [
        "%pip install duckduckgo_search\n",
        "# %pip install --upgrade duckduckgo-search\n",
        "%pip install trafilatura\n",
        "%pip install openai\n",
        "%pip install pydantic\n",
        "%pip install pandas"
      ]
    },
    {
      "cell_type": "code",
      "execution_count": 1,
      "metadata": {
        "id": "lisUctaVd_K8"
      },
      "outputs": [],
      "source": [
        "import requests\n",
        "import pandas as pd\n",
        "from duckduckgo_search import DDGS\n",
        "from trafilatura import extract\n",
        "from enum import Enum\n",
        "from pydantic import BaseModel, Field\n",
        "from openai import OpenAI\n",
        "import json"
      ]
    },
    {
      "cell_type": "markdown",
      "metadata": {
        "id": "Z04YaWN5LEsy"
      },
      "source": [
        "## Prep data"
      ]
    },
    {
      "cell_type": "markdown",
      "metadata": {
        "id": "nUhVtwuzLHim"
      },
      "source": [
        "The [UNFCCC website](https://unfccc.int/documents/634503) published an Excel sheet of COP28 participants. Let's download it to our local project."
      ]
    },
    {
      "cell_type": "code",
      "execution_count": 4,
      "metadata": {},
      "outputs": [
        {
          "name": "stdout",
          "output_type": "stream",
          "text": [
            "File downloaded successfully.\n"
          ]
        }
      ],
      "source": [
        "headers = {\n",
        "    'User-Agent': 'Mozilla/5.0 (Windows NT 10.0; Win64; x64; rv:131.0) Gecko/20100101 Firefox/131.0'\n",
        "}\n",
        "\n",
        "url = \"https://unfccc.int/sites/default/files/resource/PLOP%20COP28_on-site.xlsx\"\n",
        "\n",
        "response = requests.get(url, headers=headers)\n",
        "\n",
        "cop_file = '../data/plop28.xlsx'\n",
        "\n",
        "if response.status_code == 200:\n",
        "    with open(\"../data/plop28.xlsx\", \"wb\") as file:\n",
        "        file.write(response.content)\n",
        "    print(\"File downloaded successfully.\")\n",
        "else:\n",
        "    print(f\"Failed to download file. Status code: {response.status_code}\")"
      ]
    },
    {
      "cell_type": "markdown",
      "metadata": {
        "id": "9Y-cuyBNMYhf"
      },
      "source": [
        "The participants are spread across multiple sheets, let's read in the data and bind them together."
      ]
    },
    {
      "cell_type": "code",
      "execution_count": 5,
      "metadata": {
        "id": "K_lCC1WlFkTE"
      },
      "outputs": [],
      "source": [
        "# Create an empty list to store the dataframes from each sheet\n",
        "cop_participans = []\n",
        "\n",
        "# Read the Excel file\n",
        "xls = pd.ExcelFile(cop_file)\n",
        "\n",
        "# Iterate through the sheets and append the dataframes to the list\n",
        "for sheet_name in xls.sheet_names:\n",
        "  df = pd.read_excel(cop_file, sheet_name=sheet_name)\n",
        "  cop_participans.append(df)\n",
        "\n",
        "# Concatenate the dataframes into a single dataframe\n",
        "cop_participans = pd.concat(cop_participans, ignore_index=True)"
      ]
    },
    {
      "cell_type": "code",
      "execution_count": 21,
      "metadata": {
        "colab": {
          "base_uri": "https://localhost:8080/"
        },
        "id": "ix0PeBnFQwgg",
        "outputId": "798f38f8-f733-4f4a-a948-978b1734eb19"
      },
      "outputs": [
        {
          "data": {
            "text/html": [
              "<div>\n",
              "<style scoped>\n",
              "    .dataframe tbody tr th:only-of-type {\n",
              "        vertical-align: middle;\n",
              "    }\n",
              "\n",
              "    .dataframe tbody tr th {\n",
              "        vertical-align: top;\n",
              "    }\n",
              "\n",
              "    .dataframe thead th {\n",
              "        text-align: right;\n",
              "    }\n",
              "</style>\n",
              "<table border=\"1\" class=\"dataframe\">\n",
              "  <thead>\n",
              "    <tr style=\"text-align: right;\">\n",
              "      <th></th>\n",
              "      <th>nominator</th>\n",
              "      <th>name</th>\n",
              "      <th>func_title</th>\n",
              "      <th>department</th>\n",
              "      <th>organization</th>\n",
              "      <th>relation</th>\n",
              "    </tr>\n",
              "  </thead>\n",
              "  <tbody>\n",
              "    <tr>\n",
              "      <th>0</th>\n",
              "      <td>Albania</td>\n",
              "      <td>H.E. Mr. Edi Rama</td>\n",
              "      <td>Prime Minister</td>\n",
              "      <td>Prime Minister Office</td>\n",
              "      <td>Prime Minister Office</td>\n",
              "      <td>Choose not to disclose</td>\n",
              "    </tr>\n",
              "    <tr>\n",
              "      <th>1</th>\n",
              "      <td>Albania</td>\n",
              "      <td>H.E. Ms. Mirela Furxhi</td>\n",
              "      <td>Minister of Tourism and Environment</td>\n",
              "      <td>Ministry of Tourism and Environment</td>\n",
              "      <td>Ministry of Tourism and Environment</td>\n",
              "      <td>Choose not to disclose</td>\n",
              "    </tr>\n",
              "    <tr>\n",
              "      <th>2</th>\n",
              "      <td>Albania</td>\n",
              "      <td>H.E. Ms. Belinda Balluku</td>\n",
              "      <td>Deputy Prime Minister and Minister of Infrastr...</td>\n",
              "      <td>Ministry of Infrastructure and Energy</td>\n",
              "      <td>Ministry of Infrastructure and Energy</td>\n",
              "      <td>Choose not to disclose</td>\n",
              "    </tr>\n",
              "    <tr>\n",
              "      <th>3</th>\n",
              "      <td>Albania</td>\n",
              "      <td>Ms. Lindita Rama</td>\n",
              "      <td>Spouse of the Prime Minister</td>\n",
              "      <td>Not applicable</td>\n",
              "      <td>Not applicable</td>\n",
              "      <td>Choose not to disclose</td>\n",
              "    </tr>\n",
              "    <tr>\n",
              "      <th>4</th>\n",
              "      <td>Albania</td>\n",
              "      <td>H.E. Mr. Ridi Kurtezi</td>\n",
              "      <td>Ambassador of the Republic of Albania to the UAE</td>\n",
              "      <td>Albanian Embassy in United Arab Emirates</td>\n",
              "      <td>Albanian Embassy in United Arab Emirates</td>\n",
              "      <td>Choose not to disclose</td>\n",
              "    </tr>\n",
              "  </tbody>\n",
              "</table>\n",
              "</div>"
            ],
            "text/plain": [
              "  nominator                      name  \\\n",
              "0   Albania         H.E. Mr. Edi Rama   \n",
              "1   Albania    H.E. Ms. Mirela Furxhi   \n",
              "2   Albania  H.E. Ms. Belinda Balluku   \n",
              "3   Albania          Ms. Lindita Rama   \n",
              "4   Albania     H.E. Mr. Ridi Kurtezi   \n",
              "\n",
              "                                          func_title  \\\n",
              "0                                     Prime Minister   \n",
              "1                Minister of Tourism and Environment   \n",
              "2  Deputy Prime Minister and Minister of Infrastr...   \n",
              "3                       Spouse of the Prime Minister   \n",
              "4   Ambassador of the Republic of Albania to the UAE   \n",
              "\n",
              "                                 department  \\\n",
              "0                     Prime Minister Office   \n",
              "1       Ministry of Tourism and Environment   \n",
              "2     Ministry of Infrastructure and Energy   \n",
              "3                            Not applicable   \n",
              "4  Albanian Embassy in United Arab Emirates   \n",
              "\n",
              "                               organization                relation  \n",
              "0                     Prime Minister Office  Choose not to disclose  \n",
              "1       Ministry of Tourism and Environment  Choose not to disclose  \n",
              "2     Ministry of Infrastructure and Energy  Choose not to disclose  \n",
              "3                            Not applicable  Choose not to disclose  \n",
              "4  Albanian Embassy in United Arab Emirates  Choose not to disclose  "
            ]
          },
          "execution_count": 21,
          "metadata": {},
          "output_type": "execute_result"
        }
      ],
      "source": [
        "cop_participans.head()"
      ]
    },
    {
      "cell_type": "markdown",
      "metadata": {
        "id": "6FWwysZhMoZo"
      },
      "source": [
        "This list contains all participants registered to attend the 2023 United Nations Climate Change Conference or Conference of the Parties (COP28).\n",
        "\n",
        "We're not interested in the individuals, just the organisations they represent. Let's extract those."
      ]
    },
    {
      "cell_type": "code",
      "execution_count": 22,
      "metadata": {
        "colab": {
          "base_uri": "https://localhost:8080/"
        },
        "id": "5pO_hcqNM8Eo",
        "outputId": "4263dd80-f0a1-4365-fa4e-949651d32f8d"
      },
      "outputs": [
        {
          "data": {
            "text/html": [
              "<div>\n",
              "<style scoped>\n",
              "    .dataframe tbody tr th:only-of-type {\n",
              "        vertical-align: middle;\n",
              "    }\n",
              "\n",
              "    .dataframe tbody tr th {\n",
              "        vertical-align: top;\n",
              "    }\n",
              "\n",
              "    .dataframe thead th {\n",
              "        text-align: right;\n",
              "    }\n",
              "</style>\n",
              "<table border=\"1\" class=\"dataframe\">\n",
              "  <thead>\n",
              "    <tr style=\"text-align: right;\">\n",
              "      <th></th>\n",
              "      <th>nominator</th>\n",
              "      <th>organization</th>\n",
              "    </tr>\n",
              "  </thead>\n",
              "  <tbody>\n",
              "    <tr>\n",
              "      <th>54467</th>\n",
              "      <td>World Bank Group</td>\n",
              "      <td>Velliv</td>\n",
              "    </tr>\n",
              "    <tr>\n",
              "      <th>79373</th>\n",
              "      <td>Himal Media</td>\n",
              "      <td>www.ukaalo.com</td>\n",
              "    </tr>\n",
              "    <tr>\n",
              "      <th>68015</th>\n",
              "      <td>The Association of Commonwealth Universities</td>\n",
              "      <td>South Eastern University of Sri Lanka</td>\n",
              "    </tr>\n",
              "    <tr>\n",
              "      <th>44364</th>\n",
              "      <td>Sweden</td>\n",
              "      <td>The Church of Sweden</td>\n",
              "    </tr>\n",
              "    <tr>\n",
              "      <th>44553</th>\n",
              "      <td>Thailand</td>\n",
              "      <td>OKLIN (THAILAND) CO., LTD.</td>\n",
              "    </tr>\n",
              "  </tbody>\n",
              "</table>\n",
              "</div>"
            ],
            "text/plain": [
              "                                          nominator  \\\n",
              "54467                              World Bank Group   \n",
              "79373                                   Himal Media   \n",
              "68015  The Association of Commonwealth Universities   \n",
              "44364                                        Sweden   \n",
              "44553                                      Thailand   \n",
              "\n",
              "                                organization  \n",
              "54467                                 Velliv  \n",
              "79373                         www.ukaalo.com  \n",
              "68015  South Eastern University of Sri Lanka  \n",
              "44364                   The Church of Sweden  \n",
              "44553             OKLIN (THAILAND) CO., LTD.  "
            ]
          },
          "execution_count": 22,
          "metadata": {},
          "output_type": "execute_result"
        }
      ],
      "source": [
        "cop_orgs = cop_participans[['nominator', 'organization']].drop_duplicates().sample(20)\n",
        "cop_orgs"
      ]
    },
    {
      "cell_type": "markdown",
      "metadata": {
        "id": "wAoUZNBvOhiY"
      },
      "source": [
        "## Search"
      ]
    },
    {
      "cell_type": "markdown",
      "metadata": {
        "id": "FeX8nkZlOnAF"
      },
      "source": [
        "Large Language Models are prone to [hallucinations](https://en.wikipedia.org/wiki/Hallucination_(artificial_intelligence)).\n",
        "\n",
        "If you ask an LLM a question it doesn't know the answer to, it will confidently make up a plausible-sounding answer that is completely wrong.\n",
        "\n",
        "One way to help with that issue is to provide the AI with some additional context for the question you're asking.\n",
        "\n",
        "For our case, we'll provide it with relevant search results related to our organisation so that it knows who we're asking about.\n",
        "\n",
        "We'll use DuckDuckGo because it has a free API. For better results, you can use the Google API or a [SERP API](https://developers.oxylabs.io/scraper-apis/serp-scraper-api/google/search)."
      ]
    },
    {
      "cell_type": "markdown",
      "metadata": {
        "id": "bfnNL0Lz-CAm"
      },
      "source": [
        "Let's search for the organisation and nominator and extract the first 5 results."
      ]
    },
    {
      "cell_type": "code",
      "execution_count": 8,
      "metadata": {
        "colab": {
          "base_uri": "https://localhost:8080/"
        },
        "id": "hqns4x4ZOlON",
        "outputId": "9e761841-40d6-4b70-c874-2c99f9e925d0"
      },
      "outputs": [
        {
          "name": "stdout",
          "output_type": "stream",
          "text": [
            "(\"PRESIDENCIA DE LA REPUBLICA\" Colombia) OR (\"PRESIDENCIA DE LA REPUBLICA\") OR (PRESIDENCIA DE LA REPUBLICA) oil OR gas OR coal\n"
          ]
        },
        {
          "data": {
            "text/plain": [
              "[{'title': 'presidencia.gov.co',\n",
              "  'href': 'http://presidencia.gov.co/',\n",
              "  'body': 'Presidencia es el sitio web oficial de la Presidencia de Colombia. Aquí podrá conocer las acciones y propuestas del gobierno, así como los canales de participación y comunicación ciudadana.'},\n",
              " {'title': 'Presidencia de la República - Colombia - YouTube',\n",
              "  'href': 'https://www.youtube.com/@infopresidencia',\n",
              "  'body': 'Share your videos with friends, family, and the world'},\n",
              " {'title': \"Colombian electoral authorities investigating president's 2022 campaign ...\",\n",
              "  'href': 'https://www.latimes.com/world-nation/story/2024-10-08/colombian-electoral-authorities-open-investigation-against-president-petros-2022-campaign',\n",
              "  'body': 'BOGOTA, Colombia — Electoral authorities in Colombia on Tuesday ruled in favor of investigating financial misconduct allegations against the 2022 campaign that got President Gustavo Petro elected.'},\n",
              " {'title': 'Presidente de Colombia - Wikipedia, la enciclopedia libre',\n",
              "  'href': 'https://es.wikipedia.org/wiki/Presidente_de_Colombia',\n",
              "  'body': 'petro.presidencia.gov.co. [editar datos en Wikidata] El presidente de la República de Colombia es el jefe de Estado y de Gobierno, suprema autoridad administrativa de Colombia y comandante en jefe de la Fuerza Pública (Fuerzas Militares y Policía Nacional). Además, ostenta el título de gran maestre de la Orden de Boyacá.'},\n",
              " {'title': '10 Ways to Get Rid of Gas Pains and Bloating - Healthline',\n",
              "  'href': 'https://www.healthline.com/health/digestive-health/get-rid-of-gas-pains-and-bloating',\n",
              "  'body': 'Drink right before meals or up to three times daily as long as needed to reduce symptoms. 5. Physical activity. Exercise can help release trapped gas and gas pain. Try walking after meals as a way ...'}]"
            ]
          },
          "execution_count": 8,
          "metadata": {},
          "output_type": "execute_result"
        }
      ],
      "source": [
        "org = cop_orgs['organization'].iloc[0]\n",
        "nominator = cop_orgs['nominator'].iloc[0]\n",
        "\n",
        "search = f'(\"{org}\" {nominator}) OR (\"{org}\") OR ({org})'\n",
        "search += ' oil OR gas OR coal'\n",
        "print(search)\n",
        "\n",
        "results = DDGS().text(search, max_results=5)\n",
        "results"
      ]
    },
    {
      "cell_type": "markdown",
      "metadata": {
        "id": "gQ8RuuUtRLRM"
      },
      "source": [
        "## Scrape search results"
      ]
    },
    {
      "cell_type": "markdown",
      "metadata": {
        "id": "7md6GzFU-KJn"
      },
      "source": [
        "Now, we want to extract the text from each of those URLs. We'll use [Trafilatura](https://github.com/adbar/trafilatura), which will help us extract the main text without headers, footers and other irrelevant text."
      ]
    },
    {
      "cell_type": "code",
      "execution_count": 23,
      "metadata": {
        "id": "z4MoJ3M7ASIa"
      },
      "outputs": [],
      "source": [
        "# Define function to scrape data\n",
        "def extract_text(urls):\n",
        "    results = []\n",
        "\n",
        "    for url in urls:\n",
        "        print(f\"Scraping {url}...\")\n",
        "        try:\n",
        "            response = requests.get(url, timeout=30, verify=False)  # Note: verify=False is not recommended for production use\n",
        "            response.raise_for_status()  # Raises an HTTPError for bad responses\n",
        "            extracted_text = extract(response.text, output_format=\"markdown\")\n",
        "            results.append((url, extracted_text))\n",
        "        except requests.RequestException as e:\n",
        "            print(f\"Error scraping {url}: {str(e)}\")\n",
        "            results.append((url, f\"Error: {str(e)}\"))\n",
        "\n",
        "    return results"
      ]
    },
    {
      "cell_type": "code",
      "execution_count": 10,
      "metadata": {
        "colab": {
          "base_uri": "https://localhost:8080/",
          "height": 347
        },
        "id": "4k7Y36ARAxED",
        "outputId": "00496a96-727a-4bca-afbf-c0c8cde94754"
      },
      "outputs": [
        {
          "name": "stdout",
          "output_type": "stream",
          "text": [
            "Scraping http://presidencia.gov.co/...\n",
            "Scraping https://www.youtube.com/@infopresidencia...\n",
            "Scraping https://www.latimes.com/world-nation/story/2024-10-08/colombian-electoral-authorities-open-investigation-against-president-petros-2022-campaign...\n",
            "Error scraping https://www.latimes.com/world-nation/story/2024-10-08/colombian-electoral-authorities-open-investigation-against-president-petros-2022-campaign: 403 Client Error: Forbidden for url: https://www.latimes.com/world-nation/story/2024-10-08/colombian-electoral-authorities-open-investigation-against-president-petros-2022-campaign\n",
            "Scraping https://es.wikipedia.org/wiki/Presidente_de_Colombia...\n",
            "Scraping https://www.healthline.com/health/digestive-health/get-rid-of-gas-pains-and-bloating...\n"
          ]
        }
      ],
      "source": [
        "# Run the function\n",
        "texts = extract_text([result['href'] for result in results if 'href' in result])\n",
        "texts = [(url, text) for url, text in texts if text is not None] # remove empty scrapes"
      ]
    },
    {
      "cell_type": "code",
      "execution_count": 11,
      "metadata": {
        "id": "wtXtccX8F248"
      },
      "outputs": [],
      "source": [
        "# Paste text together\n",
        "stitched_text = \"\\n\\n\".join(f\"URL: {url}\\n{text}\" for url, text in texts).strip()"
      ]
    },
    {
      "cell_type": "code",
      "execution_count": 14,
      "metadata": {
        "id": "nmkHoU6nSxy3"
      },
      "outputs": [],
      "source": [
        "prompt_system = f'''\n",
        "## Instructions\n",
        "\n",
        "You are a researcher investigating whether \"{org}\" is a fossil fuel organization.\n",
        "\n",
        "A fossil fuel organization:\n",
        "- Aims to influence policy or legislation in the interests of fossil fuel companies and shareholders.\n",
        "- Has significant business activities in exploration, extraction, refining, trading, specialized transportation of oil, gas, coal, or blue hydrogen, or sale of electricity derived from them.\n",
        "- Publicly declares involvement in fossil fuels or promotes significant investments in such companies.\n",
        "- Can be an NGO, foundation, think tank, or lobbying group funded by fossil fuel companies or their executives.\n",
        "- May include larger companies that own fossil fuel subsidiaries (e.g., BASF owning Wintershall).\n",
        "- Includes companies selling energy from fossil fuels (e.g., Octopus Energy).\n",
        "- Companies that currently produce or sell fossil fuels, regardless of their plans to divest in the future.\n",
        "\n",
        "A fossil fuel organization is NOT:\n",
        "- NGOs campaigning AGAINST fossil fuels (e.g., Greenpeace).\n",
        "- Investors, pension funds, universities, or banks that invest in fossil fuel companies.\n",
        "- Consulting companies that work with a wide range of clients which may include fossil fuel companies.\n",
        "- Governments that benefit from fossil fuel production.\n",
        "- Government departments facilitating, regulating or taxing fossil fuel companies.\n",
        "- Media organisations that report on the activities of fossil fuel companies.\n",
        "\n",
        "Analyze the following text extracted from an internet search for \"{org}\" to determine if it is a fossil fuel organization. Use common sense and respond only in English, even if the original content is not in English.\n",
        "'''"
      ]
    },
    {
      "cell_type": "markdown",
      "metadata": {
        "id": "_riBT8RNSUsa"
      },
      "source": [
        "## Send request to LLM"
      ]
    },
    {
      "cell_type": "markdown",
      "metadata": {
        "id": "20pt6-D3V2Vi"
      },
      "source": [
        "We'll use OpenAI's gpt-4o-mini for this classification."
      ]
    },
    {
      "cell_type": "markdown",
      "metadata": {
        "id": "dLJd9swFWveD"
      },
      "source": [
        "One advantage of this particular model is its support for [Structured Outputs](https://openai.com/index/introducing-structured-outputs-in-the-api/). This means you can force the response to follow a certain set of rules.\n",
        "\n",
        "Let's define what we want the output to be."
      ]
    },
    {
      "cell_type": "code",
      "execution_count": 15,
      "metadata": {
        "id": "8aCCEsEHW1il"
      },
      "outputs": [],
      "source": [
        "# Define OpenAI Structured Outputs rules\n",
        "class OrgType(str, Enum):\n",
        "    company = \"company\"\n",
        "    ngo = \"NGO/non-profit\"\n",
        "    government = \"government\"\n",
        "    media = \"media\"\n",
        "    other = \"other\"\n",
        "\n",
        "class Classification(BaseModel):\n",
        "    fossil_fuel_link: bool = Field(description = \"Is this a fossil fuel organization?\")\n",
        "    org_type: OrgType\n",
        "    explanation: str = Field(description = \"A brief explanation of your decision, in English\")\n",
        "    source: str = Field(description = \"A link to the SINGLE most relevant source that supports your classification\")"
      ]
    },
    {
      "cell_type": "markdown",
      "metadata": {
        "id": "AHxaIEwyX57y"
      },
      "source": [
        "Now, let's make the request to OpenAI. First, we define a function."
      ]
    },
    {
      "cell_type": "code",
      "execution_count": 16,
      "metadata": {
        "id": "3PeFjHcNX9aP"
      },
      "outputs": [],
      "source": [
        "def make_request_openai(prompt_system: str, prompt_user: str, model: str = \"gpt-4o-mini\", **kwargs) -> str:\n",
        "    \"\"\"Make a request to OpenAI models that support structured outputs.\"\"\"\n",
        "    client = OpenAI(\n",
        "        # api_key = ''\n",
        "        )\n",
        "    response = client.beta.chat.completions.parse(\n",
        "        model=model,\n",
        "        temperature=0,\n",
        "        messages=[\n",
        "            {\"role\": \"system\", \"content\": prompt_system},\n",
        "            {\"role\": \"user\", \"content\": prompt_user}\n",
        "        ],\n",
        "        response_format=Classification\n",
        "    )\n",
        "    return response.choices[0].message.content"
      ]
    },
    {
      "cell_type": "markdown",
      "metadata": {
        "id": "1Jd28bzRYrrm"
      },
      "source": [
        "Now, let's run the function on our example."
      ]
    },
    {
      "cell_type": "code",
      "execution_count": 17,
      "metadata": {
        "id": "mAKgSk4RYwcO"
      },
      "outputs": [
        {
          "name": "stdout",
          "output_type": "stream",
          "text": [
            "{\"fossil_fuel_link\":false,\"org_type\":\"government\",\"explanation\":\"The 'PRESIDENCIA DE LA REPUBLICA' refers to the office of the President of Colombia, which is a government entity. It does not operate as a fossil fuel organization, as it does not engage in exploration, extraction, or any business activities related to fossil fuels. Instead, it is responsible for the administration of the country and its policies, which may include energy policy but does not directly involve fossil fuel operations.\",\"source\":\"https://es.wikipedia.org/wiki/Presidente_de_Colombia\"}\n"
          ]
        }
      ],
      "source": [
        "openai_response = make_request_openai(prompt_system, stitched_text)\n",
        "print(openai_response)"
      ]
    },
    {
      "cell_type": "markdown",
      "metadata": {
        "id": "OonRh1nRZjy1"
      },
      "source": [
        "# Scale up"
      ]
    },
    {
      "cell_type": "markdown",
      "metadata": {
        "id": "ZJc-HjyeZqhZ"
      },
      "source": [
        "We can put the code above into one big function and run it over multiple organisations."
      ]
    },
    {
      "cell_type": "code",
      "execution_count": 18,
      "metadata": {
        "id": "NelSf-csZlJj"
      },
      "outputs": [],
      "source": [
        "def extract_text(urls):\n",
        "    results = []\n",
        "\n",
        "    for url in urls:\n",
        "        print(f\"Scraping {url}...\")\n",
        "        try:\n",
        "            response = requests.get(url, timeout=30, verify=False)  # Note: verify=False is not recommended for production use\n",
        "            response.raise_for_status()  # Raises an HTTPError for bad responses\n",
        "            extracted_text = extract(response.text, output_format=\"markdown\")\n",
        "            results.append((url, extracted_text))\n",
        "        except requests.RequestException as e:\n",
        "            print(f\"Error scraping {url}: {str(e)}\")\n",
        "            results.append((url, f\"Error: {str(e)}\"))\n",
        "\n",
        "    return results\n",
        "\n",
        "# Define OpenAI Structured Outputs rules\n",
        "class OrgType(str, Enum):\n",
        "    company = \"company\"\n",
        "    ngo = \"NGO/non-profit\"\n",
        "    government = \"government\"\n",
        "    media = \"media\"\n",
        "    other = \"other\"\n",
        "\n",
        "class Classification(BaseModel):\n",
        "    fossil_fuel_link: bool = Field(description = \"Is this a fossil fuel organization?\")\n",
        "    org_type: OrgType\n",
        "    explanation: str = Field(description = \"A brief explanation of your decision, in English\")\n",
        "    source: str = Field(description = \"A link to the SINGLE most relevant source that supports your classification\")\n",
        "\n",
        "def make_request_openai(org: str, prompt_user: str, model: str = \"gpt-4o-mini\", **kwargs) -> str:\n",
        "    \"\"\"Make a request to OpenAI models that support structured outputs.\"\"\"\n",
        "\n",
        "    prompt_system = f'''\n",
        "## Instructions\n",
        "\n",
        "You are a researcher investigating whether \"{org}\" is a fossil fuel organization.\n",
        "\n",
        "A fossil fuel organization:\n",
        "- Aims to influence policy or legislation in the interests of fossil fuel companies and shareholders.\n",
        "- Has significant business activities in exploration, extraction, refining, trading, specialized transportation of oil, gas, coal, or blue hydrogen, or sale of electricity derived from them.\n",
        "- Publicly declares involvement in fossil fuels or promotes significant investments in such companies.\n",
        "- Can be an NGO, foundation, think tank, or lobbying group funded by fossil fuel companies or their executives.\n",
        "- May include larger companies that own fossil fuel subsidiaries (e.g., BASF owning Wintershall).\n",
        "- Includes companies selling energy from fossil fuels (e.g., Octopus Energy).\n",
        "- Companies that currently produce or sell fossil fuels, regardless of their plans to divest in the future.\n",
        "\n",
        "A fossil fuel organization is NOT:\n",
        "- NGOs campaigning AGAINST fossil fuels (e.g., Greenpeace).\n",
        "- Investors, pension funds, universities, or banks that invest in fossil fuel companies.\n",
        "- Consulting companies that work with a wide range of clients which may include fossil fuel companies.\n",
        "- Governments that benefit from fossil fuel production.\n",
        "- Government departments facilitating, regulating or taxing fossil fuel companies.\n",
        "- Media organisations that report on the activities of fossil fuel companies.\n",
        "\n",
        "Analyze the following text extracted from an internet search for \"{org}\" to determine if it is a fossil fuel organization. Use common sense and respond only in English, even if the original content is not in English.\n",
        "'''\n",
        "\n",
        "    client = OpenAI(\n",
        "        # api_key = ''\n",
        "        )\n",
        "    response = client.beta.chat.completions.parse(\n",
        "        model=model,\n",
        "        temperature=0,\n",
        "        messages=[\n",
        "            {\"role\": \"system\", \"content\": prompt_system},\n",
        "            {\"role\": \"user\", \"content\": prompt_user}\n",
        "        ],\n",
        "        response_format=Classification\n",
        "    )\n",
        "    return response.choices[0].message.content\n",
        "\n",
        "def classify_org(org: str, nominator: str):\n",
        "    search = f'(\"{org}\" {nominator}) OR (\"{org}\") OR ({org})'\n",
        "    search += ' oil OR gas OR coal'\n",
        "\n",
        "    results = DDGS().text(search, max_results=5)\n",
        "\n",
        "    texts = extract_text([result['href'] for result in results if 'href' in result])\n",
        "    texts = [(url, text) for url, text in texts if text is not None] # remove empty scrapes\n",
        "\n",
        "    stitched_text = \"\\n\\n\".join(f\"URL: {url}\\n{text}\" for url, text in texts).strip()\n",
        "\n",
        "    openai_response = make_request_openai(org, stitched_text)\n",
        "\n",
        "    return openai_response"
      ]
    },
    {
      "cell_type": "code",
      "execution_count": 19,
      "metadata": {
        "id": "-fgR-Ge-bLgr"
      },
      "outputs": [],
      "source": [
        "def apply_classify_org(df):\n",
        "    df['classification'] = df.apply(lambda row: classify_org(row['organization'], row['nominator']), axis=1)\n",
        "    df['classification'] = df['classification'].apply(json.loads)\n",
        "    df = pd.concat([df.drop(['classification'], axis=1), df['classification'].apply(pd.Series)], axis=1)\n",
        "\n",
        "    return df"
      ]
    },
    {
      "cell_type": "markdown",
      "metadata": {
        "id": "Rm4LvIJvaVsz"
      },
      "source": [
        "Now let's run this on our sample of organisations."
      ]
    },
    {
      "cell_type": "code",
      "execution_count": 20,
      "metadata": {
        "colab": {
          "base_uri": "https://localhost:8080/"
        },
        "id": "EPOyJWn4bjSK",
        "outputId": "87573f71-ee28-4b5b-97f9-23a86fd8ed88"
      },
      "outputs": [
        {
          "name": "stdout",
          "output_type": "stream",
          "text": [
            "Scraping http://presidencia.gov.co/...\n",
            "Scraping https://www.youtube.com/@infopresidencia...\n",
            "Scraping http://web.presidencia.gov.co/...\n",
            "Scraping https://www.latimes.com/world-nation/story/2024-10-08/colombian-electoral-authorities-open-investigation-against-president-petros-2022-campaign...\n",
            "Error scraping https://www.latimes.com/world-nation/story/2024-10-08/colombian-electoral-authorities-open-investigation-against-president-petros-2022-campaign: 403 Client Error: Forbidden for url: https://www.latimes.com/world-nation/story/2024-10-08/colombian-electoral-authorities-open-investigation-against-president-petros-2022-campaign\n",
            "Scraping https://es.wikipedia.org/wiki/Presidente_de_Colombia...\n",
            "Scraping https://www.ridetocop28.com/...\n",
            "Scraping https://www.reuters.com/world/us/biden-pledges-end-gas-powered-federal-vehicle-purchases-by-2035-2021-12-08/...\n",
            "Error scraping https://www.reuters.com/world/us/biden-pledges-end-gas-powered-federal-vehicle-purchases-by-2035-2021-12-08/: 401 Client Error: HTTP Forbidden for url: https://www.reuters.com/world/us/biden-pledges-end-gas-powered-federal-vehicle-purchases-by-2035-2021-12-08/\n",
            "Scraping https://www.nytimes.com/2024/10/10/climate/natural-gas-utility-climate-change-lawsuit.html...\n",
            "Error scraping https://www.nytimes.com/2024/10/10/climate/natural-gas-utility-climate-change-lawsuit.html: 403 Client Error: Forbidden for url: https://www.nytimes.com/2024/10/10/climate/natural-gas-utility-climate-change-lawsuit.html\n",
            "Scraping https://www.cop28.com/en/news/2023/12/Oil-Gas-Decarbonization-Charter-launched-to--accelerate-climate-action...\n",
            "Error scraping https://www.cop28.com/en/news/2023/12/Oil-Gas-Decarbonization-Charter-launched-to--accelerate-climate-action: 403 Client Error: Forbidden for url: https://www.cop28.com/en/news/2023/12/Oil-Gas-Decarbonization-Charter-launched-to--accelerate-climate-action\n",
            "Scraping https://www.hrw.org/news/2024/10/10/cop29-host-country-agreement-lacks-rights-protections...\n",
            "Scraping https://www.eia.gov/energyexplained/what-is-energy/sources-of-energy.php...\n",
            "Scraping https://ourworldindata.org/safest-sources-of-energy...\n",
            "Scraping https://ourworldindata.org/energy-mix...\n",
            "Scraping https://chem.libretexts.org/Bookshelves/General_Chemistry/Map:_A_Molecular_Approach_(Tro)/05:_Gases/5.03:_The_Simple_Gas_Laws-_Boyles_Law_Charless_Law_and_Avogadros_Law...\n",
            "Scraping https://www.energy.gov/energy-sources...\n",
            "Error scraping https://www.energy.gov/energy-sources: 403 Client Error: Forbidden for url: https://www.energy.gov/energy-sources\n",
            "Scraping https://www.lorientlejour.com/...\n",
            "Error scraping https://www.lorientlejour.com/: 403 Client Error: Forbidden for url: https://www.lorientlejour.com/\n",
            "Scraping https://www.lorientlejour.com/dernieres-infos...\n",
            "Error scraping https://www.lorientlejour.com/dernieres-infos: 403 Client Error: Forbidden for url: https://www.lorientlejour.com/dernieres-infos\n",
            "Scraping https://en.wikipedia.org/wiki/L'Orient-Le_Jour...\n",
            "Scraping https://today.lorientlejour.com/live-news...\n",
            "Error scraping https://today.lorientlejour.com/live-news: 403 Client Error: Forbidden for url: https://today.lorientlejour.com/live-news\n",
            "Scraping https://today.lorientlejour.com/article/1236596/launching-lorient-today-independent-journalism-at-a-critical-juncture-for-lebanon.html...\n",
            "Error scraping https://today.lorientlejour.com/article/1236596/launching-lorient-today-independent-journalism-at-a-critical-juncture-for-lebanon.html: 403 Client Error: Forbidden for url: https://today.lorientlejour.com/article/1236596/launching-lorient-today-independent-journalism-at-a-critical-juncture-for-lebanon.html\n",
            "Scraping https://www.tastingtable.com/1529368/history-of-tamales-worlds-oldest/...\n",
            "Scraping https://tastesbetterfromscratch.com/mexican-tamales/...\n",
            "Error scraping https://tastesbetterfromscratch.com/mexican-tamales/: 403 Client Error: Forbidden for url: https://tastesbetterfromscratch.com/mexican-tamales/\n",
            "Scraping https://unfccc.int/news/cop28-agreement-signals-beginning-of-the-end-of-the-fossil-fuel-era...\n",
            "Scraping https://www.un.org/en/climatechange/cop28...\n",
            "Error scraping https://www.un.org/en/climatechange/cop28: 403 Client Error: Forbidden for url: https://www.un.org/en/climatechange/cop28\n",
            "Scraping https://thenovicechefblog.com/homemade-tamales/...\n",
            "Error scraping https://thenovicechefblog.com/homemade-tamales/: 403 Client Error: Forbidden for url: https://thenovicechefblog.com/homemade-tamales/\n"
          ]
        }
      ],
      "source": [
        "cop_orgs_classified = apply_classify_org(cop_orgs)"
      ]
    },
    {
      "cell_type": "code",
      "execution_count": 27,
      "metadata": {},
      "outputs": [
        {
          "data": {
            "text/html": [
              "<div>\n",
              "<style scoped>\n",
              "    .dataframe tbody tr th:only-of-type {\n",
              "        vertical-align: middle;\n",
              "    }\n",
              "\n",
              "    .dataframe tbody tr th {\n",
              "        vertical-align: top;\n",
              "    }\n",
              "\n",
              "    .dataframe thead th {\n",
              "        text-align: right;\n",
              "    }\n",
              "</style>\n",
              "<table border=\"1\" class=\"dataframe\">\n",
              "  <thead>\n",
              "    <tr style=\"text-align: right;\">\n",
              "      <th></th>\n",
              "      <th>nominator</th>\n",
              "      <th>organization</th>\n",
              "      <th>fossil_fuel_link</th>\n",
              "      <th>org_type</th>\n",
              "      <th>explanation</th>\n",
              "      <th>source</th>\n",
              "    </tr>\n",
              "  </thead>\n",
              "  <tbody>\n",
              "    <tr>\n",
              "      <th>30229</th>\n",
              "      <td>Colombia</td>\n",
              "      <td>PRESIDENCIA DE LA REPUBLICA</td>\n",
              "      <td>False</td>\n",
              "      <td>government</td>\n",
              "      <td>The 'PRESIDENCIA DE LA REPUBLICA' refers to th...</td>\n",
              "      <td>https://es.wikipedia.org/wiki/Presidente_de_Co...</td>\n",
              "    </tr>\n",
              "    <tr>\n",
              "      <th>74167</th>\n",
              "      <td>Host Country Badges - COP 28</td>\n",
              "      <td>Mazi Mobility</td>\n",
              "      <td>False</td>\n",
              "      <td>other</td>\n",
              "      <td>The text does not provide any information abou...</td>\n",
              "      <td>N/A</td>\n",
              "    </tr>\n",
              "    <tr>\n",
              "      <th>61263</th>\n",
              "      <td>Fresh Energy</td>\n",
              "      <td>Fresh Energy</td>\n",
              "      <td>False</td>\n",
              "      <td>NGO/non-profit</td>\n",
              "      <td>Fresh Energy is focused on promoting clean ene...</td>\n",
              "      <td>https://www.freshenergy.org/</td>\n",
              "    </tr>\n",
              "    <tr>\n",
              "      <th>79561</th>\n",
              "      <td>L'Orient-Le Jour newspaper</td>\n",
              "      <td>L'Orient-Le Jour newspaper</td>\n",
              "      <td>False</td>\n",
              "      <td>media</td>\n",
              "      <td>L'Orient-Le Jour is a daily newspaper that cov...</td>\n",
              "      <td>https://en.wikipedia.org/wiki/L'Orient-Le_Jour</td>\n",
              "    </tr>\n",
              "    <tr>\n",
              "      <th>73802</th>\n",
              "      <td>Host Country Badges - COP 28</td>\n",
              "      <td>TAMALE</td>\n",
              "      <td>False</td>\n",
              "      <td>other</td>\n",
              "      <td>The text discusses the history and cultural si...</td>\n",
              "      <td>https://www.tastingtable.com/1529368/history-o...</td>\n",
              "    </tr>\n",
              "  </tbody>\n",
              "</table>\n",
              "</div>"
            ],
            "text/plain": [
              "                          nominator                 organization  \\\n",
              "30229                      Colombia  PRESIDENCIA DE LA REPUBLICA   \n",
              "74167  Host Country Badges - COP 28                Mazi Mobility   \n",
              "61263                  Fresh Energy                 Fresh Energy   \n",
              "79561    L'Orient-Le Jour newspaper   L'Orient-Le Jour newspaper   \n",
              "73802  Host Country Badges - COP 28                       TAMALE   \n",
              "\n",
              "       fossil_fuel_link        org_type  \\\n",
              "30229             False      government   \n",
              "74167             False           other   \n",
              "61263             False  NGO/non-profit   \n",
              "79561             False           media   \n",
              "73802             False           other   \n",
              "\n",
              "                                             explanation  \\\n",
              "30229  The 'PRESIDENCIA DE LA REPUBLICA' refers to th...   \n",
              "74167  The text does not provide any information abou...   \n",
              "61263  Fresh Energy is focused on promoting clean ene...   \n",
              "79561  L'Orient-Le Jour is a daily newspaper that cov...   \n",
              "73802  The text discusses the history and cultural si...   \n",
              "\n",
              "                                                  source  \n",
              "30229  https://es.wikipedia.org/wiki/Presidente_de_Co...  \n",
              "74167                                                N/A  \n",
              "61263                       https://www.freshenergy.org/  \n",
              "79561     https://en.wikipedia.org/wiki/L'Orient-Le_Jour  \n",
              "73802  https://www.tastingtable.com/1529368/history-o...  "
            ]
          },
          "execution_count": 27,
          "metadata": {},
          "output_type": "execute_result"
        }
      ],
      "source": [
        "cop_orgs_classified"
      ]
    },
    {
      "cell_type": "code",
      "execution_count": 26,
      "metadata": {
        "colab": {
          "base_uri": "https://localhost:8080/",
          "height": 125
        },
        "id": "gBycL7EQdlbb",
        "outputId": "8d1f14dd-efd3-4a44-dbd8-5c3c81d905d2"
      },
      "outputs": [],
      "source": [
        "cop_orgs_classified.to_csv('../data/cop_orgs_classified.csv')"
      ]
    },
    {
      "cell_type": "markdown",
      "metadata": {
        "id": "gi9oRpohdyI6"
      },
      "source": [
        "# What to improve?"
      ]
    },
    {
      "cell_type": "markdown",
      "metadata": {
        "id": "KC-4gftBgRIz"
      },
      "source": [
        "There are lots of things we can improve about this process. Here are some ideas:\n",
        "\n",
        "- DuckDuckGo is free and good to use. However, their API isn't meant to be used to this way and will often deny requests. It also doesn't return the best results. I recomment switching to Google.\n",
        "- Try other models! If you find that gpt-4o-mini is insufficient, you can use the smarter gpt-4o.\n",
        "- If you use other models without Structured Output support, you can use Guardrails to [validate their output](https://ddj.nicu.md/ai/python-validation.html).\n",
        "- Cache things! Don't start over if something goes wrong, save the search results, scrapes and LLM outputs and continue where you left off.\n",
        "- You can use Python's [multithreading](https://docs.python.org/3/library/threading.html) to run multiple classifications in parallel, significantly speeding up the process.\n",
        "- LLMs are still dumb and shouldn't be trusted. Manually verify the classifications if you're going to publish the results."
      ]
    }
  ],
  "metadata": {
    "colab": {
      "provenance": []
    },
    "kernelspec": {
      "display_name": "base",
      "language": "python",
      "name": "python3"
    },
    "language_info": {
      "codemirror_mode": {
        "name": "ipython",
        "version": 3
      },
      "file_extension": ".py",
      "mimetype": "text/x-python",
      "name": "python",
      "nbconvert_exporter": "python",
      "pygments_lexer": "ipython3",
      "version": "3.12.4"
    }
  },
  "nbformat": 4,
  "nbformat_minor": 0
}
