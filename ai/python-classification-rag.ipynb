{
  "cells": [
    {
      "cell_type": "raw",
      "id": "c250529d-3381-4cf1-b9e1-da590fa12691",
      "metadata": {
        "vscode": {
          "languageId": "raw"
        }
      },
      "source": [
        "---\n",
        "title: \"Identifying fossil fuel lobbyists with AI\"\n",
        "href: python-classification-rag\n",
        "execute: \n",
        "  cache: true\n",
        "---"
      ]
    },
    {
      "cell_type": "markdown",
      "metadata": {
        "id": "fsv4jGuU89rX"
      },
      "source": [
        "<a target=\"_blank\" href=\"https://colab.research.google.com/github/nicucalcea/ddj-wiki/blob/main/ai/python-classification-rag.ipynb\">\n",
        "  <img src=\"https://colab.research.google.com/assets/colab-badge.svg\" alt=\"Open In Colab\"/>\n",
        "</a>\n",
        "<a target=\"_blank\" href=\"https://github.com/nicucalcea/ddj-wiki/blob/main/ai/python-classification-rag.ipynb\">\n",
        "  <img src=\"https://badgen.net/badge/icon/github?icon=github&label=View%20code\" alt=\"View on GitHub\"/>\n",
        "</a>"
      ]
    },
    {
      "cell_type": "markdown",
      "metadata": {
        "id": "vO-mZV3OGrm_"
      },
      "source": [
        "Without looking it up, would you know if the \"Clean Resource Innovation Network\" is an oil and gas lobbying organisation? Lobbyists often hide under unintuitive or misleading affiliations that obscure their origins. The work of uncovering their identities can be time-consuming and challenging.\n",
        "\n",
        "Kick Big Polluters Out (of which Global Witness is a member) have been doing this work every year. We [found 2,456 fossil fuel lobbyists](https://kickbigpollutersout.org/articles/release-record-number-fossil-fuel-lobbyists-attend-cop28) who have been granted access to the COP28 summit in Dubai last year.\n",
        "\n",
        "This kind of work involves a lot of research and manual work. Are there ways to speed this work up?\n",
        "\n",
        "This workshop will outline an approach to using web scraping and Large Language Models (LLMs), like those powering ChatGPT, to systematically identify organisations that are affiliated with the fossil fuel industry. These techniques could also be adapted to other climate projects, such as identifying climate disinformation.\n",
        "\n",
        "The tutorial will:\n",
        "\n",
        "- Introduce us to the data we will be working with\n",
        "- Show how to scrape factual context from the web\n",
        "- Show how to use a Large Language Model to classify organisations"
      ]
    },
    {
      "cell_type": "markdown",
      "metadata": {
        "id": "Nd-jWkBqd8jH"
      },
      "source": [
        "## Install and load libraries"
      ]
    },
    {
      "cell_type": "code",
      "execution_count": null,
      "metadata": {
        "id": "Jbn2VKx1gj4W"
      },
      "outputs": [],
      "source": [
        "%pip install duckduckgo_search\n",
        "%pip install trafilatura\n",
        "%pip install openai\n",
        "%pip install pydantic\n",
        "%pip install pandas"
      ]
    },
    {
      "cell_type": "code",
      "execution_count": null,
      "metadata": {},
      "outputs": [],
      "source": [
        "# %pip install --upgrade duckduckgo-search"
      ]
    },
    {
      "cell_type": "code",
      "execution_count": 1,
      "metadata": {
        "id": "lisUctaVd_K8"
      },
      "outputs": [],
      "source": [
        "import requests\n",
        "import os\n",
        "import pandas as pd\n",
        "from duckduckgo_search import DDGS\n",
        "from trafilatura import extract\n",
        "from enum import Enum\n",
        "from pydantic import BaseModel, Field\n",
        "from openai import OpenAI\n",
        "import json"
      ]
    },
    {
      "cell_type": "markdown",
      "metadata": {
        "id": "Z04YaWN5LEsy"
      },
      "source": [
        "## Prep data"
      ]
    },
    {
      "cell_type": "markdown",
      "metadata": {
        "id": "nUhVtwuzLHim"
      },
      "source": [
        "The [UNFCCC website](https://unfccc.int/documents/634503) published an Excel sheet of COP28 participants. Let's download it to our local project."
      ]
    },
    {
      "cell_type": "code",
      "execution_count": 2,
      "metadata": {},
      "outputs": [],
      "source": [
        "cop_file = 'data/plop28.xlsx'"
      ]
    },
    {
      "cell_type": "code",
      "execution_count": null,
      "metadata": {},
      "outputs": [],
      "source": [
        "headers = {\n",
        "    'User-Agent': 'Mozilla/5.0 (Windows NT 10.0; Win64; x64; rv:131.0) Gecko/20100101 Firefox/131.0'\n",
        "}\n",
        "\n",
        "url = \"https://unfccc.int/sites/default/files/resource/PLOP%20COP28_on-site.xlsx\"\n",
        "\n",
        "response = requests.get(url, headers=headers)\n",
        "\n",
        "if response.status_code == 200:\n",
        "    # Check if the 'data' folder exists, create it if it doesn't\n",
        "    if not os.path.exists(\"data\"):\n",
        "        os.makedirs(\"data\")\n",
        "    \n",
        "    with open(\"data/plop28.xlsx\", \"wb\") as file:\n",
        "        file.write(response.content)\n",
        "    print(\"File downloaded successfully.\")\n",
        "else:\n",
        "    print(f\"Failed to download file. Status code: {response.status_code}\")\n"
      ]
    },
    {
      "cell_type": "markdown",
      "metadata": {
        "id": "9Y-cuyBNMYhf"
      },
      "source": [
        "The participants are spread across multiple sheets, we need to read them in sparately and bind them together."
      ]
    },
    {
      "cell_type": "code",
      "execution_count": 3,
      "metadata": {
        "id": "K_lCC1WlFkTE"
      },
      "outputs": [],
      "source": [
        "# Create an empty list to store the dataframes from each sheet\n",
        "cop_participants = []\n",
        "\n",
        "# Read the Excel file\n",
        "xls = pd.ExcelFile(cop_file)\n",
        "\n",
        "# Iterate through the sheets and append the dataframes to the list\n",
        "for sheet_name in xls.sheet_names:\n",
        "  df = pd.read_excel(cop_file, sheet_name=sheet_name)\n",
        "  cop_participants.append(df)\n",
        "\n",
        "# Concatenate the dataframes into a single dataframe\n",
        "cop_participants = pd.concat(cop_participants, ignore_index=True)"
      ]
    },
    {
      "cell_type": "code",
      "execution_count": 24,
      "metadata": {
        "colab": {
          "base_uri": "https://localhost:8080/"
        },
        "id": "ix0PeBnFQwgg",
        "outputId": "798f38f8-f733-4f4a-a948-978b1734eb19"
      },
      "outputs": [
        {
          "data": {
            "text/html": [
              "<div>\n",
              "<style scoped>\n",
              "    .dataframe tbody tr th:only-of-type {\n",
              "        vertical-align: middle;\n",
              "    }\n",
              "\n",
              "    .dataframe tbody tr th {\n",
              "        vertical-align: top;\n",
              "    }\n",
              "\n",
              "    .dataframe thead th {\n",
              "        text-align: right;\n",
              "    }\n",
              "</style>\n",
              "<table border=\"1\" class=\"dataframe\">\n",
              "  <thead>\n",
              "    <tr style=\"text-align: right;\">\n",
              "      <th></th>\n",
              "      <th>nominator</th>\n",
              "      <th>name</th>\n",
              "      <th>func_title</th>\n",
              "      <th>department</th>\n",
              "      <th>organization</th>\n",
              "      <th>relation</th>\n",
              "    </tr>\n",
              "  </thead>\n",
              "  <tbody>\n",
              "    <tr>\n",
              "      <th>0</th>\n",
              "      <td>Albania</td>\n",
              "      <td>H.E. Mr. Edi Rama</td>\n",
              "      <td>Prime Minister</td>\n",
              "      <td>Prime Minister Office</td>\n",
              "      <td>Prime Minister Office</td>\n",
              "      <td>Choose not to disclose</td>\n",
              "    </tr>\n",
              "    <tr>\n",
              "      <th>1</th>\n",
              "      <td>Albania</td>\n",
              "      <td>H.E. Ms. Mirela Furxhi</td>\n",
              "      <td>Minister of Tourism and Environment</td>\n",
              "      <td>Ministry of Tourism and Environment</td>\n",
              "      <td>Ministry of Tourism and Environment</td>\n",
              "      <td>Choose not to disclose</td>\n",
              "    </tr>\n",
              "    <tr>\n",
              "      <th>2</th>\n",
              "      <td>Albania</td>\n",
              "      <td>H.E. Ms. Belinda Balluku</td>\n",
              "      <td>Deputy Prime Minister and Minister of Infrastr...</td>\n",
              "      <td>Ministry of Infrastructure and Energy</td>\n",
              "      <td>Ministry of Infrastructure and Energy</td>\n",
              "      <td>Choose not to disclose</td>\n",
              "    </tr>\n",
              "    <tr>\n",
              "      <th>3</th>\n",
              "      <td>Albania</td>\n",
              "      <td>Ms. Lindita Rama</td>\n",
              "      <td>Spouse of the Prime Minister</td>\n",
              "      <td>Not applicable</td>\n",
              "      <td>Not applicable</td>\n",
              "      <td>Choose not to disclose</td>\n",
              "    </tr>\n",
              "    <tr>\n",
              "      <th>4</th>\n",
              "      <td>Albania</td>\n",
              "      <td>H.E. Mr. Ridi Kurtezi</td>\n",
              "      <td>Ambassador of the Republic of Albania to the UAE</td>\n",
              "      <td>Albanian Embassy in United Arab Emirates</td>\n",
              "      <td>Albanian Embassy in United Arab Emirates</td>\n",
              "      <td>Choose not to disclose</td>\n",
              "    </tr>\n",
              "  </tbody>\n",
              "</table>\n",
              "</div>"
            ],
            "text/plain": [
              "  nominator                      name  \\\n",
              "0   Albania         H.E. Mr. Edi Rama   \n",
              "1   Albania    H.E. Ms. Mirela Furxhi   \n",
              "2   Albania  H.E. Ms. Belinda Balluku   \n",
              "3   Albania          Ms. Lindita Rama   \n",
              "4   Albania     H.E. Mr. Ridi Kurtezi   \n",
              "\n",
              "                                          func_title  \\\n",
              "0                                     Prime Minister   \n",
              "1                Minister of Tourism and Environment   \n",
              "2  Deputy Prime Minister and Minister of Infrastr...   \n",
              "3                       Spouse of the Prime Minister   \n",
              "4   Ambassador of the Republic of Albania to the UAE   \n",
              "\n",
              "                                 department  \\\n",
              "0                     Prime Minister Office   \n",
              "1       Ministry of Tourism and Environment   \n",
              "2     Ministry of Infrastructure and Energy   \n",
              "3                            Not applicable   \n",
              "4  Albanian Embassy in United Arab Emirates   \n",
              "\n",
              "                               organization                relation  \n",
              "0                     Prime Minister Office  Choose not to disclose  \n",
              "1       Ministry of Tourism and Environment  Choose not to disclose  \n",
              "2     Ministry of Infrastructure and Energy  Choose not to disclose  \n",
              "3                            Not applicable  Choose not to disclose  \n",
              "4  Albanian Embassy in United Arab Emirates  Choose not to disclose  "
            ]
          },
          "execution_count": 24,
          "metadata": {},
          "output_type": "execute_result"
        }
      ],
      "source": [
        "cop_participants.head()"
      ]
    },
    {
      "cell_type": "markdown",
      "metadata": {
        "id": "6FWwysZhMoZo"
      },
      "source": [
        "This list contains all participants registered to attend the 2023 United Nations Climate Change Conference or Conference of the Parties (COP28).\n",
        "\n",
        "We're not interested in the individuals, just the organisations they represent. Classifying individuals is a much more complex task that doesn't work well with this process. Additionally, it would be too difficult to verify the results.\n",
        "\n",
        "Let's extract the organisations. We'll only keep a random 20 rows for this example, you can remove the `sample` function to process the entire dataset."
      ]
    },
    {
      "cell_type": "code",
      "execution_count": 22,
      "metadata": {
        "colab": {
          "base_uri": "https://localhost:8080/"
        },
        "id": "5pO_hcqNM8Eo",
        "outputId": "4263dd80-f0a1-4365-fa4e-949651d32f8d"
      },
      "outputs": [
        {
          "data": {
            "text/html": [
              "<div>\n",
              "<style scoped>\n",
              "    .dataframe tbody tr th:only-of-type {\n",
              "        vertical-align: middle;\n",
              "    }\n",
              "\n",
              "    .dataframe tbody tr th {\n",
              "        vertical-align: top;\n",
              "    }\n",
              "\n",
              "    .dataframe thead th {\n",
              "        text-align: right;\n",
              "    }\n",
              "</style>\n",
              "<table border=\"1\" class=\"dataframe\">\n",
              "  <thead>\n",
              "    <tr style=\"text-align: right;\">\n",
              "      <th></th>\n",
              "      <th>organization</th>\n",
              "    </tr>\n",
              "  </thead>\n",
              "  <tbody>\n",
              "    <tr>\n",
              "      <th>37190</th>\n",
              "      <td>IUCN Regional Office for West Asia</td>\n",
              "    </tr>\n",
              "    <tr>\n",
              "      <th>33297</th>\n",
              "      <td>The Climate Reality Project Philippines</td>\n",
              "    </tr>\n",
              "    <tr>\n",
              "      <th>18860</th>\n",
              "      <td>Seychelles Meteorological Authorithy</td>\n",
              "    </tr>\n",
              "    <tr>\n",
              "      <th>7675</th>\n",
              "      <td>Ministry of Local Government, Lands, Regional ...</td>\n",
              "    </tr>\n",
              "    <tr>\n",
              "      <th>23338</th>\n",
              "      <td>Chairperson s Secretariat</td>\n",
              "    </tr>\n",
              "  </tbody>\n",
              "</table>\n",
              "</div>"
            ],
            "text/plain": [
              "                                            organization\n",
              "37190                 IUCN Regional Office for West Asia\n",
              "33297            The Climate Reality Project Philippines\n",
              "18860               Seychelles Meteorological Authorithy\n",
              "7675   Ministry of Local Government, Lands, Regional ...\n",
              "23338                          Chairperson s Secretariat"
            ]
          },
          "execution_count": 22,
          "metadata": {},
          "output_type": "execute_result"
        }
      ],
      "source": [
        "cop_orgs = cop_participants[['organization']].drop_duplicates().sample(5)\n",
        "cop_orgs"
      ]
    },
    {
      "cell_type": "markdown",
      "metadata": {},
      "source": [
        "## Search"
      ]
    },
    {
      "cell_type": "markdown",
      "metadata": {},
      "source": [
        "Large Language Models are prone to [hallucinations](https://en.wikipedia.org/wiki/Hallucination_(artificial_intelligence)). If you ask an LLM a question it doesn't know the answer to, [it will confidently make up a plausible-sounding answer](https://ddj.nicu.md/ai/) that is completely wrong. This is particularly the case with less known organisations that wouldn't feature promionently in the training data.\n",
        "\n",
        "Let's ask ChatGPT if \"Clean Resource Innovation Network\" is a fossil fuel organisation or not."
      ]
    },
    {
      "cell_type": "code",
      "execution_count": 23,
      "metadata": {},
      "outputs": [],
      "source": [
        "org = \"Clean Resource Innovation Network\""
      ]
    },
    {
      "cell_type": "code",
      "execution_count": 7,
      "metadata": {},
      "outputs": [],
      "source": [
        "def make_request_openai_simple(prompt_system: str, prompt_user: str, model: str = \"gpt-4o-mini\", **kwargs) -> str:\n",
        "    client = OpenAI(\n",
        "        # api_key = ''\n",
        "        )\n",
        "    response = client.beta.chat.completions.parse(\n",
        "        model=model,\n",
        "        temperature=0,\n",
        "        messages=[\n",
        "            {\"role\": \"system\", \"content\": prompt_system},\n",
        "            {\"role\": \"user\", \"content\": prompt_user}\n",
        "        ]\n",
        "    )\n",
        "    return response.choices[0].message.content"
      ]
    },
    {
      "cell_type": "code",
      "execution_count": 8,
      "metadata": {},
      "outputs": [
        {
          "data": {
            "text/plain": [
              "'NO'"
            ]
          },
          "execution_count": 8,
          "metadata": {},
          "output_type": "execute_result"
        }
      ],
      "source": [
        "make_request_openai_simple(prompt_system=\"You are an AI whose job it is to help researchers identify fossil fuel organisations\",\n",
        "                           prompt_user=f\"Is ${org} a fossil fuel organisation? Respond with YES or NO\")"
      ]
    },
    {
      "cell_type": "markdown",
      "metadata": {},
      "source": [
        "One way to minimise (but not completely eliminate) hallucinations is Retrieval-Augmented Generation (RAG). Very simply, this means providing the AI with some additional factual context for the question you're asking.\n",
        "\n",
        "One example comes from The San Francisco Chronicle, who launched [a chatbot that answers questions about Kamala Harris](https://www.sfchronicle.com/projects/2024/kamala-harris-election-questions/).\n",
        "\n",
        "In our case, we'll provide the AI with relevant search results related to our organisation so that it knows who we're asking about.\n",
        "\n",
        "We'll use DuckDuckGo because it has a free API. For better results, you can use the Google API or a [SERP API](https://developers.oxylabs.io/scraper-apis/serp-scraper-api/google/search)."
      ]
    },
    {
      "cell_type": "markdown",
      "metadata": {
        "id": "bfnNL0Lz-CAm"
      },
      "source": [
        "Let's search for the organisation and extract the first 5 results."
      ]
    },
    {
      "cell_type": "code",
      "execution_count": 9,
      "metadata": {
        "colab": {
          "base_uri": "https://localhost:8080/"
        },
        "id": "hqns4x4ZOlON",
        "outputId": "9e761841-40d6-4b70-c874-2c99f9e925d0"
      },
      "outputs": [
        {
          "name": "stdout",
          "output_type": "stream",
          "text": [
            "\"Clean Resource Innovation Network\" oil gas coal\n"
          ]
        },
        {
          "data": {
            "text/plain": [
              "[{'title': 'Clean Resource Innovation Network',\n",
              "  'href': 'https://www.cleanresourceinnovation.com/',\n",
              "  'body': 'The Clean Resource Innovation Network (CRIN) is a pan-Canadian network founded to enable cleaner energy development by commercializing and adopting technologies for the oil and gas industry. We bring together diverse expertise from industry, entrepreneurs, investors, academia, governments, and many others to enable solutions that improve the ...'},\n",
              " {'title': '17 new technologies funded by CRIN competition to address economic ...',\n",
              "  'href': 'https://energynow.ca/2022/03/17-new-technologies-funded-by-crin-competition-to-address-economic-challenges-of-canadas-oil-and-gas-industry/',\n",
              "  'body': \"March 9, 2022 CALGARY, Alberta - Clean Resource Innovation Network (CRIN) Today CRIN is announcing funding of over $44 million CAD for 17 projects identified through its Reducing Environmental Footprint oil and gas technology competition. This brings the total investment through three competitions to $80 million. CRIN's competitions are designed to…\"},\n",
              " {'title': 'CRIN Funds an Additional Nineteen Projects through the Oil - GlobeNewswire',\n",
              "  'href': 'https://www.globenewswire.com/news-release/2023/11/03/2773454/0/en/CRIN-Funds-an-Additional-Nineteen-Projects-through-the-Oil-Gas-Technology-Competitions.html',\n",
              "  'body': 'The Clean Resource Innovation Network (CRIN) is proud to announce the funding of nineteen (19) additional high-impact projects, totaling $16.1 million CAD in support. With this new commitment ...'},\n",
              " {'title': 'New technologies identified for funding by CRIN competitions will ...',\n",
              "  'href': 'https://energynow.ca/2022/01/new-technologies-identified-for-funding-by-crin-competitions-will-enable-emissions-reduction-and-improve-safety-in-oil-and-gas/',\n",
              "  'body': \"CALGARY, Alberta, Jan. 26, 2022 (GLOBE NEWSWIRE) -- Clean Resource Innovation Network (CRIN) Achieving CRIN's goal of reducing 100 megatonnes of CO2 equivalent (CO2e) emissions from producing Canada's oil and gas resources by 2033 is within reach! Today, CRIN is announcing the first projects identified for funding awards through CRIN's $80…\"},\n",
              " {'title': 'Clean Resource Innovation Network (CRIN) on LinkedIn: Oil & Gas ...',\n",
              "  'href': 'https://www.linkedin.com/posts/crin_oil-gas-cleantech-challenge-activity-7231359278865952768-q2m_',\n",
              "  'body': 'The 2024 Colorado Oil & Gas Cleantech Challenge, ... Clean Resource Innovation Network (CRIN) 7,102 followers 2d Report this post The 2024 Colorado Oil & Gas Cleantech Challenge, a product ...'}]"
            ]
          },
          "execution_count": 9,
          "metadata": {},
          "output_type": "execute_result"
        }
      ],
      "source": [
        "search = f'\"{org}\" oil gas coal'\n",
        "print(search)\n",
        "\n",
        "results = DDGS().text(search, max_results=5)\n",
        "results"
      ]
    },
    {
      "cell_type": "markdown",
      "metadata": {
        "id": "gQ8RuuUtRLRM"
      },
      "source": [
        "## Scrape search results"
      ]
    },
    {
      "cell_type": "markdown",
      "metadata": {
        "id": "7md6GzFU-KJn"
      },
      "source": [
        "Now, we want to extract the text from each of those URLs. We'll use [Trafilatura](https://github.com/adbar/trafilatura), a library that will help us extract the main text without headers, footers and other irrelevant text."
      ]
    },
    {
      "cell_type": "code",
      "execution_count": 10,
      "metadata": {
        "id": "z4MoJ3M7ASIa"
      },
      "outputs": [],
      "source": [
        "def extract_text(urls):\n",
        "    results = []\n",
        "\n",
        "    for url in urls:\n",
        "        print(f\"Scraping {url}...\")\n",
        "        try:\n",
        "            response = requests.get(url, timeout=30, verify=False)  # Note: verify=False is not recommended for production use\n",
        "            response.raise_for_status()  # Raises an HTTPError for bad responses\n",
        "            extracted_text = extract(response.text, output_format=\"markdown\")\n",
        "            results.append((url, extracted_text))\n",
        "        except requests.RequestException as e:\n",
        "            print(f\"Error scraping {url}: {str(e)}\")\n",
        "            results.append((url, f\"Error: {str(e)}\"))\n",
        "\n",
        "    return results"
      ]
    },
    {
      "cell_type": "code",
      "execution_count": 11,
      "metadata": {
        "colab": {
          "base_uri": "https://localhost:8080/",
          "height": 347
        },
        "id": "4k7Y36ARAxED",
        "outputId": "00496a96-727a-4bca-afbf-c0c8cde94754"
      },
      "outputs": [
        {
          "name": "stdout",
          "output_type": "stream",
          "text": [
            "Scraping https://www.cleanresourceinnovation.com/...\n",
            "Scraping https://energynow.ca/2022/03/17-new-technologies-funded-by-crin-competition-to-address-economic-challenges-of-canadas-oil-and-gas-industry/...\n",
            "Error scraping https://energynow.ca/2022/03/17-new-technologies-funded-by-crin-competition-to-address-economic-challenges-of-canadas-oil-and-gas-industry/: 403 Client Error: Forbidden for url: https://energynow.ca/2022/03/17-new-technologies-funded-by-crin-competition-to-address-economic-challenges-of-canadas-oil-and-gas-industry/\n",
            "Scraping https://www.globenewswire.com/news-release/2023/11/03/2773454/0/en/CRIN-Funds-an-Additional-Nineteen-Projects-through-the-Oil-Gas-Technology-Competitions.html...\n",
            "Scraping https://energynow.ca/2022/01/new-technologies-identified-for-funding-by-crin-competitions-will-enable-emissions-reduction-and-improve-safety-in-oil-and-gas/...\n",
            "Error scraping https://energynow.ca/2022/01/new-technologies-identified-for-funding-by-crin-competitions-will-enable-emissions-reduction-and-improve-safety-in-oil-and-gas/: 403 Client Error: Forbidden for url: https://energynow.ca/2022/01/new-technologies-identified-for-funding-by-crin-competitions-will-enable-emissions-reduction-and-improve-safety-in-oil-and-gas/\n",
            "Scraping https://www.linkedin.com/posts/crin_oil-gas-cleantech-challenge-activity-7231359278865952768-q2m_...\n"
          ]
        }
      ],
      "source": [
        "# Run the function\n",
        "texts = extract_text([result['href'] for result in results if 'href' in result])\n",
        "texts = [(url, text) for url, text in texts if text is not None] # remove empty scrapes"
      ]
    },
    {
      "cell_type": "code",
      "execution_count": 12,
      "metadata": {
        "id": "wtXtccX8F248"
      },
      "outputs": [],
      "source": [
        "# Paste text together\n",
        "prompt_documents = \"\\n\\n\".join(f\"URL: {url}\\n{text}\" for url, text in texts).strip()"
      ]
    },
    {
      "cell_type": "code",
      "execution_count": 13,
      "metadata": {
        "id": "nmkHoU6nSxy3"
      },
      "outputs": [],
      "source": [
        "prompt_system = 'You will be provided with a collection of documents collected from Google search results. Your task is to determine whether an organization is a fossil fuel company or lobbying group or not.'\n",
        "\n",
        "prompt_instructions= f'''\n",
        "## Instructions\n",
        "\n",
        "You are a researcher investigating whether \"{org}\" is a fossil fuel organization.\n",
        "\n",
        "A fossil fuel organization:\n",
        "- Aims to influence policy or legislation in the interests of fossil fuel companies and shareholders.\n",
        "- Has significant business activities in exploration, extraction, refining, trading, specialized transportation of oil, gas, coal, or blue hydrogen, or sale of electricity derived from them.\n",
        "- Publicly declares involvement in fossil fuels or promotes significant investments in such companies.\n",
        "- Can be an NGO, foundation, think tank, or lobbying group funded by fossil fuel companies or their executives.\n",
        "- May include larger companies that own fossil fuel subsidiaries (e.g., BASF owning Wintershall).\n",
        "- Includes companies selling energy from fossil fuels (e.g., Octopus Energy).\n",
        "- Companies that currently produce or sell fossil fuels, regardless of their plans to divest in the future.\n",
        "\n",
        "Analyze the text above, which was extracted from an internet search for \"{org}\", to determine if it is a fossil fuel organization. Use common sense and respond only in English, even if the original content is not in English.\n",
        "'''"
      ]
    },
    {
      "cell_type": "markdown",
      "metadata": {
        "id": "_riBT8RNSUsa"
      },
      "source": [
        "## Send request to LLM"
      ]
    },
    {
      "cell_type": "markdown",
      "metadata": {
        "id": "20pt6-D3V2Vi"
      },
      "source": [
        "There are [various LLMs available](https://ddj.nicu.md/ai/llm-comparison.html), each with different capabilities and costs.\n",
        "\n",
        "For our task, there are a few things we need to consider:\n",
        "\n",
        "- **Performance**: Is the model intelligent enough to understand the task?\n",
        "- **Cost**: If you are running tens of thousands of requests, the cost can add up quickly. Models like Claude 3 Opus quickly become unaffordable.\n",
        "- **Rate limits**: Some platforms impose limits on how many times you can call the API in a given time period (minute, hour, day) and how big the requests can be.\n",
        "- **Other features**: Some models offer additional features like better support for various languages, prompt caching, or structured outputs."
      ]
    },
    {
      "cell_type": "markdown",
      "metadata": {
        "id": "dLJd9swFWveD"
      },
      "source": [
        "We'll use OpenAI's gpt-4o-mini for this classification. One advantage of this particular model is its support for [Structured Outputs](https://openai.com/index/introducing-structured-outputs-in-the-api/). This means you can force the response to follow a certain set of rules.\n",
        "\n",
        "Let's define what we want the output to be."
      ]
    },
    {
      "cell_type": "code",
      "execution_count": 15,
      "metadata": {
        "id": "8aCCEsEHW1il"
      },
      "outputs": [],
      "source": [
        "class Classification(BaseModel):\n",
        "    fossil_fuel_link: bool = Field(description = \"Is this a fossil fuel organization?\")\n",
        "    explanation: str = Field(description = \"A brief explanation of your decision, in English\")\n",
        "    source: str = Field(description = \"A link to the SINGLE most relevant source that supports your classification\")"
      ]
    },
    {
      "cell_type": "markdown",
      "metadata": {
        "id": "AHxaIEwyX57y"
      },
      "source": [
        "Now, let's make the request to OpenAI. First, we define a function like we did before, with a few tweaks."
      ]
    },
    {
      "cell_type": "code",
      "execution_count": 16,
      "metadata": {
        "id": "3PeFjHcNX9aP"
      },
      "outputs": [],
      "source": [
        "def make_request_openai(prompt_system: str, prompt_instructions: str, prompt_documents: str, model: str = \"gpt-4o-mini\", **kwargs) -> str:\n",
        "    \"\"\"Make a request to OpenAI models that support structured outputs.\"\"\"\n",
        "    client = OpenAI(\n",
        "        # api_key = ''\n",
        "        )\n",
        "    response = client.beta.chat.completions.parse(\n",
        "        model=model,\n",
        "        temperature=0,\n",
        "        messages=[\n",
        "            {\"role\": \"system\", \"content\": prompt_system},\n",
        "            {\"role\": \"user\", \"content\": f'${prompt_documents}\\n\\n${prompt_instructions}'}\n",
        "        ],\n",
        "        response_format=Classification\n",
        "    )\n",
        "    return response.choices[0].message.content"
      ]
    },
    {
      "cell_type": "markdown",
      "metadata": {
        "id": "1Jd28bzRYrrm"
      },
      "source": [
        "Now, let's run the function on our example."
      ]
    },
    {
      "cell_type": "code",
      "execution_count": 17,
      "metadata": {
        "id": "mAKgSk4RYwcO"
      },
      "outputs": [
        {
          "name": "stdout",
          "output_type": "stream",
          "text": [
            "{\"fossil_fuel_link\":true,\"explanation\":\"The Clean Resource Innovation Network (CRIN) is focused on enabling cleaner energy development specifically for the oil and gas industry. It supports projects that aim to improve the environmental performance of this sector, which indicates a direct involvement with fossil fuels. The organization is dedicated to commercializing technologies that benefit the oil and gas industry, which aligns with the characteristics of a fossil fuel organization.\",\"source\":\"https://www.cleanresourceinnovation.com/\"}\n"
          ]
        }
      ],
      "source": [
        "openai_response = make_request_openai(prompt_system, prompt_instructions, prompt_documents)\n",
        "print(openai_response)"
      ]
    },
    {
      "cell_type": "markdown",
      "metadata": {
        "id": "OonRh1nRZjy1"
      },
      "source": [
        "# Scale"
      ]
    },
    {
      "cell_type": "markdown",
      "metadata": {
        "id": "ZJc-HjyeZqhZ"
      },
      "source": [
        "We've seen an example of how to classify one organisation. The advantage of using AI is that we can scale this to (hundreds of) thousands of operations.\n",
        "\n",
        "Let's define a few functions to help us with this."
      ]
    },
    {
      "cell_type": "code",
      "execution_count": 25,
      "metadata": {
        "id": "NelSf-csZlJj"
      },
      "outputs": [],
      "source": [
        "def classify_org(org: str):\n",
        "    search = f'\"{org}\" oil gas coal'\n",
        "\n",
        "    results = DDGS().text(search, max_results=5)\n",
        "\n",
        "    texts = extract_text([result['href'] for result in results if 'href' in result])\n",
        "    texts = [(url, text) for url, text in texts if text is not None] # remove empty scrapes\n",
        "\n",
        "    prompt_documents = \"\\n\\n\".join(f\"URL: {url}\\n{text}\" for url, text in texts).strip()\n",
        "    prompt_instructions= f'''\n",
        "## Instructions\n",
        "\n",
        "You are a researcher investigating whether \"{org}\" is a fossil fuel organization.\n",
        "\n",
        "A fossil fuel organization:\n",
        "- Aims to influence policy or legislation in the interests of fossil fuel companies and shareholders.\n",
        "- Has significant business activities in exploration, extraction, refining, trading, specialized transportation of oil, gas, coal, or blue hydrogen, or sale of electricity derived from them.\n",
        "- Publicly declares involvement in fossil fuels or promotes significant investments in such companies.\n",
        "- Can be an NGO, foundation, think tank, or lobbying group funded by fossil fuel companies or their executives.\n",
        "- May include larger companies that own fossil fuel subsidiaries (e.g., BASF owning Wintershall).\n",
        "- Includes companies selling energy from fossil fuels (e.g., Octopus Energy).\n",
        "- Companies that currently produce or sell fossil fuels, regardless of their plans to divest in the future.\n",
        "\n",
        "Analyze the text above, which was extracted from an internet search for \"{org}\", to determine if it is a fossil fuel organization. Use common sense and respond only in English, even if the original content is not in English.\n",
        "'''\n",
        "\n",
        "    openai_response = make_request_openai(prompt_system, prompt_instructions, prompt_documents)\n",
        "\n",
        "    return openai_response"
      ]
    },
    {
      "cell_type": "code",
      "execution_count": 26,
      "metadata": {
        "id": "-fgR-Ge-bLgr"
      },
      "outputs": [],
      "source": [
        "def apply_classify_org(df):\n",
        "    df['classification'] = df.apply(lambda row: classify_org(org = row['organization']), axis=1)\n",
        "    df['classification'] = df['classification'].apply(json.loads)\n",
        "    df = pd.concat([df.drop(['classification'], axis=1), df['classification'].apply(pd.Series)], axis=1)\n",
        "\n",
        "    return df"
      ]
    },
    {
      "cell_type": "markdown",
      "metadata": {
        "id": "Rm4LvIJvaVsz"
      },
      "source": [
        "Now let's run this on our sample of organisations."
      ]
    },
    {
      "cell_type": "code",
      "execution_count": 27,
      "metadata": {
        "colab": {
          "base_uri": "https://localhost:8080/"
        },
        "id": "EPOyJWn4bjSK",
        "outputId": "87573f71-ee28-4b5b-97f9-23a86fd8ed88"
      },
      "outputs": [
        {
          "name": "stdout",
          "output_type": "stream",
          "text": [
            "Scraping https://climatereality.ph/reenergizeph/...\n",
            "Scraping https://climatereality.ph/2021/08/21/climate-reality-ph-geop-a-potent-weapon-against-unreliable-coal-sourced-power/...\n",
            "Scraping https://climatereality.ph/2023/09/28/climate-reality-ph-builds-momentum-for-geop-implementation-in-mindanao/...\n",
            "Scraping https://mirror.pia.gov.ph/news/2021/08/22/climate-reality-geop-a-potent-weapon-vscoal-sourced-power...\n",
            "Scraping https://www.facebook.com/climaterealityphilippines/posts/green-energy-option-program-a-potent-weapon-against-unreliable-coal-sourced-powe/4243220149098727/...\n"
          ]
        }
      ],
      "source": [
        "cop_orgs_classified = apply_classify_org(cop_orgs)"
      ]
    },
    {
      "cell_type": "code",
      "execution_count": 28,
      "metadata": {},
      "outputs": [
        {
          "data": {
            "text/html": [
              "<div>\n",
              "<style scoped>\n",
              "    .dataframe tbody tr th:only-of-type {\n",
              "        vertical-align: middle;\n",
              "    }\n",
              "\n",
              "    .dataframe tbody tr th {\n",
              "        vertical-align: top;\n",
              "    }\n",
              "\n",
              "    .dataframe thead th {\n",
              "        text-align: right;\n",
              "    }\n",
              "</style>\n",
              "<table border=\"1\" class=\"dataframe\">\n",
              "  <thead>\n",
              "    <tr style=\"text-align: right;\">\n",
              "      <th></th>\n",
              "      <th>organization</th>\n",
              "      <th>fossil_fuel_link</th>\n",
              "      <th>explanation</th>\n",
              "      <th>source</th>\n",
              "    </tr>\n",
              "  </thead>\n",
              "  <tbody>\n",
              "    <tr>\n",
              "      <th>37190</th>\n",
              "      <td>IUCN Regional Office for West Asia</td>\n",
              "      <td>False</td>\n",
              "      <td>The IUCN Regional Office for West Asia is prim...</td>\n",
              "      <td>https://www.iucn.org/regions/west-asia</td>\n",
              "    </tr>\n",
              "    <tr>\n",
              "      <th>33297</th>\n",
              "      <td>The Climate Reality Project Philippines</td>\n",
              "      <td>False</td>\n",
              "      <td>The Climate Reality Project Philippines focuse...</td>\n",
              "      <td>https://climatereality.ph/reenergizeph/</td>\n",
              "    </tr>\n",
              "    <tr>\n",
              "      <th>18860</th>\n",
              "      <td>Seychelles Meteorological Authorithy</td>\n",
              "      <td>False</td>\n",
              "      <td>The Seychelles Meteorological Authority is a g...</td>\n",
              "      <td>https://www.seychelles.gov.sc/Departments/mete...</td>\n",
              "    </tr>\n",
              "    <tr>\n",
              "      <th>7675</th>\n",
              "      <td>Ministry of Local Government, Lands, Regional ...</td>\n",
              "      <td>False</td>\n",
              "      <td>The Ministry of Local Government, Lands, Regio...</td>\n",
              "      <td>https://www.example.com/ministry-local-government</td>\n",
              "    </tr>\n",
              "    <tr>\n",
              "      <th>23338</th>\n",
              "      <td>Chairperson s Secretariat</td>\n",
              "      <td>False</td>\n",
              "      <td>The 'Chairperson's Secretariat' does not appea...</td>\n",
              "      <td>https://www.example.com/chairpersons-secretariat</td>\n",
              "    </tr>\n",
              "  </tbody>\n",
              "</table>\n",
              "</div>"
            ],
            "text/plain": [
              "                                            organization  fossil_fuel_link  \\\n",
              "37190                 IUCN Regional Office for West Asia             False   \n",
              "33297            The Climate Reality Project Philippines             False   \n",
              "18860               Seychelles Meteorological Authorithy             False   \n",
              "7675   Ministry of Local Government, Lands, Regional ...             False   \n",
              "23338                          Chairperson s Secretariat             False   \n",
              "\n",
              "                                             explanation  \\\n",
              "37190  The IUCN Regional Office for West Asia is prim...   \n",
              "33297  The Climate Reality Project Philippines focuse...   \n",
              "18860  The Seychelles Meteorological Authority is a g...   \n",
              "7675   The Ministry of Local Government, Lands, Regio...   \n",
              "23338  The 'Chairperson's Secretariat' does not appea...   \n",
              "\n",
              "                                                  source  \n",
              "37190             https://www.iucn.org/regions/west-asia  \n",
              "33297            https://climatereality.ph/reenergizeph/  \n",
              "18860  https://www.seychelles.gov.sc/Departments/mete...  \n",
              "7675   https://www.example.com/ministry-local-government  \n",
              "23338   https://www.example.com/chairpersons-secretariat  "
            ]
          },
          "execution_count": 28,
          "metadata": {},
          "output_type": "execute_result"
        }
      ],
      "source": [
        "cop_orgs_classified"
      ]
    },
    {
      "cell_type": "code",
      "execution_count": 29,
      "metadata": {
        "colab": {
          "base_uri": "https://localhost:8080/",
          "height": 125
        },
        "id": "gBycL7EQdlbb",
        "outputId": "8d1f14dd-efd3-4a44-dbd8-5c3c81d905d2"
      },
      "outputs": [],
      "source": [
        "cop_orgs_classified.to_csv('data/cop_orgs_classified.csv')"
      ]
    },
    {
      "cell_type": "markdown",
      "metadata": {
        "id": "gi9oRpohdyI6"
      },
      "source": [
        "# What next?"
      ]
    },
    {
      "cell_type": "markdown",
      "metadata": {
        "id": "KC-4gftBgRIz"
      },
      "source": [
        "There are lots of things we can improve about this process. Here are some ideas:\n",
        "\n",
        "- **Play around with the prompt**. \n",
        "- **Change search engine**. DuckDuckGo is free and good for a prototype. However, their API isn't meant to be used to this way and will often deny requests. It also doesn't return the best results. I recomment switching to Google.\n",
        "- **Try other models**. If you find that gpt-4o-mini is insufficient, you can use the smarter gpt-4o.\n",
        "- **Validate the output**. If you use other models without Structured Output support, you can use Guardrails to [validate their output](https://ddj.nicu.md/ai/python-validation.html). It also lets you validate other things, like the language of the output.\n",
        "- **Cache things**. Don't start over if something goes wrong, save the search results, scrapes and LLM outputs and continue where you left off.\n",
        "- **Multithreading**. You can use Python's [multithreading](https://docs.python.org/3/library/threading.html) to run multiple classifications in parallel, significantly speeding up the process.\n",
        "- **Verify**. LLMs are still dumb and shouldn't be trusted. Manually verify the classifications if you're going to publish the results!"
      ]
    }
  ],
  "metadata": {
    "colab": {
      "provenance": []
    },
    "kernelspec": {
      "display_name": "base",
      "language": "python",
      "name": "python3"
    },
    "language_info": {
      "codemirror_mode": {
        "name": "ipython",
        "version": 3
      },
      "file_extension": ".py",
      "mimetype": "text/x-python",
      "name": "python",
      "nbconvert_exporter": "python",
      "pygments_lexer": "ipython3",
      "version": "3.12.4"
    }
  },
  "nbformat": 4,
  "nbformat_minor": 0
}
