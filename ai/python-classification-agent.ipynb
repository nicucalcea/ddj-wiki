{
  "cells": [
    {
      "cell_type": "raw",
      "id": "c250529d-3381-4cf1-b9e1-da590fa12691",
      "metadata": {
        "vscode": {
          "languageId": "raw"
        }
      },
      "source": [
        "---\n",
        "title: \"AI classification agent\"\n",
        "href: python-classification-agent\n",
        "format:\n",
        "  html:\n",
        "    code-links:\n",
        "      - text: Download notebook\n",
        "        icon: download\n",
        "        href: https://github.com/nicucalcea/ddj-wiki/blob/main/ai/python-classification-agent.ipynb\n",
        "        target: _blank\n",
        "      - text: Open in Google Colab\n",
        "        icon: google\n",
        "        href: https://colab.research.google.com/github/nicucalcea/ddj-wiki/blob/main/ai/python-classification-agent.ipynb\n",
        "        target: _blank\n",
        "execute: \n",
        "  cache: true\n",
        "---"
      ]
    },
    {
      "cell_type": "markdown",
      "metadata": {
        "id": "vO-mZV3OGrm_"
      },
      "source": [
        "You find yourself staring at a dataset with tens or hundreds of thousands of rows. Maybe you want to get up-to-date FOIA contact details for all government departments in your country, or to find out which political donors have links to the fossil fuels industry. What do you do?\n",
        "\n",
        "This kind of work is time-consuming and challenging. However, Large Language Models (LLMs) like those powering ChatGPT can help journalists automate simple research and classification tasks that would take an unreasonably long time to do otherwise.\n",
        "\n",
        "In this session, we'll outline how to use LLMs, search engines and web scraping to help us identify links between Donald Trump and his donors. You can [download the notebook](https://github.com/nicucalcea/ddj-wiki/blob/main/ai/python-classification-agent.ipynb) and run it yourself, or you can [run it in the cloud using Google Colab](https://colab.research.google.com/github/nicucalcea/ddj-wiki/blob/main/ai/python-classification-agent.ipynb). Both links also in the sidebar to the right, or at the bottom of the page on mobile."
      ]
    },
    {
      "cell_type": "markdown",
      "metadata": {
        "id": "Nd-jWkBqd8jH"
      },
      "source": [
        "## Install and load libraries"
      ]
    },
    {
      "cell_type": "markdown",
      "metadata": {},
      "source": [
        "First, we'll need to install some libraries to help us call different LLMs and retrieve search results."
      ]
    },
    {
      "cell_type": "code",
      "execution_count": 31,
      "metadata": {
        "id": "Jbn2VKx1gj4W"
      },
      "outputs": [
        {
          "name": "stderr",
          "output_type": "stream",
          "text": [
            "\u001b[2mUsing Python 3.13.2 environment at: D:\\Projects\\ddj-wiki\\.venv\u001b[0m\n",
            "\u001b[2mAudited \u001b[1m1 package\u001b[0m \u001b[2min 81ms\u001b[0m\u001b[0m\n",
            "\u001b[2mUsing Python 3.13.2 environment at: D:\\Projects\\ddj-wiki\\.venv\u001b[0m\n",
            "\u001b[2mAudited \u001b[1m1 package\u001b[0m \u001b[2min 1.03s\u001b[0m\u001b[0m\n",
            "\u001b[2mUsing Python 3.13.2 environment at: D:\\Projects\\ddj-wiki\\.venv\u001b[0m\n",
            "\u001b[2mAudited \u001b[1m1 package\u001b[0m \u001b[2min 25ms\u001b[0m\u001b[0m\n",
            "\u001b[2mUsing Python 3.13.2 environment at: D:\\Projects\\ddj-wiki\\.venv\u001b[0m\n",
            "\u001b[2mResolved \u001b[1m18 packages\u001b[0m \u001b[2min 692ms\u001b[0m\u001b[0m\n",
            "\u001b[1m\u001b[33mwarning\u001b[39m\u001b[0m\u001b[1m:\u001b[0m \u001b[1mFailed to hardlink files; falling back to full copy. This may lead to degraded performance.\n",
            "         If the cache and target directories are on different filesystems, hardlinking may not be supported.\n",
            "         If this is intentional, set `export UV_LINK_MODE=copy` or use `--link-mode=copy` to suppress this warning.\u001b[0m\n",
            "\u001b[2mInstalled \u001b[1m10 packages\u001b[0m \u001b[2min 1.37s\u001b[0m\u001b[0m\n",
            " \u001b[32m+\u001b[39m \u001b[1mbabel\u001b[0m\u001b[2m==2.17.0\u001b[0m\n",
            " \u001b[32m+\u001b[39m \u001b[1mcourlan\u001b[0m\u001b[2m==1.3.2\u001b[0m\n",
            " \u001b[32m+\u001b[39m \u001b[1mdateparser\u001b[0m\u001b[2m==1.2.1\u001b[0m\n",
            " \u001b[32m+\u001b[39m \u001b[1mhtmldate\u001b[0m\u001b[2m==1.9.3\u001b[0m\n",
            " \u001b[32m+\u001b[39m \u001b[1mjustext\u001b[0m\u001b[2m==3.0.2\u001b[0m\n",
            " \u001b[32m+\u001b[39m \u001b[1mlxml-html-clean\u001b[0m\u001b[2m==0.4.2\u001b[0m\n",
            " \u001b[32m+\u001b[39m \u001b[1mregex\u001b[0m\u001b[2m==2024.11.6\u001b[0m\n",
            " \u001b[32m+\u001b[39m \u001b[1mtld\u001b[0m\u001b[2m==0.13\u001b[0m\n",
            " \u001b[32m+\u001b[39m \u001b[1mtrafilatura\u001b[0m\u001b[2m==2.0.0\u001b[0m\n",
            " \u001b[32m+\u001b[39m \u001b[1mtzlocal\u001b[0m\u001b[2m==5.3.1\u001b[0m\n"
          ]
        }
      ],
      "source": [
        "!uv pip install pandas\n",
        "!uv pip install pydantic-ai\n",
        "!uv pip install duckduckgo-search\n",
        "!uv pip install trafilatura"
      ]
    },
    {
      "cell_type": "markdown",
      "metadata": {},
      "source": [
        "Then, we'll import those libraries."
      ]
    },
    {
      "cell_type": "code",
      "execution_count": 30,
      "metadata": {},
      "outputs": [],
      "source": [
        "# maths\n",
        "import pandas as pd\n",
        "\n",
        "# scraping\n",
        "from urllib import request\n",
        "import ssl\n",
        "import requests\n",
        "from trafilatura import extract\n",
        "\n",
        "# validation\n",
        "from typing import List, Tuple\n",
        "from pydantic import BaseModel, Field\n",
        "from typing import Literal\n",
        "import json\n",
        "\n",
        "# AI\n",
        "from pydantic_ai import Agent, Tool\n",
        "from pydantic_ai.common_tools.duckduckgo import duckduckgo_search_tool\n",
        "\n",
        "# make async work in jupyter\n",
        "import nest_asyncio\n",
        "nest_asyncio.apply()"
      ]
    },
    {
      "cell_type": "markdown",
      "metadata": {},
      "source": [
        "Finally, we need to define some of the API keys we'll be using. You can get your own [OpenAI API key](https://platform.openai.com/account/api-keys) or from another provider."
      ]
    },
    {
      "cell_type": "code",
      "execution_count": 2,
      "metadata": {
        "id": "lisUctaVd_K8"
      },
      "outputs": [],
      "source": [
        "OPENAI_API_KEY=\"\""
      ]
    },
    {
      "cell_type": "markdown",
      "metadata": {
        "id": "Z04YaWN5LEsy"
      },
      "source": [
        "## Prep data"
      ]
    },
    {
      "cell_type": "markdown",
      "metadata": {},
      "source": [
        "We'll work with some data from the US Federal Election Commission (FEC) on [donations to Donald Trump's inaugural committee](https://docquery.fec.gov/cgi-bin/forms/C00894162/1889684/f132). Because a downloadable version isn't provided, we'll scrape the data directly from the website."
      ]
    },
    {
      "cell_type": "code",
      "execution_count": 2,
      "metadata": {},
      "outputs": [],
      "source": [
        "response = request.urlopen(\"https://docquery.fec.gov/cgi-bin/forms/C00894162/1889684/f132\",\n",
        "                           context=ssl._create_unverified_context())\n",
        "html = response.read()\n",
        "\n",
        "fec_raw = pd.read_html(html)[0]"
      ]
    },
    {
      "cell_type": "markdown",
      "metadata": {},
      "source": [
        "We need to fix some of the formatting issues, like removing dollar signs and converting dates to a more standard format."
      ]
    },
    {
      "cell_type": "code",
      "execution_count": 3,
      "metadata": {},
      "outputs": [],
      "source": [
        "fec = fec_raw.copy()\n",
        "fec = fec.iloc[:-1] # the last row is a summary\n",
        "\n",
        "fec['Date Donation Received'] = pd.to_datetime(\n",
        "    fec['Date Donation Received'], \n",
        "    format='%m/%d/%Y'  # Format for \"31/12/2025\"\n",
        ")\n",
        "\n",
        "fec['Donation Amount'] = fec['Donation Amount'].str.replace('$', '', regex=False)\n",
        "fec['Donation Amount'] = pd.to_numeric(fec['Donation Amount'])\n",
        "\n",
        "fec = fec.drop(columns=[\"Donor's Aggregate Donations To Date\"])"
      ]
    },
    {
      "cell_type": "markdown",
      "metadata": {},
      "source": [
        "Some donors donated multiple times, so we'll want to group them together and only classify them once."
      ]
    },
    {
      "cell_type": "code",
      "execution_count": 34,
      "metadata": {},
      "outputs": [],
      "source": [
        "fec_total = fec.groupby('Name')['Donation Amount'].sum().reset_index()\n",
        "fec_total = fec_total.sort_values(by='Donation Amount', ascending=False)\n",
        "fec_total = fec_total.head(5)\n",
        "fec_total.to_csv('data/fec_unclassified.csv', index=False)"
      ]
    },
    {
      "cell_type": "markdown",
      "metadata": {},
      "source": [
        "We should be ready to go. Let's see what the data looks like. To keep things simple, we're only going to use the first 5 rows of the dataset."
      ]
    },
    {
      "cell_type": "code",
      "execution_count": 32,
      "metadata": {},
      "outputs": [
        {
          "data": {
            "application/vnd.microsoft.datawrangler.viewer.v0+json": {
              "columns": [
                {
                  "name": "index",
                  "rawType": "int64",
                  "type": "integer"
                },
                {
                  "name": "Name",
                  "rawType": "object",
                  "type": "string"
                },
                {
                  "name": "Donation Amount",
                  "rawType": "float64",
                  "type": "float"
                }
              ],
              "conversionMethod": "pd.DataFrame",
              "ref": "7839d87e-1276-41b1-a9c0-ce8385bfdfd0",
              "rows": [
                [
                  "618",
                  "PILGRIM'S PRIDE CORPORATION",
                  "5000000.0"
                ],
                [
                  "652",
                  "RIPPLE LABS, INC.",
                  "4889345.33"
                ],
                [
                  "824",
                  "WARREN A STEPHENS",
                  "4000000.0"
                ],
                [
                  "139",
                  "CHEVRON PRODUCTS COMPANY",
                  "2000000.0"
                ],
                [
                  "667",
                  "ROBINHOOD MARKETS, INC.",
                  "2000000.0"
                ]
              ],
              "shape": {
                "columns": 2,
                "rows": 5
              }
            },
            "text/html": [
              "<div>\n",
              "<style scoped>\n",
              "    .dataframe tbody tr th:only-of-type {\n",
              "        vertical-align: middle;\n",
              "    }\n",
              "\n",
              "    .dataframe tbody tr th {\n",
              "        vertical-align: top;\n",
              "    }\n",
              "\n",
              "    .dataframe thead th {\n",
              "        text-align: right;\n",
              "    }\n",
              "</style>\n",
              "<table border=\"1\" class=\"dataframe\">\n",
              "  <thead>\n",
              "    <tr style=\"text-align: right;\">\n",
              "      <th></th>\n",
              "      <th>Name</th>\n",
              "      <th>Donation Amount</th>\n",
              "    </tr>\n",
              "  </thead>\n",
              "  <tbody>\n",
              "    <tr>\n",
              "      <th>618</th>\n",
              "      <td>PILGRIM'S PRIDE CORPORATION</td>\n",
              "      <td>5000000.00</td>\n",
              "    </tr>\n",
              "    <tr>\n",
              "      <th>652</th>\n",
              "      <td>RIPPLE LABS, INC.</td>\n",
              "      <td>4889345.33</td>\n",
              "    </tr>\n",
              "    <tr>\n",
              "      <th>824</th>\n",
              "      <td>WARREN A STEPHENS</td>\n",
              "      <td>4000000.00</td>\n",
              "    </tr>\n",
              "    <tr>\n",
              "      <th>139</th>\n",
              "      <td>CHEVRON PRODUCTS COMPANY</td>\n",
              "      <td>2000000.00</td>\n",
              "    </tr>\n",
              "    <tr>\n",
              "      <th>667</th>\n",
              "      <td>ROBINHOOD MARKETS, INC.</td>\n",
              "      <td>2000000.00</td>\n",
              "    </tr>\n",
              "  </tbody>\n",
              "</table>\n",
              "</div>"
            ],
            "text/plain": [
              "                            Name  Donation Amount\n",
              "618  PILGRIM'S PRIDE CORPORATION       5000000.00\n",
              "652            RIPPLE LABS, INC.       4889345.33\n",
              "824            WARREN A STEPHENS       4000000.00\n",
              "139     CHEVRON PRODUCTS COMPANY       2000000.00\n",
              "667      ROBINHOOD MARKETS, INC.       2000000.00"
            ]
          },
          "execution_count": 32,
          "metadata": {},
          "output_type": "execute_result"
        }
      ],
      "source": [
        "fec_total"
      ]
    },
    {
      "cell_type": "markdown",
      "metadata": {},
      "source": [
        "## Searching and scraping"
      ]
    },
    {
      "cell_type": "markdown",
      "metadata": {},
      "source": [
        "Large Language Models are prone to [hallucinations](https://en.wikipedia.org/wiki/Hallucination_(artificial_intelligence)). If you ask an LLM a question it doesn't know the answer to, [it will confidently make up a plausible-sounding answer](https://ddj.nicu.md/ai/) that is completely wrong. This is particularly the case with less known organisations or individuals that wouldn't feature promionently in the training data.\n",
        "\n",
        "One way to minimise (but not completely eliminate) hallucinations is by \"grounding\" the LLM with some factual data like documents or databases. This is sometimes a technique called Retrieval-Augmented Generation (RAG).\n",
        "\n",
        "In our case, we want to allow out agent to search the internet to look for additional information about each donor.\n",
        "\n",
        "We could try simply scraping search results from Google like we did with the FEC data, but Google doesn't like that, and they will put various roadblocks in your way such as CAPTCHAs, rate limits or even blocking your IP address. Instead, they want you to use their [Custom Search API](https://developers.google.com/custom-search/v1/overview), which is paid and limited to 10k queries per day.\n",
        "\n",
        "Other search engines like Brave provide generous free tiers and more reasonable pricing, and there are some services that specifically cater to AI applications, like [Tavily](https://tavily.com/) and [Perplexity](https://docs.perplexity.ai/home).\n",
        "\n",
        "We'll use the DuckDuckGo API since it's free (but rate-limited), doesn't require signing up for an API key, and comes with PydanticAI."
      ]
    },
    {
      "cell_type": "markdown",
      "metadata": {},
      "source": [
        "We also want to give our AI the ability to visit each of those search results and extract the text from there. We'll use a library called [Trafilatura](https://github.com/adbar/trafilatura) since it extract the main text without headers, footers and other irrelevant bits that we probably don't need for the classification."
      ]
    },
    {
      "cell_type": "code",
      "execution_count": 7,
      "metadata": {},
      "outputs": [],
      "source": [
        "def extract_text(urls: List[str]) -> List[Tuple[str, str]]:\n",
        "    \"\"\"\n",
        "    Extract text content from a list of URLs.\n",
        "    \n",
        "    Args:\n",
        "        urls: A list of URLs to scrape\n",
        "        \n",
        "    Returns:\n",
        "        A list of tuples containing (url, extracted_text)\n",
        "    \"\"\"\n",
        "    results = []\n",
        "\n",
        "    for url in urls:\n",
        "        # print(f\"Scraping {url}...\")\n",
        "        try:\n",
        "            response = requests.get(url, timeout=30, verify=False)\n",
        "            response.raise_for_status()\n",
        "            extracted_text = extract(response.text, output_format=\"markdown\")\n",
        "            results.append((url, extracted_text))\n",
        "        except requests.RequestException as e:\n",
        "            # print(f\"Error scraping {url}: {str(e)}\")\n",
        "            results.append((url, f\"Error: {str(e)}\"))\n",
        "\n",
        "    return results"
      ]
    },
    {
      "cell_type": "markdown",
      "metadata": {},
      "source": [
        "## Structured output"
      ]
    },
    {
      "cell_type": "markdown",
      "metadata": {},
      "source": [
        "Most modern LLMs are trained to produce structured output, which means they can return data in a specific format. This is useful for producing consistent outputs when we're asking the model to classify or research multiple items.\n",
        "\n",
        "We can define the output format we expect using a Pydantic model."
      ]
    },
    {
      "cell_type": "code",
      "execution_count": 15,
      "metadata": {},
      "outputs": [],
      "source": [
        "class TrumpConnection(BaseModel):\n",
        "    donor_industry: str\n",
        "    type_of_connection: Literal['Family', 'Business', 'Political', 'Other', 'No connection', 'Don\\'t know or not enough information']\n",
        "    explanation: str\n",
        "    source_urls: str"
      ]
    },
    {
      "cell_type": "markdown",
      "metadata": {},
      "source": [
        "## Agents"
      ]
    },
    {
      "cell_type": "markdown",
      "metadata": {},
      "source": [
        "In an earlier iteration of this project, we searched the internet for each one of those donors using the exact name as listed in the data, extracted the first 10 results, scraped them, and then fed them to an LLM.\n",
        "\n",
        "Since then, AI agents have become a lot more prominent. Agents are systems where LLMs are allowed to choose their own steps, use tools appropriate for different tasks and make decisions about when to stop.\n",
        "\n",
        "The code required to set up an agent from scratch is fairly simple, but there are several frameworks which come with batteries included. We'll use [PydanticAI](https://ai.pydantic.dev), but most frameworks provide a similar set of features."
      ]
    },
    {
      "cell_type": "code",
      "execution_count": 9,
      "metadata": {},
      "outputs": [],
      "source": [
        "agent = Agent(\n",
        "    'openai:gpt-4.1-mini',\n",
        "    tools=[duckduckgo_search_tool(), Tool(extract_text)],\n",
        "    system_prompt='Answer the question to the best of your abilities, using the tools at your disposal (`duckduckgo_search_tool` and `extract_text`).',\n",
        "    output_type=TrumpConnection\n",
        ")"
      ]
    },
    {
      "cell_type": "code",
      "execution_count": 51,
      "metadata": {},
      "outputs": [
        {
          "name": "stdout",
          "output_type": "stream",
          "text": [
            "Scraping https://en.wikipedia.org/wiki/Warren_Stephens...\n",
            "Scraping https://apnews.com/article/trump-transition-appointments-ambassador-52e4744db02a0f8e078685a7a754835d...\n",
            "Scraping https://www.timesnownews.com/world/us/us-news/who-is-warren-stephens-donald-trump-uk-ambassador-pick-age-net-worth-career-family-controversiesotherdetails-article-115912443...\n",
            "Error scraping https://www.timesnownews.com/world/us/us-news/who-is-warren-stephens-donald-trump-uk-ambassador-pick-age-net-worth-career-family-controversiesotherdetails-article-115912443: 403 Client Error: Forbidden for url: https://www.timesnownews.com/world/us/us-news/who-is-warren-stephens-donald-trump-uk-ambassador-pick-age-net-worth-career-family-controversiesotherdetails-article-115912443\n",
            "Scraping https://www.the-express.com/news/us-news/170302/trump-appoints-warren-stephens-us-ambassador-britain-bolstering-uk-us-relations...\n",
            "Scraping https://www.thv11.com/article/news/local/warren-stephens-confirmed-uk-ambassador/91-7e1fc4e2-3a96-407d-805e-7542b86781c0...\n",
            "Scraping https://www.standard.co.uk/news/us-politics/warren-stephens-new-uk-ambassador-donald-trump-b1197754.html...\n",
            "Scraping https://www.ft.com/content/a6bc91a1-e0ac-49bf-b1ec-5562b893c590...\n",
            "Scraping https://www.yahoo.com/news/trump-names-billionaire-investment-banker-224807319.html...\n",
            "Error scraping https://www.yahoo.com/news/trump-names-billionaire-investment-banker-224807319.html: 429 Client Error: Too Many Requests for url: https://www.yahoo.com/news/trump-names-billionaire-investment-banker-224807319.html\n",
            "Scraping https://www.desmog.com/2025/05/15/donald-trump-uk-ambassador-warren-stephens-investments-industries-set-to-benefit-from-trade-deal/...\n",
            "Scraping https://www.pressreader.com/usa/arkansas-democrat-gazette/20250402/281698325560752...\n"
          ]
        }
      ],
      "source": [
        "result = agent.run_sync(\n",
        "    'What is the connection between WARREN A STEPHENS and Donald Trump?'\n",
        ")"
      ]
    },
    {
      "cell_type": "code",
      "execution_count": 52,
      "metadata": {},
      "outputs": [
        {
          "data": {
            "text/plain": [
              "[ModelRequest(parts=[SystemPromptPart(content='Answer the question to the best of your abilities, using the tools at your disposal (`duckduckgo_search_tool` and `extract_text`).', timestamp=datetime.datetime(2025, 5, 19, 12, 30, 38, 290935, tzinfo=datetime.timezone.utc), dynamic_ref=None, part_kind='system-prompt'), UserPromptPart(content='What is the connection between WARREN A STEPHENS and Donald Trump?', timestamp=datetime.datetime(2025, 5, 19, 12, 30, 38, 290938, tzinfo=datetime.timezone.utc), part_kind='user-prompt')], instructions=None, kind='request'),\n",
              " ModelResponse(parts=[ToolCallPart(tool_name='duckduckgo_search', args='{\"query\":\"WARREN A STEPHENS and Donald Trump connection\"}', tool_call_id='call_rorRZr83ZppMbfX2hCOO234n', part_kind='tool-call')], usage=Usage(requests=1, request_tokens=220, response_tokens=26, total_tokens=246, details={'accepted_prediction_tokens': 0, 'audio_tokens': 0, 'reasoning_tokens': 0, 'rejected_prediction_tokens': 0, 'cached_tokens': 0}), model_name='gpt-4.1-mini-2025-04-14', timestamp=datetime.datetime(2025, 5, 19, 12, 30, 38, tzinfo=datetime.timezone.utc), kind='response'),\n",
              " ModelRequest(parts=[ToolReturnPart(tool_name='duckduckgo_search', content=[{'title': 'Warren Stephens - Wikipedia', 'href': 'https://en.wikipedia.org/wiki/Warren_Stephens', 'body': 'Warren Amerine Stephens (born February 18, 1957) is an American diplomat and businessman who is the United States ambassador to the United Kingdom under President Donald Trump in his second administration.'}, {'title': 'Trump names billionaire investment banker Warren Stephens as his envoy ...', 'href': 'https://apnews.com/article/trump-transition-appointments-ambassador-52e4744db02a0f8e078685a7a754835d', 'body': 'President-elect Donald Trump has named billionaire investment banker Warren Stephens as his envoy to Britain, a prestigious posting for the Republican donor whose contributions this year included $2 million to a Trump-backing super PAC.'}, {'title': 'Meet Warren Stephens, Investment Banker Picked By Trump To Be UK ...', 'href': 'https://www.timesnownews.com/world/us/us-news/who-is-warren-stephens-donald-trump-uk-ambassador-pick-age-net-worth-career-family-controversiesotherdetails-article-115912443', 'body': 'Warren Stephens, a multibillionaire investment banker, has been nominated by President-elect Donald Trump to be the next American ambassador to the United Kingdom. Stephens, the chairman of Stephens Inc., brings to the position his conservative political connections and decades of economic success.'}, {'title': 'Billionaire Trump donor confirmed as new US ambassador to UK', 'href': 'https://www.the-express.com/news/us-news/170302/trump-appoints-warren-stephens-us-ambassador-britain-bolstering-uk-us-relations', 'body': 'Warren Stephens, the billionaire investment banker, has clinched the role of US Ambassador to Britain with a 59 to 39 Senate vote sealing his confirmation. As chairman, president, and CEO of Stephens Inc. , a financial services behemoth headquartered in Little Rock, Arkansas, Mr. Stephens was tapped for the position by former President Donald Trump.'}, {'title': \"Warren Stephens confirmed as Trump's UK ambassador\", 'href': 'https://www.thv11.com/article/news/local/warren-stephens-confirmed-uk-ambassador/91-7e1fc4e2-3a96-407d-805e-7542b86781c0', 'body': \"LITTLE ROCK, Ark. — On Tuesday, the U.S. Senate confirmed Warren Stephens of Little Rock as President Donald Trump's ambassador to Britain. Stephens, an investment banker and a Republican donor ...\"}, {'title': 'Who is Warren Stephens? Donald Trump appoints new UK ambassador', 'href': 'https://www.standard.co.uk/news/us-politics/warren-stephens-new-uk-ambassador-donald-trump-b1197754.html', 'body': 'In 2016, when Donald Trump first ran for president, Stephens donated $4m (£3.1 million) to political groups that fought to stop him becoming the nominee. In 2024 he gave $2m to a political action ...'}, {'title': 'Donald Trump picks Arkansas banker Warren Stephens as ambassador to UK', 'href': 'https://www.ft.com/content/a6bc91a1-e0ac-49bf-b1ec-5562b893c590', 'body': 'Donald Trump will nominate billionaire investment banker Warren Stephens to be his ambassador to the UK, elevating a campaign donor from Arkansas to one of the most sought-after positions in the ...'}, {'title': 'Trump names billionaire investment banker Warren Stephens as ... - Yahoo', 'href': 'https://www.yahoo.com/news/trump-names-billionaire-investment-banker-224807319.html', 'body': 'President-elect Donald Trump has named billionaire investment banker Warren Stephens as his envoy to Britain, a prestigious posting for the Republican donor whose contributions this year included ...'}, {'title': \"Trump's UK Ambassador Has Investments in Industries Set to Benefit from ...\", 'href': 'https://www.desmog.com/2025/05/15/donald-trump-uk-ambassador-warren-stephens-investments-industries-set-to-benefit-from-trade-deal/', 'body': \"President Donald Trump's UK ambassador holds shares worth hundreds of millions in the key sectors that stand to benefit from last week's UK-U.S. trade agreement. Stephens played a key role in pushing through the deal, according to the UK's ambassador to the U.S. Peter Mandelson, while campaigners have raised concerns that he will personally benefit. According […]\"}, {'title': 'Stephens makes UK envoy pitch to Senate panel - PressReader', 'href': 'https://www.pressreader.com/usa/arkansas-democrat-gazette/20250402/281698325560752', 'body': 'WASHINGTON — Investment banker Warren Stephens, President Donald Trump\\'s choice for the United States\\' next ambassador to the United Kingdom, promised senators Tuesday to advance the president\\'s \"America First\" policy agenda in representi\\xadng the United States\\' relationsh\\xadip with one of the country\\'s strongest allies.'}], tool_call_id='call_rorRZr83ZppMbfX2hCOO234n', timestamp=datetime.datetime(2025, 5, 19, 12, 30, 40, 966516, tzinfo=datetime.timezone.utc), part_kind='tool-return')], instructions=None, kind='request'),\n",
              " ModelResponse(parts=[ToolCallPart(tool_name='extract_text', args='{\"urls\":[\"https://en.wikipedia.org/wiki/Warren_Stephens\",\"https://apnews.com/article/trump-transition-appointments-ambassador-52e4744db02a0f8e078685a7a754835d\",\"https://www.timesnownews.com/world/us/us-news/who-is-warren-stephens-donald-trump-uk-ambassador-pick-age-net-worth-career-family-controversiesotherdetails-article-115912443\",\"https://www.the-express.com/news/us-news/170302/trump-appoints-warren-stephens-us-ambassador-britain-bolstering-uk-us-relations\",\"https://www.thv11.com/article/news/local/warren-stephens-confirmed-uk-ambassador/91-7e1fc4e2-3a96-407d-805e-7542b86781c0\",\"https://www.standard.co.uk/news/us-politics/warren-stephens-new-uk-ambassador-donald-trump-b1197754.html\",\"https://www.ft.com/content/a6bc91a1-e0ac-49bf-b1ec-5562b893c590\",\"https://www.yahoo.com/news/trump-names-billionaire-investment-banker-224807319.html\",\"https://www.desmog.com/2025/05/15/donald-trump-uk-ambassador-warren-stephens-investments-industries-set-to-benefit-from-trade-deal/\",\"https://www.pressreader.com/usa/arkansas-democrat-gazette/20250402/281698325560752\"]}', tool_call_id='call_WPyRTy2a5YUPBMhoG7Fel9GN', part_kind='tool-call')], usage=Usage(requests=1, request_tokens=1273, response_tokens=355, total_tokens=1628, details={'accepted_prediction_tokens': 0, 'audio_tokens': 0, 'reasoning_tokens': 0, 'rejected_prediction_tokens': 0, 'cached_tokens': 0}), model_name='gpt-4.1-mini-2025-04-14', timestamp=datetime.datetime(2025, 5, 19, 12, 30, 41, tzinfo=datetime.timezone.utc), kind='response'),\n",
              " ModelRequest(parts=[ToolReturnPart(tool_name='extract_text', content=[('https://en.wikipedia.org/wiki/Warren_Stephens', '# Warren Stephens\\n\\n\\nWarren Stephens | |\\n|---|---|\\n| United States Ambassador to the United Kingdom | |\\nAssuming officeTBD | |\\n| President | Donald Trump |\\n| Succeeding | Jane D. Hartley |\\n| Personal details | |\\n| Born | Warren Amerine Stephens February 18, 1957 Little Rock, Arkansas, U.S. |\\n| Spouse | Harriet Stephens |\\n| Children | 3 |\\n| Parent |\\n|\\n| Education | Washington and Lee University (BA) Wake Forest University (MBA) |\\n| Occupation | Chairman, President, and CEO of Stephens Inc. |\\n\\n**Warren Amerine Stephens** (born February 18, 1957) is an American diplomat and businessman who is the designate to serve as the United States ambassador to the United Kingdom under President Donald Trump in his second administration. He is the chairman, president and chief executive officer (CEO) of Stephens Inc., a privately held investment bank.[1]\\n\\nOn December 2, 2024, President-elect Trump announced his nomination of Stephens to serve as the ambassador to the United Kingdom.[2] The U.S. Senate confirmed his nomination in a 59–39 vote.[3] He was sworn in on April 30, 2025.[ citation needed]\\n\\n## Early life and education\\n\\n[edit]Stephens was born in Little Rock, the son of Jackson T. Stephens and Mary Amerine Stephens. Warren\\'s father, \"Jack\" Stephens, and his uncle, \"Witt\" Stephens, partnered as investors and financiers in the investment firm, Stephens Inc.[4]\\n\\nWarren began his education in Little Rock, and in 1975, graduated from Trinity Presbyterian High School in Montgomery, Alabama. He graduated from Washington and Lee University in 1979 with a BA in economics, and received his MBA from Wake Forest University in 1981.[5]\\n\\n## Career\\n\\n[edit]Stephens joined his father and uncle in the investment banking business in Little Rock, which had 139 employees. At that time, the firm resembled and operated much like one of the old British merchant banks, investing the firm\\'s and family funds in various businesses and ventures, and it still operates the same way today. Stephens Inc is noted for handling the IPO of Wal-Mart Stores in 1970.[4]\\n\\nStephens began work as an associate in the corporate finance department, concentrating on oil and gas. He became head of the department in 1983 and spent a lot of time on mergers and acquisitions. On February 18, 1986, Stephens was appointed president and CEO of Stephens Inc.[4]\\n\\nIn 1990, he was the senior advisor to Tyson Foods in their acquisition of Holly Farms in a nine-month takeover battle.[4] He is only the third chairman, president and CEO in the firm\\'s more than 90 years of operations since 1933.[6]\\n\\nIn 2006, Stephens acquired 100 percent of the outstanding shares of Stephens Inc from the other family members.[4]\\n\\nStephens is on the board of Dillard\\'s.[7]\\n\\nIn January 2025, Warren Stephens revealed his decision to step down from his role as CEO of Stephens Inc., as he gets ready to take on the position of U.S. ambassador to the United Kingdom. His sons, Miles and John Stephens, have been named co-CEOs, representing the third generation of family leadership at the firm.[8]\\n\\n## Political involvement\\n\\n[edit]A Republican, he supported Bob Dole in 1996, Steve Forbes in 1999, and has supported Mike Huckabee.[9] Stephens was a bundler for Mitt Romney in 2012.[10] He has been critical of presidents Bill Clinton and Barack Obama.[11][12][9] During the 2016 election, Stephens and his brother Jackson Stephens were major financial supporters of the Stop Trump movement.[13]\\n\\nDuring the 2020 presidential election, Stephens donated more than $3 million to Super PACs supporting Trump. In the 2024 Republican presidential primaries, Stephens was a major financial backer of Asa Hutchinson and Nikki Haley.[14][15] During the 2024 presidential campaign, Stephens also contributed to MAGA Inc., a Super PAC aligned with Donald Trump.[16]\\n\\nOn December 2, 2024, President-elect Donald Trump announced Stephens as the nominee to serve as the United States ambassador to the United Kingdom.[17] On February 12, 2025, his nomination was sent to the Senate.[18] His nomination was confirmed by a vote of 59–39 on April 29, 2025.[3] He is awaiting the presentation of his credentials.\\n\\n## Philanthropy\\n\\n[edit]Stephens was on the board of trustees of his alma mater, Washington and Lee University.[5] Stephens and his wife Harriet are benefactors of various organizations, most notably the Episcopal Collegiate School and the Arkansas Arts Center, both in Little Rock.[19][20]\\n\\n## References\\n\\n[edit]**^**\"Warren Stephens\".*Stephens*.**^**\"Trump picks investment banker Warren Stephens as UK ambassador\".*BBC News*. Retrieved December 3, 2024.- ^\\n**a**Solomon, Scott (April 29, 2025). \"Warren Stephens receives confirmation to serve as U.S. Ambassador to United Kingdom\".**b***KATV*. Retrieved April 29, 2025. - ^\\n**a****b****c****d**\"Stephens History\".**e***Stephens*. Archived from the original on December 8, 2014. Retrieved December 11, 2014. - ^\\n**a**\"W&L\".**b***Washington & Lee*. **^**\"University of Arkansas/Walton College/Arkansas Business Hall of Fame/Warren A. Stephens\". Retrieved December 7, 2023.**^**\"Dillard\\'s Board of Directors\".*Bloomberg Business Week*. Archived from the original on December 13, 2014.**^**Clarke, Paul. \"Warren Stephens\\' UK ambassador role triggers succession at family owned investment bank\".*www.fnlondon.com*. Retrieved May 16, 2025.- ^\\n**a**Steven Barnes, \\'PRIVATE SECTOR; Understatement, at $5 Billion\\', in**b***The New York Times*, November 21, 1999 [1] **^**Schouten, Fredreka (July 13, 2012). \"Mitt Romney announces three bundlers\".*USA Today*. Retrieved October 15, 2013.**^**\"Warren Stephens\".*Forbes*. Archived from the original on May 28, 2023.**^**BusinessWeek profile**^**Mider, Zachary (March 21, 2016). \"Arkansas Billionaire Warren Stephens A Leading Stop-Trump Donor\". Southwest Times Record. Archived from the original on August 17, 2016. Retrieved July 18, 2016.**^**Schwartz, Brian (July 31, 2023). \"Almost all of Trump\\'s biggest 2020 super PAC donors refrain from giving to his rivals\". NBC News.**^**Reston, Maeve; Morse, Clara Ence; Knowles, Hanna (February 1, 2024). \"Trump spent more than $55 million in donor money on legal fees last year, filings show\".*Washington Post*.**^**Woodward, Alex. \"Reclusive Republican megadonor drops $50m into Trump super PAC\". Independent.**^**\"Donald Trump nominates billionaire investment banker Warren Stephens to be US ambassador to UK\".*Sky News*. United States. December 2, 2024. Retrieved December 3, 2024.**^**\"Nominations Sent to the Senate\" (Press release). The White House. February 12, 2025.**^**\"Episcopal Collegiate School: History\".*Episcopal Collegiate School*.**^**\"The King of Little Rock\".*Barron\\'s*.'), ('https://apnews.com/article/trump-transition-appointments-ambassador-52e4744db02a0f8e078685a7a754835d', '# Trump names billionaire investment banker Warren Stephens as his envoy to Britain\\n\\nWASHINGTON (AP) — President-elect Donald Trump has named billionaire investment banker Warren Stephens as his envoy to Britain, a prestigious posting for the Republican donor whose contributions this year included $2 million to a Trump-backing super PAC.\\n\\nTrump, in a post on his Truth Social site Monday evening, announced he was selecting Stephens to be the U.S. ambassador to the Court of Saint James. The Senate is required to confirm the choice.\\n\\n“Warren has always dreamed of serving the United States full time. I am thrilled that he will now have that opportunity as the top Diplomat, representing the U.S.A. to one of America’s most cherished and beloved Allies,” Trump said in in his post.\\n\\nStephens is the chairman, president and CEO of Little Rock, Arkansas-based financial services firm Stephens Inc., having taken over the firm from his father.\\n\\nTrump has already named many of his nominees for his Cabinet and high-profile diplomatic posts, assembling a roster of staunch loyalists. Over the weekend, Trump announced he intends to nominate real estate developer Charles Kushner, father of Trump’s son-in-law Jared Kushner, to serve as ambassador to France.\\n\\nDuring his first term, Trump selected Robert “Woody” Johnson, a contributor to his campaign and the owner of the New York Jets football team, as his representative to the United Kingdom.'), ('https://www.timesnownews.com/world/us/us-news/who-is-warren-stephens-donald-trump-uk-ambassador-pick-age-net-worth-career-family-controversiesotherdetails-article-115912443', 'Error: 403 Client Error: Forbidden for url: https://www.timesnownews.com/world/us/us-news/who-is-warren-stephens-donald-trump-uk-ambassador-pick-age-net-worth-career-family-controversiesotherdetails-article-115912443'), ('https://www.the-express.com/news/us-news/170302/trump-appoints-warren-stephens-us-ambassador-britain-bolstering-uk-us-relations', '# Trump appoints Warren Stephens as US Ambassador to Britain, bolstering UK-US relations\\n\\n## Warren Stephens, who serves as president and CEO of Stephens Inc., was nominated by President Donald Trump\\n\\nWarren Stephens, the billionaire investment banker, has clinched the role of US Ambassador to Britain with a 59 to 39 Senate vote sealing his confirmation.\\n\\nAs chairman, president, and CEO of Stephens Inc. , a financial services behemoth headquartered in Little Rock, Arkansas, Mr. Stephens was tapped for the position by former President Donald Trump.\\n\\nA stalwart Republican benefactor, Stephens has funneled millions into GOP coffers, backing not only Trump\\'s electoral bids but also his 2025 inaugural festivities.\\n\\nHis appointment is poised to reinforce the transatlantic bond, with Downing Street anticipated to extend an official greeting to the new envoy shortly.\\n\\nIt\\'s a tradition for U.S. presidents to reward prominent donors with the prestigious London ambassadorship; Woody Johnson, the billionaire New York Jets owner, served during Trump\\'s initial term, reports The Mirror.\\n\\n** Don\\'t miss... **\\n\\n** UK PM Keir Starmer could finally give Donald Trump his golf wish [LATEST] **\\n\\n** Moment Trump plays two-minute video of mass deportations at 100-day rally [LATEST] **\\n\\n** Donald Trump\\'s golfing obsession comes with cost to American taxpayers [LATEST] **\\n\\n** Fox News anchor breaks down Donald Trump\\'s approval rating in brutal segment [LATEST] **\\n\\nWhen announcing Stephens\\' nomination, Trump lauded him on Truth Social: \"Over the last 38 years, while serving as the President, Chairman, and CEO of his company, Stephens Inc., Warren has built a wonderful financial services firm, while selflessly giving back to his community as a philanthropist.\"\\n\\nTrump expressed his enthusiasm for Stephens\\' new diplomatic venture: \"I am thrilled that he will now have that opportunity as the top diplomat, representing the USA to one of America\\'s most cherished and beloved allies.\"\\n\\nDespite his current accolades for Trump, Stephens wasn\\'t always in the former president\\'s corner. Back in 2016, when Trump was on the campaign trail, Stephens funneled a hefty $4m (£3.1m) to opposing political factions, as reported by the BBC.\\n\\n** Don\\'t miss... ** ** Moment Trump plays two-minute video of mass deportations at 100-day rally [LATEST] **\\n\\nBut once Trump clinched the presidency, Stephens pivoted and offered him his full backing.\\n\\nUpon his nomination as London ambassador in December, Stephens declared, \"I have expressed to President Trump that I would be extremely proud to serve our country and his administration, working to implement the President\\'s agenda and further strengthen the long-standing alliance between the United States and the United Kingdom.\"\\n\\nNow, as Stephens takes on the ambassadorial mantle, he does so at a critical juncture for UK-US relations. Prime Minister Keir Starmer\\'s government is actively seeking to mend fences with the European Union post-Brexit—a move that saw Britain sever formal ties with the EU in 2020.\\n\\nMoreover, the Starmer-led administration is vigorously pursuing a new economic pact with Washington, one that aims to dismantle the tariffs slapped on imports during Trump\\'s tenure. This initiative is part of a larger strategy to fortify trade and security alliances.'), ('https://www.thv11.com/article/news/local/warren-stephens-confirmed-uk-ambassador/91-7e1fc4e2-3a96-407d-805e-7542b86781c0', 'Despre\\nPresă\\nDrepturi de autor\\nContactează-ne\\nCreatori\\nPublicitate\\nDezvoltatori\\nCondiții\\nConfidențialitate\\nPolitică și siguranță\\nCum funcționează YouTube\\nTestează funcții noi\\n© 2025 Google LLC'), ('https://www.standard.co.uk/news/us-politics/warren-stephens-new-uk-ambassador-donald-trump-b1197754.html', '# Who is Warren Stephens? Donald Trump appoints new UK ambassador\\n\\nWarren Stephens, a billionaire investment banker, has been announced as the new US ambassador to the UK.\\n\\nDonald Trump made the announcement on his Truth Social platform, describing Mr Stephens as as “one of the most successful businessmen in the country”. He also described the UK as one of America’s “most cherished and beloved Allies”.\\n\\nHe wrote: “I am pleased to announce that Warren A Stephens, one of the most successful businessmen in the country, has been nominated to serve as the United States Ambassador to the Court of St James’s, a role in which he will act as our representative to the United Kingdom.\\n\\n“Over the last 38 years, while serving as the president, chairman, and CEO of his company, Stephens Inc, Warren has built a wonderful financial services firm, while selflessly giving back to his community as a philanthropist.\\n\\n“Warren has always dreamed of serving the United States full time. I am thrilled that he will now have that opportunity as the top diplomat, representing the USA to one of America’s most cherished and beloved allies.”\\n\\nHere is everything we know about the new ambassador to the UK.\\n\\n## Who is Warren Stephens?\\n\\nWarren Stephens, 67, has had a long career in investment banking. He is also a Republican donor who previously campaigned against Mr Trump, then changed his mind and backed him financially during the election campaign after first favouring Nikki Haley.\\n\\nHe is the chair, president and chief executive of financial services firm Stephens Inc, based in Little Rock, Arkansas, which had been run by his father before him.\\n\\nHe graduated from Washington and Lee University with a degree in economics. He then joined the family business alongside his father and uncle. One of the firm’s significant investments is in the Walmart drug store chain.\\n\\n## What has been Warren Stephens’ political career?\\n\\nHe has no political or diplomatic experience but is an important donor to the Republican Party, both in this campaign and in previous ones.\\n\\nIn 2016, when Donald Trump first ran for president, Stephens donated $4m (£3.1 million) to political groups that fought to stop him becoming the nominee. In 2024 he gave $2m to a political action committee that supported former UN Ambassador Nikki Haley as she unsuccessfully ran for the Republican nomination.\\n\\nBut when Donald Trump won the race to be the Republican candidate, he threw his support behind him in the hopes of a Republican win.\\n\\n## What will his role be?\\n\\nStephens is set to replace Jane Hartley who was appointed by the outgoing president, Joe Biden. He is set to take over the job after Mr Trump’s inauguration in January. The Senate is required to confirm the choice.\\n\\n### Read More\\n\\nDuring his campaign, Mr Trump vowed to rework the US’s relationships abroad, promising to put “America first” when it came to trade and foreign policy.\\n\\nThe role of US ambassador to the UK is one of the most coveted of diplomatic positions, and presidents have in the past also bestowed the role on prominent backers.'), ('https://www.ft.com/content/a6bc91a1-e0ac-49bf-b1ec-5562b893c590', 'JavaScript is disabled in your browser.\\nPlease enable JavaScript to proceed.\\nA required part of this site couldn’t load. This may be due to a browser extension, network issues, or browser settings. Please check your connection, disable any ad blockers, or try using a different browser.'), ('https://www.yahoo.com/news/trump-names-billionaire-investment-banker-224807319.html', 'Error: 429 Client Error: Too Many Requests for url: https://www.yahoo.com/news/trump-names-billionaire-investment-banker-224807319.html'), ('https://www.desmog.com/2025/05/15/donald-trump-uk-ambassador-warren-stephens-investments-industries-set-to-benefit-from-trade-deal/', 'President Donald Trump’s UK ambassador holds shares worth hundreds of millions in the key sectors that stand to benefit from last week’s UK-U.S. trade agreement.\\n\\nStephens played a key role in pushing through the deal, according to the UK’s ambassador to the U.S. Peter Mandelson, while campaigners have raised concerns that he will personally benefit.\\n\\nAccording to __financial records__ viewed by DeSmog and The* *Lever, Warren Stephens’ family-owned investment company Stephens Inc. owns stocks worth at least $250 million in agriculture and food firms — the principal beneficiaries of the deal announced by the United States and the UK on 8 May.\\n\\nThis article is being co-published with The Lever, an investigative newsroom. Click here to get The Lever’s free newsletter.\\n\\nThe trade agreement, which allows the U.S. agriculture sector to trade more easily in the UK, “will create a $5 billion opportunity for new exports for U.S. farmers, ranchers, and producers,” __according to__ the Trump administration.\\n\\nThe deal also pledges that the two nations will negotiate a “transformative technology partnership” and a deal on pharmaceuticals.\\n\\nAccording to Stephens Inc.’s __latest filing__ with the Securities and Exchange Commission (SEC), on 31 March the firm had at least $800 million invested in tech companies and at least $220 million in pharmaceutical firms.\\n\\nStephens Inc. also had $8 million invested in the aviation firm Boeing, which __sold__ 32 planes to British Airways after the trade agreement was announced. As part of the deal, the U.S. agreed to drop tariffs on Rolls-Royce engines and other plane parts from the UK.\\n\\n“For anyone still questioning who’s likely to benefit most from this trade deal, look no further,” said Harmit Kambo, a campaign manager at the Good Law Project, a UK-based legal advocacy group.\\n\\n# Subscribe to our newsletter\\n\\nStay up to date with DeSmog news and alerts\\n\\nPrior to starting the diplomatic role, Stephens stated in his __ethics undertakings__ that he would remain a shareholder at Stephen’s Inc. but would resign from a management position and would not participate in any matter as ambassador that has a “direct predictable effect” on the financial interests of the company, unless he obtains a written waiver.\\n\\n__Speaking__ in the Oval Office during the announcement of the deal, the UK’s ambassador to the U.S., Peter Mandelson, personally credited Stephens with getting the deal over the line.\\n\\n“Yesterday I received a call, a very diplomatic call, that edged things over the line, from your new ambassador in the UK, Warren Stephens,” Mandelson said. “He’s flying to London tomorrow night. He’s going to be very popular with the British people. He’s going to be a very successful ambassador.”\\n\\nDeSmog previously __revealed__ that Stephens, a billionaire, gave $4 million to Trump’s inauguration fund on the same day that he was nominated for the ambassadorial role.\\n\\nThere is no evidence that Stephens used his diplomatic position to orchestrate a deal that would boost his family’s investments or benefit the firms in their portfolio.\\n\\nThe Stephens Inc. did not respond to a request for comment. The U.S. embassy in London did not respond on the record.\\n\\n**Big Ag**\\n\\nStephens Inc., founded in 1933, has a $7 billion portfolio listed with the SEC, making it one of the largest privately owned investment banks in the U.S..\\n\\nWarren Stephens is listed as chairman of the company, having also served as its CEO and president prior to being appointed as Trump’s ambassador to the UK in February. The firm is now run by Warren’s sons, joint-CEOs Miles and John Stephens.\\n\\nBased on the firm’s latest SEC filing, Stephens Inc. has investments in a number of agriculture and food companies that may benefit from the UK-U.S. trade deal.\\n\\nThis includes the Campbell’s Company, one of the largest processed food companies in America; the agribusiness giant Bunge Global; and Tyson Foods, the largest U.S. beef exporter.\\n\\nAlthough the Trump administration has talked-up the opportunities provided to agriculture firms by the trade agreement, the deal only currently appears to cover beef and ethanol exports — albeit with a commitment to continue “working together to improve market access for agricultural products.”\\n\\nU.S. Secretary of Agriculture Brooke Rollins, who __visited__ the UK on a trade mission this week, __said__ the U.S. wants its pork, poultry, rice, and seafood sectors to be granted expanded access to the UK market — claiming these industries were “at the front of the line” of the ongoing trade negotiations.\\n\\nThe food industry appears to have a big sway over the Trump administration. The __top corporate donor__ to Trump’s inauguration fund was the poultry company Pilgrim’s Pride, a subsidiary of the Brazilian meat giant JBS, which gave $5 million.\\n\\nThe Trump administration has in recent weeks __withdrawn__ a proposed regulation that would have limited salmonella content in raw poultry and required producers to test their products for salmonella before selling them.\\n\\nMeanwhile, British farmers and food producers have already raised concerns about being undercut by cheaper U.S. imports that may not meet UK or EU hygiene standards.\\n\\nIncreased trade in agriculture may also have climate impacts. Livestock __accounts for__ over 14 percent of all greenhouse gas emissions worldwide, and scientists __agree that__ fast and drastic cuts to the sector’s pollution are required to limit global heating.\\n\\nSpeaking in the Oval Office during the announcement of the trade agreement, Rollins claimed that it would “exponentially increase our beef exports”.\\n\\nThough the agreement was heralded by both countries, the U.S. has maintained a blanket 10 percent tariff on most UK goods following Trump’s claim that “the world has taken advantage of the U.S. for many years.”\\n\\n**Big Tech**\\n\\nThe UK government also has been pushing for a tech deal with the United States, hoping to secure investments from the country’s tech goliaths.\\n\\nThese companies are among the biggest in Stephens Inc.’s portfolio, which lists holdings in Apple ($179 million), Microsoft ($128 million), Alphabet ($97 million), Amazon ($90 million), and Meta ($46 million).\\n\\nAll of these companies or their CEOs __donated__ at least $1 million to Trump’s inauguration fund, which paid for the president’s swearing-in ceremony.\\n\\nSpeaking alongside Trump and Rollins in the Oval Office, UK ambassador Mandelson made the case for a tech deal directly to the president.\\n\\nThe agreement signed last week “provides us with the platform — the springboard — to do what I think will be even more valuable for both our countries in the future and that’s creating a technology partnership between the United States and the United Kingdom so that we can harness science and technology in order to create future industries and future jobs,” he said.\\n\\nMandelson has forcefully __advocated__ for a UK-U.S. tech partnership since he started his ambassadorial role in February.\\n\\nHe also has financial ties to the tech industry.\\n\\nMandelson is the co-founder of the lobbying firm Global Counsel, which represents the data software firm Palantir, which has faced controversy for its role in U.S. immigration enforcement and defence.\\n\\nAccording to the BBC, Palantir’s UK chief Louis Mosley was “in the room” when initial __trade talks__ took place between Trump and Prime Minister Keir Starmer in February.\\n\\nMosley said on ‘Sunday with Laura Kuenssberg’, a weekly BBC TV show, that “tech and science is where it [the U.K.-U.S. trade agreement] now needs to go.”\\n\\nPalantir has received $2.7 billion in U.S. government contracts since 2009, and $601.5 million in the past year alone. It also has £376 million of contracts with the UK government, mainly via a £330 million deal to build a new NHS data platform. However, __according to__ NHS figures, fewer than a quarter of England’s 215 hospital trusts were actively using Palantir’s Federated Data Platform (FDP) by the end of 2024.\\n\\nLast week, former Palantir staff __accused__ the company of breaching its own ethical standards by helping the Trump administration track immigrants for illegal deportations.\\n\\nThe company also __allegedly provides__ “AI-based predictive policing systems” used in Gaza and the West Bank.\\n\\nMandelson stood down from Global Counsel when he became the ambassador, but still holds shares in the lobbying outfit and has __not set a deadline__ for fully divesting from the firm.\\n\\nStephens Inc. holds shares worth $29 million in Palantir, and Kambo from the Good Law Project said it was “alarming” that the firm “has been at the centre of this deal”.\\n\\nPalantir did not respond to a request for comment.\\n\\n**Big Oil**\\n\\nStephens Inc. also has at least $250 million invested in fossil fuel companies, including some of the world’s biggest oil and gas producers. The firm’s portfolio features the likes of Chevron, ExxonMobil, Shell, and BP.\\n\\nAs DeSmog* *previously __reported__, the Stephens family also owns Stephens Natural Resources, which “has a rich history of drilling and producing both oil and natural gas” according to its website.\\n\\nAlthough the UK-U.S. trade deal doesn’t cover energy, the Trump administration has been __putting pressure__ on governments __across the world__ to drop their commitments to clean sources of power and maintain a reliance on fossil fuels.\\n\\nTrump has vowed to “drill, baby, drill” for oil and gas, has __called__ climate change a “hoax”, and has once again pulled the U.S. out of the flagship 2015 Paris Agreement, which established a global ambition to limit global warming to 1.5C above industrial levels.\\n\\nTrump’s inauguration committee accepted donations from Chevron ($2 million), ExxonMobil ($1 million), the U.S. branches of BP and Shell ($500,000 each), and Valero ($250,000), while his re-election campaign __received__ more than $75 million from oil and gas interests.\\n\\n“The UK doesn’t have to follow the U.S. into democratic decline,” said Kambo. “Our government should be urgently acting to turn the tide on political corruption by tightening the rules around conflicts of interests and transparency requirements”.\\n\\n*Additional research by Rachel Sherrington and Joey Grostern*\\n\\nThis article is being co-published with The Lever, an investigative newsroom. Click here to get The Lever’s free newsletter.\\n\\n# Subscribe to our newsletter\\n\\nStay up to date with DeSmog news and alerts'), ('https://www.pressreader.com/usa/arkansas-democrat-gazette/20250402/281698325560752', None)], tool_call_id='call_WPyRTy2a5YUPBMhoG7Fel9GN', timestamp=datetime.datetime(2025, 5, 19, 12, 31, 2, 106877, tzinfo=datetime.timezone.utc), part_kind='tool-return')], instructions=None, kind='request'),\n",
              " ModelResponse(parts=[ToolCallPart(tool_name='final_result', args='{\"type_of_connection\":\"Political\",\"explanation\":\"Warren A Stephens is an American businessman and investment banker who was nominated by former President Donald Trump to serve as the United States ambassador to the United Kingdom in his second administration. Stephens is a significant Republican donor who initially opposed Trump in 2016 but later supported him financially in the 2020 election, donating millions to Trump-aligned Super PACs. Trump announced Stephens\\' nomination to the ambassador role in December 2024, and the U.S. Senate confirmed it in April 2025. This political appointment and Stephens\\' financial support to Trump establish the connection between them.\",\"source_urls\":\"https://en.wikipedia.org/wiki/Warren_Stephens\"}', tool_call_id='call_IU4yL8CLOxu2im2psNK4kuqW', part_kind='tool-call')], usage=Usage(requests=1, request_tokens=7883, response_tokens=151, total_tokens=8034, details={'accepted_prediction_tokens': 0, 'audio_tokens': 0, 'reasoning_tokens': 0, 'rejected_prediction_tokens': 0, 'cached_tokens': 1536}), model_name='gpt-4.1-mini-2025-04-14', timestamp=datetime.datetime(2025, 5, 19, 12, 31, 2, tzinfo=datetime.timezone.utc), kind='response'),\n",
              " ModelRequest(parts=[ToolReturnPart(tool_name='final_result', content='Final result processed.', tool_call_id='call_IU4yL8CLOxu2im2psNK4kuqW', timestamp=datetime.datetime(2025, 5, 19, 12, 31, 8, 151173, tzinfo=datetime.timezone.utc), part_kind='tool-return')], instructions=None, kind='request')]"
            ]
          },
          "execution_count": 52,
          "metadata": {},
          "output_type": "execute_result"
        }
      ],
      "source": [
        "result.all_messages()"
      ]
    },
    {
      "cell_type": "code",
      "execution_count": 57,
      "metadata": {},
      "outputs": [
        {
          "data": {
            "text/plain": [
              "TrumpConnection(type_of_connection='Political', explanation=\"Warren A Stephens is an American businessman and investment banker who was nominated by former President Donald Trump to serve as the United States ambassador to the United Kingdom in his second administration. Stephens is a significant Republican donor who initially opposed Trump in 2016 but later supported him financially in the 2020 election, donating millions to Trump-aligned Super PACs. Trump announced Stephens' nomination to the ambassador role in December 2024, and the U.S. Senate confirmed it in April 2025. This political appointment and Stephens' financial support to Trump establish the connection between them.\", source_urls='https://en.wikipedia.org/wiki/Warren_Stephens')"
            ]
          },
          "execution_count": 57,
          "metadata": {},
          "output_type": "execute_result"
        }
      ],
      "source": [
        "result.output"
      ]
    },
    {
      "cell_type": "markdown",
      "metadata": {},
      "source": [
        "## Running on the full dataset"
      ]
    },
    {
      "cell_type": "markdown",
      "metadata": {},
      "source": [
        "We now have a working agent that can search the internet, read websites and return structured outputs.\n",
        "\n",
        "We can now have it run on each row of our dataset and return a full classification for each donor.\n",
        "\n",
        "First, let's define a simple function that incorporates the agent run shown above."
      ]
    },
    {
      "cell_type": "code",
      "execution_count": 10,
      "metadata": {},
      "outputs": [],
      "source": [
        "def classify_donor(donor: str):\n",
        "    result = agent.run_sync(f'What is the connection between {donor} and Donald Trump?')\n",
        "    return result.output"
      ]
    },
    {
      "cell_type": "markdown",
      "metadata": {},
      "source": [
        "Now, we can run it on the scraped data from the FEC website. In the interest of time, we'll only run it on the first five rows."
      ]
    },
    {
      "cell_type": "code",
      "execution_count": null,
      "metadata": {},
      "outputs": [],
      "source": [
        "def apply_classify_donor(df):\n",
        "    # Apply the classify_donor function to each row\n",
        "    df['classification'] = df.apply(lambda row: classify_donor(donor=row['Name']), axis=1)\n",
        "    \n",
        "    # Convert the Pydantic objects to dictionaries\n",
        "    classification_dicts = df['classification'].apply(lambda x: x.model_dump())\n",
        "    \n",
        "    # Create a new DataFrame from the classification dictionaries\n",
        "    # This ensures the index matches the original dataframe\n",
        "    classification_df = pd.DataFrame(classification_dicts.tolist(), index=df.index)\n",
        "    \n",
        "    # Combine original data with classification data\n",
        "    result_df = pd.concat([df.drop(['classification'], axis=1), classification_df], axis=1)\n",
        "    \n",
        "    return result_df"
      ]
    },
    {
      "cell_type": "code",
      "execution_count": 28,
      "metadata": {},
      "outputs": [],
      "source": [
        "fec_classified = apply_classify_donor(fec_total)"
      ]
    },
    {
      "cell_type": "code",
      "execution_count": 29,
      "metadata": {},
      "outputs": [
        {
          "data": {
            "application/vnd.microsoft.datawrangler.viewer.v0+json": {
              "columns": [
                {
                  "name": "index",
                  "rawType": "int64",
                  "type": "integer"
                },
                {
                  "name": "Name",
                  "rawType": "object",
                  "type": "string"
                },
                {
                  "name": "Donation Amount",
                  "rawType": "float64",
                  "type": "float"
                },
                {
                  "name": "type_of_connection",
                  "rawType": "object",
                  "type": "string"
                },
                {
                  "name": "explanation",
                  "rawType": "object",
                  "type": "string"
                },
                {
                  "name": "source_urls",
                  "rawType": "object",
                  "type": "string"
                }
              ],
              "conversionMethod": "pd.DataFrame",
              "ref": "af9ab343-6768-4df2-9f69-4c1209beb969",
              "rows": [
                [
                  "618",
                  "PILGRIM'S PRIDE CORPORATION",
                  "5000000.0",
                  "Business",
                  "Pilgrim's Pride Corporation, a major poultry producer, was the largest corporate donor to Donald Trump's 2025 inauguration committee. The company contributed $5 million, which was the largest single corporate donation reported. Pilgrim's Pride is a subsidiary of the Brazilian meat giant JBS SA and has been involved in antitrust scrutiny, including a guilty plea in 2021 for conspiring to fix chicken prices.",
                  "https://www.notus.org/donald-trump/inauguration-fundraising-pilgrims-pride, https://readsludge.com/2025/04/21/trumps-top-inaugural-donor-is-poultry-company-fined-for-price-fixing-and-antitrust-violations/, https://www.wattagnet.com/regions/north-america/news/15743696/pilgrims-pride-donated-5-to-trumpvance-inauguration"
                ],
                [
                  "652",
                  "RIPPLE LABS, INC.",
                  "4889345.33",
                  "Other",
                  "Ripple Labs, Inc. has a connection to Donald Trump primarily through business and political interaction. Ripple CEO Brad Garlinghouse and Chief Legal Officer Stuart Alderoty met with then President-elect Donald Trump in January 2025. Ripple donated $5 million to Trump's inaugural committee and has reported increased business optimism and US-based deals following Trump's election, referred to as the 'Trump Effect.' This effect has encouraged Ripple to focus more on the US market and hire domestically. Additionally, Trump has mentioned Ripple and XRP positively on his social media, signaling a more crypto-friendly stance that contrasts with previous regulatory challenges Ripple faced under the SEC during the earlier administration. Thus, the connection is centered around business and political engagement shaping Ripple's market and regulatory environment in the US.",
                  "https://abcnews.go.com/US/sec-drops-case-crypto-firm-ties-trump-ceo/story?id=119963257, https://www.coindesk.com/markets/2025/01/06/ripples-garlinghouse-touts-trump-effect-amid-bump-in-u-s-deals, https://timestabloid.com/donald-trump-just-posted-about-ripple-and-xrp/, https://blockonomi.com/ripple-expands-us-operations-following-trump-meeting/"
                ]
              ],
              "shape": {
                "columns": 5,
                "rows": 2
              }
            },
            "text/html": [
              "<div>\n",
              "<style scoped>\n",
              "    .dataframe tbody tr th:only-of-type {\n",
              "        vertical-align: middle;\n",
              "    }\n",
              "\n",
              "    .dataframe tbody tr th {\n",
              "        vertical-align: top;\n",
              "    }\n",
              "\n",
              "    .dataframe thead th {\n",
              "        text-align: right;\n",
              "    }\n",
              "</style>\n",
              "<table border=\"1\" class=\"dataframe\">\n",
              "  <thead>\n",
              "    <tr style=\"text-align: right;\">\n",
              "      <th></th>\n",
              "      <th>Name</th>\n",
              "      <th>Donation Amount</th>\n",
              "      <th>type_of_connection</th>\n",
              "      <th>explanation</th>\n",
              "      <th>source_urls</th>\n",
              "    </tr>\n",
              "  </thead>\n",
              "  <tbody>\n",
              "    <tr>\n",
              "      <th>618</th>\n",
              "      <td>PILGRIM'S PRIDE CORPORATION</td>\n",
              "      <td>5000000.00</td>\n",
              "      <td>Business</td>\n",
              "      <td>Pilgrim's Pride Corporation, a major poultry p...</td>\n",
              "      <td>https://www.notus.org/donald-trump/inauguratio...</td>\n",
              "    </tr>\n",
              "    <tr>\n",
              "      <th>652</th>\n",
              "      <td>RIPPLE LABS, INC.</td>\n",
              "      <td>4889345.33</td>\n",
              "      <td>Other</td>\n",
              "      <td>Ripple Labs, Inc. has a connection to Donald T...</td>\n",
              "      <td>https://abcnews.go.com/US/sec-drops-case-crypt...</td>\n",
              "    </tr>\n",
              "  </tbody>\n",
              "</table>\n",
              "</div>"
            ],
            "text/plain": [
              "                            Name  Donation Amount type_of_connection  \\\n",
              "618  PILGRIM'S PRIDE CORPORATION       5000000.00           Business   \n",
              "652            RIPPLE LABS, INC.       4889345.33              Other   \n",
              "\n",
              "                                           explanation  \\\n",
              "618  Pilgrim's Pride Corporation, a major poultry p...   \n",
              "652  Ripple Labs, Inc. has a connection to Donald T...   \n",
              "\n",
              "                                           source_urls  \n",
              "618  https://www.notus.org/donald-trump/inauguratio...  \n",
              "652  https://abcnews.go.com/US/sec-drops-case-crypt...  "
            ]
          },
          "execution_count": 29,
          "metadata": {},
          "output_type": "execute_result"
        }
      ],
      "source": [
        "fec_classified"
      ]
    },
    {
      "cell_type": "markdown",
      "metadata": {},
      "source": [
        "## Limitations"
      ]
    },
    {
      "cell_type": "markdown",
      "metadata": {},
      "source": [
        "There are lots of things we can improve about this process. Here are some ideas:\n",
        "\n",
        "- **Play around with the prompt**. We used a simple question, but the more specific you are, the better the results.\n",
        "- **Use different search engines**. DuckDuckGo is free and good for a prototype. However, their API isn't meant to be used this way and will often return errors. It also doesn't return the best results. I recomment switching to Google, potentially via a SERP API.\n",
        "- **Try other models**. If you find that gpt-4.1-mini is insufficient, you can use the smarter gpt-4.1 or a \"reasoning\" model like o3. Note that they are more expensive and slower.\n",
        "- **Validate the output**. While we did code the classifier to return structured output, you can go beyond that and validate the output (ie. check that the sources are valid URLs).\n",
        "- **Cache things**. Don't start over if something goes wrong, save the search results, scrapes and LLM outputs and continue where you left off.\n",
        "- **Async/Multithreading**. This can be a pretty slow process, so you might want to run several agents in parallel.\n",
        "- **Verify**. LLMs are still dumb and shouldn't be trusted! Manually verify the classifications if you're going to publish the results."
      ]
    },
    {
      "cell_type": "markdown",
      "metadata": {},
      "source": [
        "# A better way"
      ]
    },
    {
      "cell_type": "markdown",
      "metadata": {},
      "source": [
        "I've used this approach for several projects at Global Witness, including our [annual classification of fossil fuel donors at COP](https://globalwitness.org/en/campaigns/fossil-fuels/how-we-used-ai-to-help-us-find-lobbyists-at-cop/).\n",
        "\n",
        "To make my life easier, I packaged everything into a Python library called [Augmenta](https://github.com/Global-Witness/augmenta/). Let's see how it works.\n",
        "\n",
        "First, we need to install Augmenta."
      ]
    },
    {
      "cell_type": "code",
      "execution_count": 33,
      "metadata": {},
      "outputs": [
        {
          "name": "stderr",
          "output_type": "stream",
          "text": [
            "\u001b[2mUsing Python 3.13.2 environment at: D:\\Projects\\ddj-wiki\\.venv\u001b[0m\n",
            "   \u001b[36m\u001b[1mUpdating\u001b[0m\u001b[39m https://github.com/Global-Witness/augmenta.git (\u001b[2mHEAD\u001b[0m)\n",
            "    \u001b[32m\u001b[1mUpdated\u001b[0m\u001b[39m https://github.com/Global-Witness/augmenta.git (\u001b[2m069913f704b4e8ed285db0d190abbf137c0e7888\u001b[0m)\n",
            "\u001b[2mResolved \u001b[1m102 packages\u001b[0m \u001b[2min 5.36s\u001b[0m\u001b[0m\n",
            "   \u001b[36m\u001b[1mBuilding\u001b[0m\u001b[39m augmenta\u001b[2m @ git+https://github.com/Global-Witness/augmenta.git@069913f704b4e8ed285db0d190abbf137c0e7888\u001b[0m\n",
            "      \u001b[32m\u001b[1mBuilt\u001b[0m\u001b[39m augmenta\u001b[2m @ git+https://github.com/Global-Witness/augmenta.git@069913f704b4e8ed285db0d190abbf137c0e7888\u001b[0m\n",
            "\u001b[2mPrepared \u001b[1m10 packages\u001b[0m \u001b[2min 3.65s\u001b[0m\u001b[0m\n",
            "\u001b[1m\u001b[33mwarning\u001b[39m\u001b[0m\u001b[1m:\u001b[0m \u001b[1mFailed to hardlink files; falling back to full copy. This may lead to degraded performance.\n",
            "         If the cache and target directories are on different filesystems, hardlinking may not be supported.\n",
            "         If this is intentional, set `export UV_LINK_MODE=copy` or use `--link-mode=copy` to suppress this warning.\u001b[0m\n",
            "\u001b[2mInstalled \u001b[1m14 packages\u001b[0m \u001b[2min 321ms\u001b[0m\u001b[0m\n",
            " \u001b[32m+\u001b[39m \u001b[1maiolimiter\u001b[0m\u001b[2m==1.2.1\u001b[0m\n",
            " \u001b[32m+\u001b[39m \u001b[1maugmenta\u001b[0m\u001b[2m==0.1 (from git+https://github.com/Global-Witness/augmenta.git@069913f704b4e8ed285db0d190abbf137c0e7888)\u001b[0m\n",
            " \u001b[32m+\u001b[39m \u001b[1mgoogleapis-common-protos\u001b[0m\u001b[2m==1.70.0\u001b[0m\n",
            " \u001b[32m+\u001b[39m \u001b[1mlogfire\u001b[0m\u001b[2m==3.16.0\u001b[0m\n",
            " \u001b[32m+\u001b[39m \u001b[1mopentelemetry-exporter-otlp-proto-common\u001b[0m\u001b[2m==1.33.1\u001b[0m\n",
            " \u001b[32m+\u001b[39m \u001b[1mopentelemetry-exporter-otlp-proto-http\u001b[0m\u001b[2m==1.33.1\u001b[0m\n",
            " \u001b[32m+\u001b[39m \u001b[1mopentelemetry-instrumentation\u001b[0m\u001b[2m==0.54b1\u001b[0m\n",
            " \u001b[32m+\u001b[39m \u001b[1mopentelemetry-instrumentation-httpx\u001b[0m\u001b[2m==0.54b1\u001b[0m\n",
            " \u001b[32m+\u001b[39m \u001b[1mopentelemetry-proto\u001b[0m\u001b[2m==1.33.1\u001b[0m\n",
            " \u001b[32m+\u001b[39m \u001b[1mopentelemetry-sdk\u001b[0m\u001b[2m==1.33.1\u001b[0m\n",
            " \u001b[32m+\u001b[39m \u001b[1mopentelemetry-semantic-conventions\u001b[0m\u001b[2m==0.54b1\u001b[0m\n",
            " \u001b[32m+\u001b[39m \u001b[1mopentelemetry-util-http\u001b[0m\u001b[2m==0.54b1\u001b[0m\n",
            " \u001b[32m+\u001b[39m \u001b[1mprotobuf\u001b[0m\u001b[2m==5.29.4\u001b[0m\n",
            " \u001b[32m+\u001b[39m \u001b[1mtenacity\u001b[0m\u001b[2m==9.1.2\u001b[0m\n"
          ]
        }
      ],
      "source": [
        "!uv pip install git+https://github.com/Global-Witness/augmenta.git"
      ]
    },
    {
      "cell_type": "markdown",
      "metadata": {},
      "source": [
        "Next, we need to create a configuration file. This is a YAML file that contains all the settings for the agent, including the search engine to use, the LLM to use and the prompts. It may look something like this."
      ]
    },
    {
      "cell_type": "code",
      "execution_count": null,
      "metadata": {},
      "outputs": [],
      "source": [
        "yaml_config = \"\"\"\n",
        "input_csv: ai/data/fec_unclassified.csv\n",
        "output_csv: ai/data/fec_classified.csv\n",
        "model:\n",
        "  provider: openai\n",
        "  name: gpt-4.1-mini\n",
        "search:\n",
        "  engine: brightdata_google\n",
        "prompt:\n",
        "  system: You are an expert researcher whose job is to research the connections between political donors and Donald Trump.\n",
        "  user: |\n",
        "    # Instructions\n",
        "\n",
        "    Your job is to research {{Name}}, a donor to Donald Trump's inaugural fund. Your will determine how Donald Trump and {{Name}} are connected, whether via family, business ties, political ties or something else. Don't consider donations to the inaugural fund as a connection, we're only interested in connections before or after the donation.\n",
        "\n",
        "    ## Searching guidelines\n",
        "\n",
        "    In most cases, you should start by searching for \"{{Name}}\" and \"Donald Trump\". Where relevant, remove redundant words like \"INC\", \"LLC\", \"GROUP\", etc from the search query. If you need to perform another search, try to refine it by adding relevant keywords. Note that each case will be different, so be flexible and adaptable. Unless necessary, limit your research to two or three searches.\n",
        "\n",
        "    With each search, select a few sources that are most likely to provide relevant information. Access them using the tools provided. Be critical and use common sense. ALWAYS cite your sources.\n",
        "    \n",
        "    Now, please proceed with your analysis and classification of {{Name}}'s connections to Donald Trump.\n",
        "structure:\n",
        "  donor_industry:\n",
        "    type: str\n",
        "    description: What industry does this company, individual or organisation belong to?\n",
        "  type_of_connection:\n",
        "    type: str\n",
        "    description: How are they connected to Donald Trump?\n",
        "    options:\n",
        "      - Family\n",
        "      - Business\n",
        "      - Political\n",
        "      - Other\n",
        "      - No connection\n",
        "      - Don't know or not enough information\n",
        "  explanation:\n",
        "    type: str\n",
        "    description: A few paragraphs explaining your decision in English, formatted in Markdown. In the explanation, link to the most relevant sources from the provided documents. Include at least one inline URL.\n",
        "examples:\n",
        "  - input: \"Melinda Hildebrand\"\n",
        "    output:\n",
        "      donor_industry: Energy\n",
        "      type_of_connection: Political\n",
        "      explanation: |\n",
        "        President Donald Trump nominated River Oaks Donuts owner and energy executive Melinda Hildebrand [to serve as U.S. Ambassador to Costa Rica](https://www.congress.gov/nomination/119th-congress/55/21). In May 2024, [the Financial Times reported](https://www.ft.com/content/c89bbfc4-80db-4f3f-8d63-3aeb46ae91a9) the Hildebrand and her husband hosted a campaign event for then-presidential candidate Trump, who was seeking donations from power players in the U.S. energy industry. [The Daily Beast reported](https://www.thedailybeast.com/trump-goes-small-at-fundraisers-as-harris-goes-big-all-over/) that the Hildebrands also served on the host committee of a Trump fundraising dinner in Colorado. According to the Daily Beast, the host committee gave or raised $500,000 per couple.\n",
        "logfire: true\n",
        "\"\"\"\n",
        "\n",
        "# Write the string directly to the file\n",
        "with open(\"data/augmenta.yaml\", 'w') as file:\n",
        "    file.write(yaml_config)"
      ]
    },
    {
      "cell_type": "markdown",
      "metadata": {},
      "source": [
        "Now, we just to run Augmenta. Because it's a CLI tool, it doesn't work well in a Jupyter notebook, so we'll run it in a terminal. You can run it like this:\n",
        "\n",
        "```bash\n",
        "augmenta data/augmenta.yaml -v\n",
        "```"
      ]
    },
    {
      "cell_type": "markdown",
      "metadata": {},
      "source": [
        "This approach is faster (parallel processing), more reliable (caching), more transparent (logging via logfire) and easier to use (no need to write code). It also allows you to use the same configuration file for different projects, so you can reuse your work.\n",
        "\n",
        "You can also [extend Augmenta with custom tools](https://github.com/Global-Witness/augmenta/blob/main/docs/tools.md) via MCP servers. That means you can make it reason before each step, give it access to databases and APIs, and even allow it to write its own Python code (useful for processing data, doing maths, etc.).\n",
        "\n",
        "Feel free to check the [README](https://github.com/Global-Witness/augmenta) and get in touch if you have any questions or suggestions."
      ]
    }
  ],
  "metadata": {
    "colab": {
      "provenance": []
    },
    "kernelspec": {
      "display_name": ".venv",
      "language": "python",
      "name": "python3"
    },
    "language_info": {
      "codemirror_mode": {
        "name": "ipython",
        "version": 3
      },
      "file_extension": ".py",
      "mimetype": "text/x-python",
      "name": "python",
      "nbconvert_exporter": "python",
      "pygments_lexer": "ipython3",
      "version": "3.13.2"
    }
  },
  "nbformat": 4,
  "nbformat_minor": 0
}
