{
  "cells": [
    {
      "cell_type": "raw",
      "id": "c250529d-3381-4cf1-b9e1-da590fa12691",
      "metadata": {
        "vscode": {
          "languageId": "raw"
        }
      },
      "source": [
        "---\n",
        "title: \"AI classification agent\"\n",
        "href: python-classification-agent\n",
        "format:\n",
        "  html:\n",
        "    code-links:\n",
        "      - text: Download notebook\n",
        "        icon: download\n",
        "        href: https://github.com/nicucalcea/ddj-wiki/blob/main/ai/python-classification-agent.ipynb\n",
        "        target: _blank\n",
        "      - text: Open in Google Colab\n",
        "        icon: google\n",
        "        href: https://colab.research.google.com/github/nicucalcea/ddj-wiki/blob/main/ai/python-classification-agent.ipynb\n",
        "        target: _blank\n",
        "execute: \n",
        "  cache: true\n",
        "---"
      ]
    },
    {
      "cell_type": "markdown",
      "metadata": {
        "id": "vO-mZV3OGrm_"
      },
      "source": [
        "You find yourself staring at a dataset with tens or hundreds of thousands of rows. Maybe you want to get up-to-date FOIA contact details for all government departments in your country, or to find out which political donors have links to the fossil fuels industry. What do you do?\n",
        "\n",
        "This kind of work is time-consuming and challenging. However, Large Language Models (LLMs) like those powering ChatGPT can help journalists automate simple research and classification tasks that would take an unreasonably long time to do otherwise.\n",
        "\n",
        "In this session, we'll outline how to use LLMs, search engines and web scraping to help us identify links between Donald Trump and his donors. You can [download the notebook](https://github.com/nicucalcea/ddj-wiki/blob/main/ai/python-classification-agent.ipynb) and run it yourself, or you can [run it in the cloud using Google Colab](https://colab.research.google.com/github/nicucalcea/ddj-wiki/blob/main/ai/python-classification-agent.ipynb). Both links also in the sidebar to the right, or at the bottom of the page on mobile."
      ]
    },
    {
      "cell_type": "markdown",
      "metadata": {
        "id": "Nd-jWkBqd8jH"
      },
      "source": [
        "## Install and load libraries"
      ]
    },
    {
      "cell_type": "markdown",
      "metadata": {},
      "source": [
        "First, we'll need to install some libraries to help us call different LLMs and retrieve search results."
      ]
    },
    {
      "cell_type": "code",
      "execution_count": null,
      "metadata": {
        "id": "Jbn2VKx1gj4W"
      },
      "outputs": [],
      "source": [
        "%pip install pandas\n",
        "%pip install pydantic-ai\n",
        "%pip install duckduckgo-search\n",
        "%pip install trafilatura"
      ]
    },
    {
      "cell_type": "markdown",
      "metadata": {},
      "source": [
        "Then, we'll import those libraries."
      ]
    },
    {
      "cell_type": "code",
      "execution_count": null,
      "metadata": {},
      "outputs": [],
      "source": [
        "import os\n",
        "\n",
        "# maths\n",
        "import pandas as pd\n",
        "\n",
        "# scraping\n",
        "from urllib import request\n",
        "import ssl\n",
        "import requests\n",
        "from trafilatura import extract\n",
        "\n",
        "# validation\n",
        "from typing import List, Tuple\n",
        "from pydantic import BaseModel, Field\n",
        "from typing import Literal\n",
        "import json\n",
        "\n",
        "# AI\n",
        "from pydantic_ai import Agent, Tool\n",
        "from pydantic_ai.common_tools.duckduckgo import duckduckgo_search_tool\n",
        "\n",
        "# make async work in jupyter\n",
        "import nest_asyncio\n",
        "nest_asyncio.apply()"
      ]
    },
    {
      "cell_type": "markdown",
      "metadata": {},
      "source": [
        "Finally, we need to define some of the API keys we'll be using. You can get your own [OpenAI API key](https://platform.openai.com/account/api-keys) or from another provider.\n",
        "\n",
        "<span hidden=\"\">Get a <a href=\"https://static.globalwitness.org/dataharvest-api-keys.txt\" target=\"_blank\">temporary API key here</a>.</span>"
      ]
    },
    {
      "cell_type": "code",
      "execution_count": null,
      "metadata": {
        "id": "lisUctaVd_K8"
      },
      "outputs": [],
      "source": [
        "#| eval: false\n",
        "os.environ[\"OPENAI_API_KEY\"] = \"\"\n",
        "os.environ[\"BRIGHTDATA_API_KEY\"] = \"\"\n",
        "os.environ[\"BRIGHTDATA_ZONE\"] = \"\""
      ]
    },
    {
      "cell_type": "markdown",
      "metadata": {
        "id": "Z04YaWN5LEsy"
      },
      "source": [
        "## Prep data"
      ]
    },
    {
      "cell_type": "markdown",
      "metadata": {},
      "source": [
        "We'll work with some data from the US Federal Election Commission (FEC) on [donations to Donald Trump's inaugural committee](https://docquery.fec.gov/cgi-bin/forms/C00894162/1889684/f132). Because a downloadable version isn't provided, we'll scrape the data directly from the website."
      ]
    },
    {
      "cell_type": "code",
      "execution_count": 3,
      "metadata": {},
      "outputs": [],
      "source": [
        "response = request.urlopen(\"https://docquery.fec.gov/cgi-bin/forms/C00894162/1889684/f132\",\n",
        "                           context=ssl._create_unverified_context())\n",
        "html = response.read()\n",
        "\n",
        "fec_raw = pd.read_html(html)[0]"
      ]
    },
    {
      "cell_type": "markdown",
      "metadata": {},
      "source": [
        "We need to fix some of the formatting issues, like removing dollar signs and converting dates to a more standard format."
      ]
    },
    {
      "cell_type": "code",
      "execution_count": 4,
      "metadata": {},
      "outputs": [],
      "source": [
        "fec = fec_raw.copy()\n",
        "fec = fec.iloc[:-1] # the last row is a summary\n",
        "\n",
        "fec['Date Donation Received'] = pd.to_datetime(\n",
        "    fec['Date Donation Received'], \n",
        "    format='%m/%d/%Y'  # Format for \"31/12/2025\"\n",
        ")\n",
        "\n",
        "fec['Donation Amount'] = fec['Donation Amount'].str.replace('$', '', regex=False)\n",
        "fec['Donation Amount'] = pd.to_numeric(fec['Donation Amount'])\n",
        "\n",
        "fec = fec.drop(columns=[\"Donor's Aggregate Donations To Date\"])"
      ]
    },
    {
      "cell_type": "markdown",
      "metadata": {},
      "source": [
        "Some donors donated multiple times, so we'll want to group them together and only classify them once."
      ]
    },
    {
      "cell_type": "code",
      "execution_count": null,
      "metadata": {},
      "outputs": [],
      "source": [
        "fec_total = fec.groupby('Name')['Donation Amount'].sum().reset_index()\n",
        "fec_total = fec_total.sort_values(by='Donation Amount', ascending=False)\n",
        "fec_total = fec_total.head(5) # To keep things simple, we're only going to use the first 5 rows of the dataset.\n",
        "os.makedirs('data', exist_ok=True)\n",
        "fec_total.to_csv('data/fec_unclassified.csv', index=False)"
      ]
    },
    {
      "cell_type": "markdown",
      "metadata": {},
      "source": [
        "We should be ready to go. Let's see what the data looks like."
      ]
    },
    {
      "cell_type": "code",
      "execution_count": 7,
      "metadata": {},
      "outputs": [
        {
          "data": {
            "application/vnd.microsoft.datawrangler.viewer.v0+json": {
              "columns": [
                {
                  "name": "index",
                  "rawType": "int64",
                  "type": "integer"
                },
                {
                  "name": "Name",
                  "rawType": "object",
                  "type": "string"
                },
                {
                  "name": "Donation Amount",
                  "rawType": "float64",
                  "type": "float"
                }
              ],
              "conversionMethod": "pd.DataFrame",
              "ref": "b8fa073e-5a15-4e92-806f-a51ea4f93c89",
              "rows": [
                [
                  "618",
                  "PILGRIM'S PRIDE CORPORATION",
                  "5000000.0"
                ],
                [
                  "652",
                  "RIPPLE LABS, INC.",
                  "4889345.33"
                ],
                [
                  "824",
                  "WARREN A STEPHENS",
                  "4000000.0"
                ],
                [
                  "139",
                  "CHEVRON PRODUCTS COMPANY",
                  "2000000.0"
                ],
                [
                  "667",
                  "ROBINHOOD MARKETS, INC.",
                  "2000000.0"
                ]
              ],
              "shape": {
                "columns": 2,
                "rows": 5
              }
            },
            "text/html": [
              "<div>\n",
              "<style scoped>\n",
              "    .dataframe tbody tr th:only-of-type {\n",
              "        vertical-align: middle;\n",
              "    }\n",
              "\n",
              "    .dataframe tbody tr th {\n",
              "        vertical-align: top;\n",
              "    }\n",
              "\n",
              "    .dataframe thead th {\n",
              "        text-align: right;\n",
              "    }\n",
              "</style>\n",
              "<table border=\"1\" class=\"dataframe\">\n",
              "  <thead>\n",
              "    <tr style=\"text-align: right;\">\n",
              "      <th></th>\n",
              "      <th>Name</th>\n",
              "      <th>Donation Amount</th>\n",
              "    </tr>\n",
              "  </thead>\n",
              "  <tbody>\n",
              "    <tr>\n",
              "      <th>618</th>\n",
              "      <td>PILGRIM'S PRIDE CORPORATION</td>\n",
              "      <td>5000000.00</td>\n",
              "    </tr>\n",
              "    <tr>\n",
              "      <th>652</th>\n",
              "      <td>RIPPLE LABS, INC.</td>\n",
              "      <td>4889345.33</td>\n",
              "    </tr>\n",
              "    <tr>\n",
              "      <th>824</th>\n",
              "      <td>WARREN A STEPHENS</td>\n",
              "      <td>4000000.00</td>\n",
              "    </tr>\n",
              "    <tr>\n",
              "      <th>139</th>\n",
              "      <td>CHEVRON PRODUCTS COMPANY</td>\n",
              "      <td>2000000.00</td>\n",
              "    </tr>\n",
              "    <tr>\n",
              "      <th>667</th>\n",
              "      <td>ROBINHOOD MARKETS, INC.</td>\n",
              "      <td>2000000.00</td>\n",
              "    </tr>\n",
              "  </tbody>\n",
              "</table>\n",
              "</div>"
            ],
            "text/plain": [
              "                            Name  Donation Amount\n",
              "618  PILGRIM'S PRIDE CORPORATION       5000000.00\n",
              "652            RIPPLE LABS, INC.       4889345.33\n",
              "824            WARREN A STEPHENS       4000000.00\n",
              "139     CHEVRON PRODUCTS COMPANY       2000000.00\n",
              "667      ROBINHOOD MARKETS, INC.       2000000.00"
            ]
          },
          "execution_count": 7,
          "metadata": {},
          "output_type": "execute_result"
        }
      ],
      "source": [
        "fec_total"
      ]
    },
    {
      "cell_type": "markdown",
      "metadata": {},
      "source": [
        "## Grounding"
      ]
    },
    {
      "cell_type": "markdown",
      "metadata": {},
      "source": [
        "Large Language Models are prone to [hallucinations](https://en.wikipedia.org/wiki/Hallucination_(artificial_intelligence)). If you ask an LLM a question it doesn't know the answer to, [it will confidently make up a plausible-sounding answer](https://ddj.nicu.md/ai/) that is completely wrong. This is particularly the case with lesser known organisations or individuals that wouldn't feature promionently in the training data.\n",
        "\n",
        "One way to minimise (but not completely eliminate) hallucinations is by \"grounding\" the LLM with some factual data like documents or databases. This is sometimes a technique called Retrieval-Augmented Generation (RAG).\n",
        "\n",
        "In our case, we want to allow out agent to search the internet to look for additional information about each donor.\n",
        "\n",
        "We could try scraping search results from Google like we did with the FEC data, but Google doesn't like that, and they will put various roadblocks in your way such as CAPTCHAs, rate limits or even blocking your IP address. Instead, they want you to use their [Custom Search API](https://developers.google.com/custom-search/v1/overview), which is paid and limited to 10k queries per day.\n",
        "\n",
        "Other search engines like Brave provide generous free tiers and more reasonable pricing, and there are some services that specifically cater to AI applications, like [Tavily](https://tavily.com/) and [Perplexity](https://docs.perplexity.ai/home).\n",
        "\n",
        "We'll use the DuckDuckGo API since it's free (but rate-limited), doesn't require signing up for an API key, and comes included with the agents framework we'll be using."
      ]
    },
    {
      "cell_type": "markdown",
      "metadata": {},
      "source": [
        "We also want to give our AI the ability to visit each of those search results and extract the text from there. We'll use a library called [Trafilatura](https://github.com/adbar/trafilatura) since it extract the main text without headers, footers and other irrelevant bits that we probably don't need for the classification."
      ]
    },
    {
      "cell_type": "code",
      "execution_count": 8,
      "metadata": {},
      "outputs": [],
      "source": [
        "def extract_text(urls: List[str]) -> List[Tuple[str, str]]:\n",
        "    \"\"\"\n",
        "    Extract text content from a list of URLs.\n",
        "    \n",
        "    Args:\n",
        "        urls: A list of URLs to scrape\n",
        "        \n",
        "    Returns:\n",
        "        A list of tuples containing (url, extracted_text)\n",
        "    \"\"\"\n",
        "    results = []\n",
        "\n",
        "    for url in urls:\n",
        "        # print(f\"Scraping {url}...\")\n",
        "        try:\n",
        "            response = requests.get(url, timeout=30, verify=False)\n",
        "            response.raise_for_status()\n",
        "            extracted_text = extract(response.text, output_format=\"markdown\")\n",
        "            results.append((url, extracted_text))\n",
        "        except requests.RequestException as e:\n",
        "            # print(f\"Error scraping {url}: {str(e)}\")\n",
        "            results.append((url, f\"Error: {str(e)}\"))\n",
        "\n",
        "    return results"
      ]
    },
    {
      "cell_type": "markdown",
      "metadata": {},
      "source": [
        "We'll eventually give our agent access to both the duckduckgo search function, as well as the `extract_text` function that we just created."
      ]
    },
    {
      "cell_type": "markdown",
      "metadata": {},
      "source": [
        "## Structured output"
      ]
    },
    {
      "cell_type": "markdown",
      "metadata": {},
      "source": [
        "Most modern LLMs are trained to produce structured output, which means they can return data in a specific format. This is useful for producing consistent outputs when we're asking the model to classify or research multiple items.\n",
        "\n",
        "We can define the output format we expect using a [Pydantic model](https://docs.pydantic.dev/latest/concepts/models/)."
      ]
    },
    {
      "cell_type": "code",
      "execution_count": 9,
      "metadata": {},
      "outputs": [],
      "source": [
        "class TrumpConnection(BaseModel):\n",
        "    donor_industry: str\n",
        "    type_of_connection: Literal['Family', 'Business', 'Political', 'Other', 'No connection', 'Don\\'t know or not enough information']\n",
        "    explanation: str\n",
        "    source_urls: str"
      ]
    },
    {
      "cell_type": "markdown",
      "metadata": {},
      "source": [
        "## Agents"
      ]
    },
    {
      "cell_type": "markdown",
      "metadata": {},
      "source": [
        "If we have an idea about what we want to search for, we could use a simple workflow where we first search for the donor's name, then extract the text from the first 5-10 results, and finally feed them to an LLM. An earlier version of this project used this approach, and it worked well enough.\n",
        "\n",
        "Since then, AI agents have become a lot more prominent. Agents are systems in which LLMs are allowed to choose their own steps, use tools appropriate for different tasks and make decisions about when to stop.\n",
        "\n",
        "The code required to create an agent from scratch is fairly simple, but there are several frameworks which come with batteries included. We'll use [PydanticAI](https://ai.pydantic.dev), but most frameworks provide a similar set of features.\n",
        "\n",
        "First, let's create the agent. We'll choose a model to use, give it a system prompt, define the tools it should have access to, and the structured output we expect."
      ]
    },
    {
      "cell_type": "code",
      "execution_count": null,
      "metadata": {},
      "outputs": [],
      "source": [
        "agent = Agent(\n",
        "    'openai:gpt-4.1-mini',\n",
        "    system_prompt='Answer the question to the best of your abilities, using the tools at your disposal (`duckduckgo_search_tool` and `extract_text`).',\n",
        "    tools=[duckduckgo_search_tool(), Tool(extract_text)],\n",
        "    output_type=TrumpConnection,\n",
        "    model_settings={'temperature': 0.0}\n",
        ")"
      ]
    },
    {
      "cell_type": "markdown",
      "metadata": {},
      "source": [
        "Let's check whether that works. We'll ask the agent to classify a single donor, and see what it returns."
      ]
    },
    {
      "cell_type": "code",
      "execution_count": 11,
      "metadata": {},
      "outputs": [],
      "source": [
        "result = agent.run_sync(\n",
        "    'What is the connection between WARREN A STEPHENS and Donald Trump?'\n",
        ")"
      ]
    },
    {
      "cell_type": "code",
      "execution_count": 12,
      "metadata": {},
      "outputs": [
        {
          "data": {
            "text/plain": [
              "[ModelRequest(parts=[SystemPromptPart(content='Answer the question to the best of your abilities, using the tools at your disposal (`duckduckgo_search_tool` and `extract_text`).', timestamp=datetime.datetime(2025, 5, 20, 9, 31, 23, 606273, tzinfo=datetime.timezone.utc), dynamic_ref=None, part_kind='system-prompt'), UserPromptPart(content='What is the connection between WARREN A STEPHENS and Donald Trump?', timestamp=datetime.datetime(2025, 5, 20, 9, 31, 23, 606277, tzinfo=datetime.timezone.utc), part_kind='user-prompt')], instructions=None, kind='request'),\n",
              " ModelResponse(parts=[ToolCallPart(tool_name='duckduckgo_search', args='{\"query\":\"Warren A Stephens Donald Trump connection\"}', tool_call_id='call_irBHmSWOHaLPRjFJFPPfpt2k', part_kind='tool-call')], usage=Usage(requests=1, request_tokens=226, response_tokens=23, total_tokens=249, details={'accepted_prediction_tokens': 0, 'audio_tokens': 0, 'reasoning_tokens': 0, 'rejected_prediction_tokens': 0, 'cached_tokens': 0}), model_name='gpt-4.1-mini-2025-04-14', timestamp=datetime.datetime(2025, 5, 20, 9, 31, 24, tzinfo=datetime.timezone.utc), kind='response'),\n",
              " ModelRequest(parts=[ToolReturnPart(tool_name='duckduckgo_search', content=[{'title': 'Warren Stephens - Wikipedia', 'href': 'https://en.wikipedia.org/wiki/Warren_Stephens', 'body': 'Warren Amerine Stephens (born February 18, 1957) is an American diplomat and businessman who is the designate to serve as the United States ambassador to the United Kingdom under President Donald Trump in his second administration.He is the chairman, president and chief executive officer (CEO) of Stephens Inc., a privately held investment bank. [1]On December 2, 2024, President-elect Trump ...'}, {'title': 'Welcome Ambassador Warren A. Stephens - U.S. Embassy & Consulates in ...', 'href': 'https://uk.usembassy.gov/welcome-ambassador-warren-a-stephens/', 'body': 'Ambassador Warren A. Stephens is sworn in at the White House by President Donald Trump. By U.S. Mission United Kingdom. 4 MINUTE READ. ... was confirmed by the U.S. Senate on April 29 and took part in an April 30 ceremonial oath in the presence of President Donald Trump and Secretary of State Marco Rubio at the White House, preceded by an ...'}, {'title': 'Trump picks investment banker Warren Stephens as UK ambassador - BBC', 'href': 'https://www.bbc.co.uk/news/articles/c20e79nlpe6o', 'body': 'President-elect Donald Trump has nominated businessman Warren Stephens to serve as America\\'s ambassador to the United Kingdom. \"Warren has always dreamed of serving the United States full time ...'}, {'title': 'Donald Trump nominates billionaire investment banker Warren Stephens to ...', 'href': 'https://news.sky.com/story/amp/donald-trump-nominates-investment-banker-warren-stephens-to-be-us-ambassador-to-uk-13265645', 'body': 'US President-elect Donald Trump has nominated billionaire investment banker Warren Stephens to be his ambassador to the UK. Mr Trump made the announcement in a post on social media, calling him ...'}, {'title': 'Trump names billionaire investment banker Warren Stephens as his envoy ...', 'href': 'https://apnews.com/article/trump-transition-appointments-ambassador-52e4744db02a0f8e078685a7a754835d', 'body': 'WASHINGTON (AP) — President-elect Donald Trump has named billionaire investment banker Warren Stephens as his envoy to Britain, a prestigious posting for the Republican donor whose contributions this year included $2 million to a Trump-backing super PAC. Trump, in a post on his Truth Social site Monday evening, announced he was selecting Stephens to be the U.S. ambassador to the Court of ...'}, {'title': 'Who is Warren Stephens? Donald Trump appoints new UK ambassador', 'href': 'https://www.standard.co.uk/news/us-politics/warren-stephens-new-uk-ambassador-donald-trump-b1197754.html', 'body': 'In 2016, when Donald Trump first ran for president, Stephens donated $4m (£3.1 million) to political groups that fought to stop him becoming the nominee.'}, {'title': 'Donald Trump picks Arkansas banker Warren Stephens as ambassador to UK', 'href': 'https://www.ft.com/content/a6bc91a1-e0ac-49bf-b1ec-5562b893c590', 'body': 'Donald Trump will nominate billionaire investment banker Warren Stephens to be his ambassador to the UK, elevating a campaign donor from Arkansas to one of the most sought-after positions in the ...'}, {'title': 'Meet Warren Stephens, Investment Banker Picked By Trump To Be UK ...', 'href': 'https://www.timesnownews.com/world/us/us-news/who-is-warren-stephens-donald-trump-uk-ambassador-pick-age-net-worth-career-family-controversiesotherdetails-article-115912443', 'body': 'Warren Stephens, a multibillionaire investment banker, has been nominated by President-elect Donald Trump to be the next American ambassador to the United Kingdom. Stephens, the chairman of Stephens Inc., brings to the position his conservative political connections and decades of economic success. The nomination comes amid rumors that former U.K. Ambassador Woody Johnson will return, and ...'}, {'title': 'Trump Picks Warren Stephens, Billionaire Investment Banker, for U.K ...', 'href': 'https://www.nytimes.com/2024/12/02/us/politics/britain-ambassador-trump-stephens.html', 'body': \"Warren Stephens, an investment banker, gave $2 million in 2016 to a group aiming to block Donald J. Trump's political rise. More recently, he backed Asa Hutchinson, Chris Christie, Mike Pence ...\"}, {'title': 'Trump nominates billionaire Warren Stephens as UK ambassador', 'href': 'https://www.dw.com/en/trump-nominates-billionaire-warren-stephens-as-uk-ambassador/a-70942697', 'body': \"Stephens poured money into a political action committee that supported Donald Trump's 2024 presidential campaign. Trump also chose a major donor for envoy to the UK during his first term.\"}], tool_call_id='call_irBHmSWOHaLPRjFJFPPfpt2k', timestamp=datetime.datetime(2025, 5, 20, 9, 31, 26, 596720, tzinfo=datetime.timezone.utc), part_kind='tool-return')], instructions=None, kind='request'),\n",
              " ModelResponse(parts=[ToolCallPart(tool_name='extract_text', args='{\"urls\":[\"https://en.wikipedia.org/wiki/Warren_Stephens\",\"https://uk.usembassy.gov/welcome-ambassador-warren-a-stephens/\",\"https://www.bbc.co.uk/news/articles/c20e79nlpe6o\",\"https://news.sky.com/story/amp/donald-trump-nominates-investment-banker-warren-stephens-to-be-us-ambassador-to-uk-13265645\",\"https://apnews.com/article/trump-transition-appointments-ambassador-52e4744db02a0f8e078685a7a754835d\",\"https://www.standard.co.uk/news/us-politics/warren-stephens-new-uk-ambassador-donald-trump-b1197754.html\",\"https://www.ft.com/content/a6bc91a1-e0ac-49bf-b1ec-5562b893c590\",\"https://www.nytimes.com/2024/12/02/us/politics/britain-ambassador-trump-stephens.html\",\"https://www.dw.com/en/trump-nominates-billionaire-warren-stephens-as-uk-ambassador/a-70942697\"]}', tool_call_id='call_MhXcC6rSc4pft3Lx5tVXH7tU', part_kind='tool-call')], usage=Usage(requests=1, request_tokens=1276, response_tokens=260, total_tokens=1536, details={'accepted_prediction_tokens': 0, 'audio_tokens': 0, 'reasoning_tokens': 0, 'rejected_prediction_tokens': 0, 'cached_tokens': 0}), model_name='gpt-4.1-mini-2025-04-14', timestamp=datetime.datetime(2025, 5, 20, 9, 31, 26, tzinfo=datetime.timezone.utc), kind='response'),\n",
              " ModelRequest(parts=[ToolReturnPart(tool_name='extract_text', content=[('https://en.wikipedia.org/wiki/Warren_Stephens', '# Warren Stephens\\n\\n\\nWarren Stephens | |\\n|---|---|\\n| United States Ambassador to the United Kingdom | |\\nAssuming officeTBD | |\\n| President | Donald Trump |\\n| Succeeding | Jane D. Hartley |\\n| Personal details | |\\n| Born | Warren Amerine Stephens February 18, 1957 Little Rock, Arkansas, U.S. |\\n| Spouse | Harriet Stephens |\\n| Children | 3 |\\n| Parent |\\n|\\n| Education | Washington and Lee University (BA) Wake Forest University (MBA) |\\n| Occupation | Chairman, President, and CEO of Stephens Inc. |\\n\\n**Warren Amerine Stephens** (born February 18, 1957) is an American diplomat and businessman who is the designate to serve as the United States ambassador to the United Kingdom under President Donald Trump in his second administration. He is the chairman, president and chief executive officer (CEO) of Stephens Inc., a privately held investment bank.[1]\\n\\nOn December 2, 2024, President-elect Trump announced his nomination of Stephens to serve as the ambassador to the United Kingdom.[2] The U.S. Senate confirmed his nomination in a 59–39 vote.[3] He was sworn in on April 30, 2025.[ citation needed]\\n\\n## Early life and education\\n\\n[edit]Stephens was born in Little Rock, the son of Jackson T. Stephens and Mary Amerine Stephens. Warren\\'s father, \"Jack\" Stephens, and his uncle, \"Witt\" Stephens, partnered as investors and financiers in the investment firm, Stephens Inc.[4]\\n\\nWarren began his education in Little Rock, and in 1975, graduated from Trinity Presbyterian High School in Montgomery, Alabama. He graduated from Washington and Lee University in 1979 with a BA in economics, and received his MBA from Wake Forest University in 1981.[5]\\n\\n## Career\\n\\n[edit]Stephens joined his father and uncle in the investment banking business in Little Rock, which had 139 employees. At that time, the firm resembled and operated much like one of the old British merchant banks, investing the firm\\'s and family funds in various businesses and ventures, and it still operates the same way today. Stephens Inc is noted for handling the IPO of Wal-Mart Stores in 1970.[4]\\n\\nStephens began work as an associate in the corporate finance department, concentrating on oil and gas. He became head of the department in 1983 and spent a lot of time on mergers and acquisitions. On February 18, 1986, Stephens was appointed president and CEO of Stephens Inc.[4]\\n\\nIn 1990, he was the senior advisor to Tyson Foods in their acquisition of Holly Farms in a nine-month takeover battle.[4] He is only the third chairman, president and CEO in the firm\\'s more than 90 years of operations since 1933.[6]\\n\\nIn 2006, Stephens acquired 100 percent of the outstanding shares of Stephens Inc from the other family members.[4]\\n\\nStephens is on the board of Dillard\\'s.[7]\\n\\nIn January 2025, Warren Stephens revealed his decision to step down from his role as CEO of Stephens Inc., as he gets ready to take on the position of U.S. ambassador to the United Kingdom. His sons, Miles and John Stephens, have been named co-CEOs, representing the third generation of family leadership at the firm.[8]\\n\\n## Political involvement\\n\\n[edit]A Republican, he supported Bob Dole in 1996, Steve Forbes in 1999, and has supported Mike Huckabee.[9] Stephens was a bundler for Mitt Romney in 2012.[10] He has been critical of presidents Bill Clinton and Barack Obama.[11][12][9] During the 2016 election, Stephens and his brother Jackson Stephens were major financial supporters of the Stop Trump movement.[13]\\n\\nDuring the 2020 presidential election, Stephens donated more than $3 million to Super PACs supporting Trump. In the 2024 Republican presidential primaries, Stephens was a major financial backer of Asa Hutchinson and Nikki Haley.[14][15] During the 2024 presidential campaign, Stephens also contributed to MAGA Inc., a Super PAC aligned with Donald Trump.[16]\\n\\nOn December 2, 2024, President-elect Donald Trump announced Stephens as the nominee to serve as the United States ambassador to the United Kingdom.[17] On February 12, 2025, his nomination was sent to the Senate.[18] His nomination was confirmed by a vote of 59–39 on April 29, 2025.[3] He is awaiting the presentation of his credentials.\\n\\n## Philanthropy\\n\\n[edit]Stephens was on the board of trustees of his alma mater, Washington and Lee University.[5] Stephens and his wife Harriet are benefactors of various organizations, most notably the Episcopal Collegiate School and the Arkansas Arts Center, both in Little Rock.[19][20]\\n\\n## References\\n\\n[edit]**^**\"Warren Stephens\".*Stephens*.**^**\"Trump picks investment banker Warren Stephens as UK ambassador\".*BBC News*. Retrieved December 3, 2024.- ^\\n**a**Solomon, Scott (April 29, 2025). \"Warren Stephens receives confirmation to serve as U.S. Ambassador to United Kingdom\".**b***KATV*. Retrieved April 29, 2025. - ^\\n**a****b****c****d**\"Stephens History\".**e***Stephens*. Archived from the original on December 8, 2014. Retrieved December 11, 2014. - ^\\n**a**\"W&L\".**b***Washington & Lee*. **^**\"University of Arkansas/Walton College/Arkansas Business Hall of Fame/Warren A. Stephens\". Retrieved December 7, 2023.**^**\"Dillard\\'s Board of Directors\".*Bloomberg Business Week*. Archived from the original on December 13, 2014.**^**Clarke, Paul. \"Warren Stephens\\' UK ambassador role triggers succession at family owned investment bank\".*www.fnlondon.com*. Retrieved May 16, 2025.- ^\\n**a**Steven Barnes, \\'PRIVATE SECTOR; Understatement, at $5 Billion\\', in**b***The New York Times*, November 21, 1999 [1] **^**Schouten, Fredreka (July 13, 2012). \"Mitt Romney announces three bundlers\".*USA Today*. Retrieved October 15, 2013.**^**\"Warren Stephens\".*Forbes*. Archived from the original on May 28, 2023.**^**BusinessWeek profile**^**Mider, Zachary (March 21, 2016). \"Arkansas Billionaire Warren Stephens A Leading Stop-Trump Donor\". Southwest Times Record. Archived from the original on August 17, 2016. Retrieved July 18, 2016.**^**Schwartz, Brian (July 31, 2023). \"Almost all of Trump\\'s biggest 2020 super PAC donors refrain from giving to his rivals\". NBC News.**^**Reston, Maeve; Morse, Clara Ence; Knowles, Hanna (February 1, 2024). \"Trump spent more than $55 million in donor money on legal fees last year, filings show\".*Washington Post*.**^**Woodward, Alex. \"Reclusive Republican megadonor drops $50m into Trump super PAC\". Independent.**^**\"Donald Trump nominates billionaire investment banker Warren Stephens to be US ambassador to UK\".*Sky News*. United States. December 2, 2024. Retrieved December 3, 2024.**^**\"Nominations Sent to the Senate\" (Press release). The White House. February 12, 2025.**^**\"Episcopal Collegiate School: History\".*Episcopal Collegiate School*.**^**\"The King of Little Rock\".*Barron\\'s*.\\n\\n- 1957 births\\n- Living people\\n- 20th-century American businesspeople\\n- 21st-century American businesspeople\\n- 21st-century American diplomats\\n- Ambassadors of the United States to the United Kingdom\\n- American billionaires\\n- American chief executives of financial services companies\\n- American investment bankers\\n- Arkansas Republicans\\n- Businesspeople from Little Rock, Arkansas\\n- People named in the Paradise Papers\\n- Second Trump administration personnel\\n- Wake Forest University alumni\\n- Washington and Lee University alumni\\n- Washington and Lee University trustees'), ('https://uk.usembassy.gov/welcome-ambassador-warren-a-stephens/', 'Weâre sorry, this site is currently experiencing technical difficulties.\\n\\nPlease try again in a few moments.\\nException: forbidden\\n\\nWeâre sorry, this site is currently experiencing technical difficulties.\\n\\nPlease try again in a few moments.\\nException: forbidden'), ('https://www.bbc.co.uk/news/articles/c20e79nlpe6o', '# Trump picks investment banker Warren Stephens as UK ambassador\\n\\n- Published\\n\\n**President-elect Donald Trump has nominated businessman Warren Stephens to serve as Americaâs ambassador to the United Kingdom.**\\n\\nâWarren has always dreamed of serving the United States full time,â Trump said in a statement on Truth Social. âI am thrilled that he will now have that opportunity as the top diplomat, representing the USA to one of Americaâs most cherished and beloved allies.â\\n\\nStephens, who is CEO of private Arkansas-based investment bank Stephens Inc, donated millions to Trumpâs re-election campaign this year.\\n\\nIf his nomination is successful, Stephens will help to maintain the so-called âspecial relationshipâ between the US and the UK.\\n\\nThe two countries maintain close military, intelligence, and cultural ties.\\n\\nTrump has vowed to rework the USâ relationships abroad, vowing to implement an âAmerica-firstâ ethos to foreign policy.\\n\\nThe role of US ambassador to the UK is one of the most coveted diplomatic positions, and presidents have been known to bestow the role to prominent backers.\\n\\nDuring his first term in office, Trump appointed Woody Johnson, a top Republican donor and owner of the American football team the New York Jets, as UK ambassador.\\n\\nBarack Obama chose long-time Democratic Party fundraiser and lawyer Louis Susman as his first emissary to the UK - or the Court of St James.\\n\\nStephens did not always back Trumpâs candidacies, however. In 2016, when Trump first ran for president, Stephens donated about $4m (Â£3.1m) to political groups that sought to stop Trumpâs ascent, the Arkansas Democrat-Gazette reported at the time.\\n\\nThe investment banker also donated over $2m to a political action committee that supported former UN Ambassador Nikki Haley as she unsuccessfully ran for president in 2024, the campaign finance watchdog OpenSecrets found.\\n\\nWhen Trump ultimately triumphed in this yearâs Republican presidential primary, however, Stephens threw his support behind him. Federal campaign finance data show he also donated to Republican groups and US Senate candidates this year.\\n\\nIn a statement, Stephens said he was honoured by the nomination.\\n\\n\"I have expressed to President Trump that I would be extremely proud to serve our country and his administration, working to implement the Presidentâs agenda and further strengthen the long-standing alliance between the United States and the United Kingdom,â he said.\\n\\nHe and his wife also maintain a philanthropic organisation, the Harriet and Warren Stephens Family Foundation, which has donated to the Arkansas Museum of Fine Arts, the University of Mississippi, and the Episcopal Collegiate School in Little Rock.\\n\\n- Published2 December 2024\\n\\n- Published1 December 2024\\n\\n- Published25 February\\n\\n\\nNorth America correspondent Anthony Zurcher makes sense of US politics in his twice weekly US Election Unspun newsletter. Readers in the UK can sign up here. Those outside the UK can sign up here.'), ('https://news.sky.com/story/amp/donald-trump-nominates-investment-banker-warren-stephens-to-be-us-ambassador-to-uk-13265645', 'Donald Trump nominates billionaire investment banker Warren Stephens to be US ambassador to UK\\n\\nMr Stephens is a longtime Republican donor who reportedly gave to conservative groups that opposed Trump in 2016 but then supported him in the 2020 and 2024 races.\\n\\nUS President-elect Donald Trump has nominated billionaire investment banker Warren Stephens to be his ambassador to the UK.\\n\\nMr Trump made the announcement in a post on social media, calling him \"one of the most successful businessmen in the country\".\\n\\nMr Stephens is chairman, president, and CEO of Stephens Inc, a privately owned financial services company with its headquarters in Little Rock, Arkansas, according to the firm\\'s website.\\n\\nMr Trump said his pick for ambassador \"has built a wonderful financial services firm, while selflessly giving back to his community as a philanthropist\".\\n\\nHe added: \"Warren has always dreamed of serving the United States full-time. I am thrilled that he will now have that opportunity as the top diplomat, representing the USA to one of America\\'s most cherished and beloved allies.\"\\n\\nMr Stephens is a longtime Republican donor who reportedly gave to conservative groups that opposed Trump in 2016 but then supported him in the 2020 and 2024 races.\\n\\nHe was also a top campaign fundraiser, known as a \"bundler\", for the Republican party\\'s presidential nominee Mitt Romney in the 2012 US election, according to reports.\\n\\nThe Senate is required to confirm Mr Stephens as the choice for ambassador to the UK.\\n\\nDuring his first presidential term, Mr Trump selected Robert \"Woody\" Johnson, a contributor to his campaign and the owner of the New York Jets football team, as his representative to the United Kingdom.\\n\\nMr Trump has already named many of his nominees for his cabinet and high-profile diplomatic posts, assembling a roster of staunch loyalists.\\n\\nOver the weekend, Mr Trump announced he intends to nominate real estate developer Charles Kushner, father of Mr Trump\\'s son-in-law Jared Kushner, to serve as ambassador to France.\\n\\nNo 10 might be prepared for some shuffling of feet at the ambassador\\'s reception\\n\\nHe was once dubbed the \"King of Little Rock\" such is the wealth and influence of Warren Stephens in his Arkansas heartland.\\n\\nThe investment banker worth more than $3bn enjoys the trappings of a considerable fortune, accumulated as he grew the family business, Stephens Inc, started by an uncle who switched from selling bibles.\\n\\nOver the years, the 67-year-old has spent his profit pursuing his passions – owning an exclusive golf course, private jets and a wine collection to match his means.\\n\\nMr Stephens is something of a political chameleon, putting his money towards different parties and politicians.\\n\\nA long-time Republican donor, he did nonetheless support Arkansas Democrat Bill Clinton in his presidential run in 1992.\\n\\nThe father-of-three wasn\\'t always a friend to Donald Trump. Indeed, in 2016, Mr Stephens was a leading light and funder of the \"Stop Trump\" campaign, Republicans opposed to him becoming their presidential nominee.\\n\\nClearly, bridges have been built since.\\n\\nIn 2020, he gave more than $3m to super PACs backing Mr Trump, although earlier this year he supported rival candidates Asa Hutchinson and Nikki Haley in the Republican primaries.\\n\\nCementing the UK-US \"special relationship\" takes on a particular importance amidst heightened geopolitical uncertainty - the new ambassador will be Mr Trump\\'s point man on a range of pressing issues in Britain and beyond.\\n\\nA priority for his British hosts will be progress on negotiations towards a UK-US trade deal, although there may be some shuffling of feet at the ambassador\\'s reception.\\n\\nIt\\'s only a matter of weeks since Team Trump criticised Sir Keir Starmer\\'s Labour Party for \"blatant foreign interference\" in the US election after Labour volunteers travelled to campaign for Kamala Harris.'), ('https://apnews.com/article/trump-transition-appointments-ambassador-52e4744db02a0f8e078685a7a754835d', 'Error: 403 Client Error: Forbidden for url: https://apnews.com/article/trump-transition-appointments-ambassador-52e4744db02a0f8e078685a7a754835d'), ('https://www.standard.co.uk/news/us-politics/warren-stephens-new-uk-ambassador-donald-trump-b1197754.html', '# Who is Warren Stephens? Donald Trump appoints new UK ambassador\\n\\nWarren Stephens, a billionaire investment banker, has been announced as the new US ambassador to the UK.\\n\\nDonald Trump made the announcement on his Truth Social platform, describing Mr Stephens as as “one of the most successful businessmen in the country”. He also described the UK as one of America’s “most cherished and beloved Allies”.\\n\\nHe wrote: “I am pleased to announce that Warren A Stephens, one of the most successful businessmen in the country, has been nominated to serve as the United States Ambassador to the Court of St James’s, a role in which he will act as our representative to the United Kingdom.\\n\\n“Over the last 38 years, while serving as the president, chairman, and CEO of his company, Stephens Inc, Warren has built a wonderful financial services firm, while selflessly giving back to his community as a philanthropist.\\n\\n“Warren has always dreamed of serving the United States full time. I am thrilled that he will now have that opportunity as the top diplomat, representing the USA to one of America’s most cherished and beloved allies.”\\n\\nHere is everything we know about the new ambassador to the UK.\\n\\n## Who is Warren Stephens?\\n\\nWarren Stephens, 67, has had a long career in investment banking. He is also a Republican donor who previously campaigned against Mr Trump, then changed his mind and backed him financially during the election campaign after first favouring Nikki Haley.\\n\\nHe is the chair, president and chief executive of financial services firm Stephens Inc, based in Little Rock, Arkansas, which had been run by his father before him.\\n\\nHe graduated from Washington and Lee University with a degree in economics. He then joined the family business alongside his father and uncle. One of the firm’s significant investments is in the Walmart drug store chain.\\n\\n## What has been Warren Stephens’ political career?\\n\\nHe has no political or diplomatic experience but is an important donor to the Republican Party, both in this campaign and in previous ones.\\n\\nIn 2016, when Donald Trump first ran for president, Stephens donated $4m (£3.1 million) to political groups that fought to stop him becoming the nominee. In 2024 he gave $2m to a political action committee that supported former UN Ambassador Nikki Haley as she unsuccessfully ran for the Republican nomination.\\n\\nBut when Donald Trump won the race to be the Republican candidate, he threw his support behind him in the hopes of a Republican win.\\n\\n## What will his role be?\\n\\nStephens is set to replace Jane Hartley who was appointed by the outgoing president, Joe Biden. He is set to take over the job after Mr Trump’s inauguration in January. The Senate is required to confirm the choice.\\n\\n### Read More\\n\\nDuring his campaign, Mr Trump vowed to rework the US’s relationships abroad, promising to put “America first” when it came to trade and foreign policy.\\n\\nThe role of US ambassador to the UK is one of the most coveted of diplomatic positions, and presidents have in the past also bestowed the role on prominent backers.'), ('https://www.ft.com/content/a6bc91a1-e0ac-49bf-b1ec-5562b893c590', 'Donald Trump picks Arkansas banker Warren Stephens as ambassador to UK\\n\\nWant a deeper look?\\n\\nExplore our recommended subscriptionsSign up for your free, indispensable guide to what Trump’s second term means for Washington, business and the world.\\n\\nAs the president threatens a trade war, follow the latest on tariffs and executive orders\\n\\nStay on top of the latest events in US politics with the FT’s trusted and impartial coverage.\\n\\nInsight and analysis on US politics from commentators such as Ed Luce and James Politi\\n\\nSign up for your free, indispensable guide to what Trump’s second term means for Washington, business and the world.\\n\\nAs the president threatens a trade war, follow the latest on tariffs and executive orders\\n\\nStay on top of the latest events in US politics with the FT’s trusted and impartial coverage.\\n\\nInsight and analysis on US politics from commentators such as Ed Luce and James Politi\\n\\nThe new FT Digital Edition: today’s FT, cover to cover on any device. This subscription does not include access to ft.com or the FT App.\\n\\nEssential digital access to quality FT journalism on any device. Pay a year upfront and save 20%.\\n\\nComplete digital access to quality FT journalism with expert analysis from industry leaders. Pay a year upfront and save 20%.\\n\\nTerms & Conditions apply\\n\\nDiscover all the plans currently available in your country\\n\\nDigital access for organisations. Includes exclusive features and content.\\n\\nSee why over a million readers pay to read the Financial Times.'), ('https://www.nytimes.com/2024/12/02/us/politics/britain-ambassador-trump-stephens.html', 'Error: 403 Client Error: Forbidden for url: https://www.nytimes.com/2024/12/02/us/politics/britain-ambassador-trump-stephens.html'), ('https://www.dw.com/en/trump-nominates-billionaire-warren-stephens-as-uk-ambassador/a-70942697', '# Trump nominates billionaire Warren Stephens as UK ambassador\\n\\nDecember 3, 2024US President-elect Donald Trump on Monday nominated billionare financial executive Warren Stephens as the next US ambassador to the UK.\\n\\n\"Warren has always dreamed of serving the United States full time. I am thrilled that he will now have that opportunity as the top diplomat, representing the USA to one of America\\'s most cherished and beloved allies,\" Trump posted on his Truth Social social media platform.\\n\\nStephens serves as chairman, president and CEO of Stephens Inc, a financial services company headquartered in Little Rock, Arkansas. He has a net worth of $3.4 billion (€3.2 billion), according to US news outlet Forbes.\\n\\nArkansas Attorney General Tim Griffin congratulated Stephens on the nomination, saying Trump \"tapped one of our state\\'s finest to represent our nation and continue the special relationship we have with our cousins and staunch allies in the United Kingdom.\"\\n\\n## Stephens rewarded for Trump 2024 donations\\n\\nStephens donated money to a political action committee which supported Trump\\'s 2024 election campaign. It\\'s not uncommon in US politics for presidents to reward campaign donors with ambassadorial posts.\\n\\nTrump will take office on January 20, 2025. Stephens\\' ambassadorship will need to be confirmed by the US Senate, which will have a Republican-majority in January.\\n\\nWoody Johnson, a donor to Trump\\'s 2016 campaign, served as US ambassador to the UK during Trump\\'s first term from 2017 to 2021.\\n\\nwd/kb (Reuters, AP, AFP, dpa)')], tool_call_id='call_MhXcC6rSc4pft3Lx5tVXH7tU', timestamp=datetime.datetime(2025, 5, 20, 9, 31, 41, 329302, tzinfo=datetime.timezone.utc), part_kind='tool-return')], instructions=None, kind='request'),\n",
              " ModelResponse(parts=[ToolCallPart(tool_name='final_result', args='{\"donor_industry\":\"Investment Banking, Financial Services\",\"type_of_connection\":\"Business\",\"explanation\":\"Warren A Stephens is a billionaire investment banker and CEO of Stephens Inc., a private financial services firm. He was nominated by Donald Trump, the President of the United States, to be the U.S. ambassador to the United Kingdom in Trump\\'s second administration. Stephens has been a major donor and fundraiser for the Republican Party, including significant financial support for Trump in the 2020 and 2024 elections. Although he initially supported efforts to stop Trump in 2016, he later became a major financial backer. This connection is primarily through political and business channels, involving campaign donations and an ambassadorial appointment by Trump.\",\"source_urls\":\"https://en.wikipedia.org/wiki/Warren_Stephens, https://www.bbc.co.uk/news/articles/c20e79nlpe6o, https://news.sky.com/story/amp/donald-trump-nominates-investment-banker-warren-stephens-to-be-us-ambassador-to-uk-13265645, https://www.standard.co.uk/news/us-politics/warren-stephens-new-uk-ambassador-donald-trump-b1197754.html, https://www.dw.com/en/trump-nominates-billionaire-warren-stephens-as-uk-ambassador/a-70942697\"}', tool_call_id='call_vsyMuUabPuIcHtoaAiALut7W', part_kind='tool-call')], usage=Usage(requests=1, request_tokens=6534, response_tokens=289, total_tokens=6823, details={'accepted_prediction_tokens': 0, 'audio_tokens': 0, 'reasoning_tokens': 0, 'rejected_prediction_tokens': 0, 'cached_tokens': 0}), model_name='gpt-4.1-mini-2025-04-14', timestamp=datetime.datetime(2025, 5, 20, 9, 31, 41, tzinfo=datetime.timezone.utc), kind='response'),\n",
              " ModelRequest(parts=[ToolReturnPart(tool_name='final_result', content='Final result processed.', tool_call_id='call_vsyMuUabPuIcHtoaAiALut7W', timestamp=datetime.datetime(2025, 5, 20, 9, 31, 51, 359866, tzinfo=datetime.timezone.utc), part_kind='tool-return')], instructions=None, kind='request')]"
            ]
          },
          "execution_count": 12,
          "metadata": {},
          "output_type": "execute_result"
        }
      ],
      "source": [
        "result.all_messages()"
      ]
    },
    {
      "cell_type": "markdown",
      "metadata": {},
      "source": [
        "As you can see above, our agent started by searching the internet, read the search results, selected a few of the most relevant ones, read the text from those pages, and finally produced an output in the format we defined earlier."
      ]
    },
    {
      "cell_type": "markdown",
      "metadata": {},
      "source": [
        "## Running on the full dataset"
      ]
    },
    {
      "cell_type": "markdown",
      "metadata": {},
      "source": [
        "We now have a working agent that can search the internet, read websites and return structured outputs. We can now have it run on each row of our dataset and return a full classification for each donor.\n",
        "\n",
        "First, let's define a simple function that incorporates the agent run shown above."
      ]
    },
    {
      "cell_type": "code",
      "execution_count": 14,
      "metadata": {},
      "outputs": [],
      "source": [
        "def classify_donor(donor: str):\n",
        "    result = agent.run_sync(f'What is the connection between {donor} and Donald Trump?')\n",
        "    return result.output"
      ]
    },
    {
      "cell_type": "markdown",
      "metadata": {},
      "source": [
        "Now, we can run it on the scraped data from the FEC website."
      ]
    },
    {
      "cell_type": "code",
      "execution_count": 15,
      "metadata": {},
      "outputs": [],
      "source": [
        "def apply_classify_donor(df):\n",
        "    # Apply the classify_donor function to each row\n",
        "    df['classification'] = df.apply(lambda row: classify_donor(donor=row['Name']), axis=1)\n",
        "    \n",
        "    # Convert the Pydantic objects to dictionaries\n",
        "    classification_dicts = df['classification'].apply(lambda x: x.model_dump())\n",
        "    \n",
        "    # Create a new DataFrame from the classification dictionaries\n",
        "    # This ensures the index matches the original dataframe\n",
        "    classification_df = pd.DataFrame(classification_dicts.tolist(), index=df.index)\n",
        "    \n",
        "    # Combine original data with classification data\n",
        "    result_df = pd.concat([df.drop(['classification'], axis=1), classification_df], axis=1)\n",
        "    \n",
        "    return result_df"
      ]
    },
    {
      "cell_type": "code",
      "execution_count": 16,
      "metadata": {},
      "outputs": [],
      "source": [
        "fec_classified = apply_classify_donor(fec_total)"
      ]
    },
    {
      "cell_type": "code",
      "execution_count": 17,
      "metadata": {},
      "outputs": [
        {
          "data": {
            "application/vnd.microsoft.datawrangler.viewer.v0+json": {
              "columns": [
                {
                  "name": "index",
                  "rawType": "int64",
                  "type": "integer"
                },
                {
                  "name": "Name",
                  "rawType": "object",
                  "type": "string"
                },
                {
                  "name": "Donation Amount",
                  "rawType": "float64",
                  "type": "float"
                },
                {
                  "name": "donor_industry",
                  "rawType": "object",
                  "type": "string"
                },
                {
                  "name": "type_of_connection",
                  "rawType": "object",
                  "type": "string"
                },
                {
                  "name": "explanation",
                  "rawType": "object",
                  "type": "string"
                },
                {
                  "name": "source_urls",
                  "rawType": "object",
                  "type": "string"
                }
              ],
              "conversionMethod": "pd.DataFrame",
              "ref": "ca037009-d67a-489d-a398-a705c9992c79",
              "rows": [
                [
                  "618",
                  "PILGRIM'S PRIDE CORPORATION",
                  "5000000.0",
                  "Meat processing / Poultry production",
                  "Political",
                  "Pilgrim's Pride Corporation, a major poultry producer and subsidiary of the world's largest meatpacker JBS, was the largest donor to Donald Trump's 2025 inauguration committee, donating $5 million. This establishes a political connection based on the company's significant financial support for Trump's inauguration.",
                  "https://www.notus.org/donald-trump/inauguration-fundraising-pilgrims-pride, https://readsludge.com/2025/04/21/trumps-top-inaugural-donor-is-poultry-company-fined-for-price-fixing-and-antitrust-violations/, https://www.wattagnet.com/regions/north-america/news/15743696/pilgrims-pride-donated-5-to-trumpvance-inauguration"
                ],
                [
                  "652",
                  "RIPPLE LABS, INC.",
                  "4889345.33",
                  "Cryptocurrency / Blockchain technology",
                  "Political",
                  "Ripple Labs, Inc., a blockchain and cryptocurrency firm, has political connections to Donald Trump, evidenced by Ripple's $5 million donation to Trump's inaugural committee and the attendance of Ripple's CEO Brad Garlinghouse at a White House crypto summit during Trump's presidency. Ripple executives also met with Trump in January 2025, signaling a potential cooperative relationship. This connection has been noted amid the SEC dropping a long-standing lawsuit against Ripple, raising speculation about political influence. Ripple benefits from a more favorable US regulatory environment under Trump-related optimism, with increased US deals and hiring attributed to the so-called 'Trump effect.'",
                  "https://abcnews.go.com/US/sec-drops-case-crypto-firm-ties-trump-ceo/story?id=119963257, https://ambcrypto.com/sec-drops-1-4b-ripple-lawsuit-did-trump-play-a-role/, https://fortune.com/crypto/2025/04/21/donald-trump-inauguration-fund-crypto-coinbase-ripple-circle-18-million/, https://blockonomi.com/ripple-expands-us-operations-following-trump-meeting/, https://www.coindesk.com/markets/2025/01/06/ripples-garlinghouse-touts-trump-effect-amid-bump-in-u-s-deals"
                ],
                [
                  "824",
                  "WARREN A STEPHENS",
                  "4000000.0",
                  "Investment Banking and Financial Services",
                  "Political",
                  "Warren A. Stephens is an American businessman and investment banker who has been politically active as a Republican donor. He donated millions to Donald Trump’s re-election campaign and other Republican causes, though he initially opposed Trump in the 2016 election. In 2024, Trump nominated him as the United States ambassador to the United Kingdom, an appointment confirmed by the Senate. Their connection is political, involving campaign donations and a diplomatic appointment by Trump.",
                  "https://en.wikipedia.org/wiki/Warren_Stephens, https://www.bbc.co.uk/news/articles/c20e79nlpe6o, https://www.the-express.com/news/us-news/170302/trump-appoints-warren-stephens-us-ambassador-britain-bolstering-uk-us-relations"
                ],
                [
                  "139",
                  "CHEVRON PRODUCTS COMPANY",
                  "2000000.0",
                  "Oil and energy",
                  "Political",
                  "The connection between Chevron Products Company and Donald Trump is political. Donald Trump, as US President, revoked a US Treasury-issued licence that had allowed Chevron to operate oil extraction and export operations in Venezuela. This licence was initially granted under the Biden administration to encourage free elections in Venezuela. Trump terminated this licence citing the Venezuelan government's failure to meet electoral conditions and to repatriate deported violent criminals quickly enough. This move was part of his administration's broader policy shifts regarding Venezuela and oil sanctions.",
                  "https://www.bbc.com/news/articles/c62zzv02r3vo"
                ],
                [
                  "667",
                  "ROBINHOOD MARKETS, INC.",
                  "2000000.0",
                  "Financial Technology (FinTech)",
                  "Political",
                  "Robinhood Markets, Inc. made a $2 million donation to Donald Trump's inaugural fund, marking the largest publicly announced contribution among major tech firms to the Trump inauguration. Robinhood's CEO also publicly criticized Biden's regulatory policies on crypto and AI, aligning the company with Trump's approach to regulation, especially in the cryptocurrency sector. This establishes a political and financial connection between Robinhood Markets, Inc. and Donald Trump.",
                  "https://www.sahmcapital.com/news/content/robinhood-outpaces-tech-giants-meta-amazon-with-2-million-donation-to-trumps-inaugural-fund-ceo-criticizes-bidens-crypto-ai-policies-2024-12-18"
                ]
              ],
              "shape": {
                "columns": 6,
                "rows": 5
              }
            },
            "text/html": [
              "<div>\n",
              "<style scoped>\n",
              "    .dataframe tbody tr th:only-of-type {\n",
              "        vertical-align: middle;\n",
              "    }\n",
              "\n",
              "    .dataframe tbody tr th {\n",
              "        vertical-align: top;\n",
              "    }\n",
              "\n",
              "    .dataframe thead th {\n",
              "        text-align: right;\n",
              "    }\n",
              "</style>\n",
              "<table border=\"1\" class=\"dataframe\">\n",
              "  <thead>\n",
              "    <tr style=\"text-align: right;\">\n",
              "      <th></th>\n",
              "      <th>Name</th>\n",
              "      <th>Donation Amount</th>\n",
              "      <th>donor_industry</th>\n",
              "      <th>type_of_connection</th>\n",
              "      <th>explanation</th>\n",
              "      <th>source_urls</th>\n",
              "    </tr>\n",
              "  </thead>\n",
              "  <tbody>\n",
              "    <tr>\n",
              "      <th>618</th>\n",
              "      <td>PILGRIM'S PRIDE CORPORATION</td>\n",
              "      <td>5000000.00</td>\n",
              "      <td>Meat processing / Poultry production</td>\n",
              "      <td>Political</td>\n",
              "      <td>Pilgrim's Pride Corporation, a major poultry p...</td>\n",
              "      <td>https://www.notus.org/donald-trump/inauguratio...</td>\n",
              "    </tr>\n",
              "    <tr>\n",
              "      <th>652</th>\n",
              "      <td>RIPPLE LABS, INC.</td>\n",
              "      <td>4889345.33</td>\n",
              "      <td>Cryptocurrency / Blockchain technology</td>\n",
              "      <td>Political</td>\n",
              "      <td>Ripple Labs, Inc., a blockchain and cryptocurr...</td>\n",
              "      <td>https://abcnews.go.com/US/sec-drops-case-crypt...</td>\n",
              "    </tr>\n",
              "    <tr>\n",
              "      <th>824</th>\n",
              "      <td>WARREN A STEPHENS</td>\n",
              "      <td>4000000.00</td>\n",
              "      <td>Investment Banking and Financial Services</td>\n",
              "      <td>Political</td>\n",
              "      <td>Warren A. Stephens is an American businessman ...</td>\n",
              "      <td>https://en.wikipedia.org/wiki/Warren_Stephens,...</td>\n",
              "    </tr>\n",
              "    <tr>\n",
              "      <th>139</th>\n",
              "      <td>CHEVRON PRODUCTS COMPANY</td>\n",
              "      <td>2000000.00</td>\n",
              "      <td>Oil and energy</td>\n",
              "      <td>Political</td>\n",
              "      <td>The connection between Chevron Products Compan...</td>\n",
              "      <td>https://www.bbc.com/news/articles/c62zzv02r3vo</td>\n",
              "    </tr>\n",
              "    <tr>\n",
              "      <th>667</th>\n",
              "      <td>ROBINHOOD MARKETS, INC.</td>\n",
              "      <td>2000000.00</td>\n",
              "      <td>Financial Technology (FinTech)</td>\n",
              "      <td>Political</td>\n",
              "      <td>Robinhood Markets, Inc. made a $2 million dona...</td>\n",
              "      <td>https://www.sahmcapital.com/news/content/robin...</td>\n",
              "    </tr>\n",
              "  </tbody>\n",
              "</table>\n",
              "</div>"
            ],
            "text/plain": [
              "                            Name  Donation Amount  \\\n",
              "618  PILGRIM'S PRIDE CORPORATION       5000000.00   \n",
              "652            RIPPLE LABS, INC.       4889345.33   \n",
              "824            WARREN A STEPHENS       4000000.00   \n",
              "139     CHEVRON PRODUCTS COMPANY       2000000.00   \n",
              "667      ROBINHOOD MARKETS, INC.       2000000.00   \n",
              "\n",
              "                                donor_industry type_of_connection  \\\n",
              "618       Meat processing / Poultry production          Political   \n",
              "652     Cryptocurrency / Blockchain technology          Political   \n",
              "824  Investment Banking and Financial Services          Political   \n",
              "139                             Oil and energy          Political   \n",
              "667             Financial Technology (FinTech)          Political   \n",
              "\n",
              "                                           explanation  \\\n",
              "618  Pilgrim's Pride Corporation, a major poultry p...   \n",
              "652  Ripple Labs, Inc., a blockchain and cryptocurr...   \n",
              "824  Warren A. Stephens is an American businessman ...   \n",
              "139  The connection between Chevron Products Compan...   \n",
              "667  Robinhood Markets, Inc. made a $2 million dona...   \n",
              "\n",
              "                                           source_urls  \n",
              "618  https://www.notus.org/donald-trump/inauguratio...  \n",
              "652  https://abcnews.go.com/US/sec-drops-case-crypt...  \n",
              "824  https://en.wikipedia.org/wiki/Warren_Stephens,...  \n",
              "139     https://www.bbc.com/news/articles/c62zzv02r3vo  \n",
              "667  https://www.sahmcapital.com/news/content/robin...  "
            ]
          },
          "execution_count": 17,
          "metadata": {},
          "output_type": "execute_result"
        }
      ],
      "source": [
        "fec_classified"
      ]
    },
    {
      "cell_type": "markdown",
      "metadata": {},
      "source": [
        "We now have a full classification for each donor which we can export to a CSV file, analyse further or review manually."
      ]
    },
    {
      "cell_type": "markdown",
      "metadata": {},
      "source": [
        "## Next steps"
      ]
    },
    {
      "cell_type": "markdown",
      "metadata": {},
      "source": [
        "The example above shows a minimal working example of how to use LLMs to research a dataset. However, there are several ways in which this process could be improved. Here are some ideas:\n",
        "\n",
        "- **[Play with the prompt](https://github.com/Global-Witness/augmenta/)**. We asked a simple question, but the more specific you are, the better the results. Write a good prompt, include examples and iterate.\n",
        "- **[Make the AI reason](https://github.com/Global-Witness/augmenta/blob/main/docs/tools.md#:~:text=MCP%20servers%20are%3A-,sequential%20thinking,--%20Allows%20the%20agent)**. Allowing an LLM to \"reason\" about its next steps can help it produce better outputs.\n",
        "- **[Use different search engines](https://github.com/Global-Witness/augmenta/blob/main/docs/search.md)**. DuckDuckGo is free and good for a prototype. However, their API isn't meant to be used this way and will often return errors, especially when used on bigger datasets. It also doesn't return the best results. I recomment switching to Google, potentially via a SERP API.\n",
        "- **Try other models**. I like to use gpt-4.1-mini because it is reasonably fast, cheap and \"smart\" enough for most tasks. If you find it often gets it wrong, you can use the smarter gpt-4.1 or a \"reasoning\" model like o3.\n",
        "- **Validate the output**. While we did code the classifier to return structured output, you can go beyond that and validate the output (ie. check that the sources are valid URLs, check that the explanation includes exact quotes from the sources, etc).\n",
        "- **[Save your progress](https://github.com/Global-Witness/augmenta/blob/main/docs/cache.md)**. Things can and will go wrong! The search engine may fail, the LLM may be down (Claude often is), your Python script may throw an unexpected error. If you don't want to lose progress, you should save your progress to file or a database so you can pick up from where you left off.\n",
        "- **Async/Multithreading**. In my tests, each classification takes about 20-50 seconds, but it can take longer if the LLM is trying to accesss an unresponsive website. If you have a lot of rows to classify, you should consider running multiple agents in parallel.\n",
        "- **Verify**. LLMs are still dumb and shouldn't be trusted! Manually verify the classifications if you're going to publish the results."
      ]
    },
    {
      "cell_type": "markdown",
      "metadata": {},
      "source": [
        "# A better way"
      ]
    },
    {
      "cell_type": "markdown",
      "metadata": {},
      "source": [
        "I've used the approach described above for several projects at Global Witness, including our [annual classification of fossil fuel donors at COP](https://globalwitness.org/en/campaigns/fossil-fuels/how-we-used-ai-to-help-us-find-lobbyists-at-cop/).\n",
        "\n",
        "As the codebase grew to account for the suggestions described above, I decided to package everything into a Python library called **[Augmenta](https://github.com/Global-Witness/augmenta/)**. You can use Augmenta to build agents without writing any code. It has a few features that make life easier, such as:\n",
        "\n",
        "- Built-in search and text extraction tools\n",
        "- Support for multiple LLMs\n",
        "- Asynchronous processing\n",
        "- Automatic caching to save progress\n",
        "- Support for [third-party tools via MCP](https://github.com/Global-Witness/augmenta/blob/main/docs/tools.md)\n",
        "- Logfire integration for monitoring and debugging\n",
        "\n",
        "Let's see how it works.\n",
        "\n",
        "Because Augmenta is an interactive command-line tool, it doesn't work great in a Jupyter notebook. Instead, we'll run it in a separate terminal locally.\n",
        "\n",
        "First, we need to install Augmenta."
      ]
    },
    {
      "cell_type": "code",
      "execution_count": null,
      "metadata": {},
      "outputs": [],
      "source": [
        "%pip install augmenta"
      ]
    },
    {
      "cell_type": "markdown",
      "metadata": {},
      "source": [
        "Next, we need to create a configuration file. This is a YAML file that contains all the settings for the agent, including the search engine to use, the LLM to use and the prompts. It may look something like this."
      ]
    },
    {
      "cell_type": "code",
      "execution_count": null,
      "metadata": {},
      "outputs": [],
      "source": [
        "yaml_config = \"\"\"\n",
        "input_csv: data/fec_unclassified.csv\n",
        "output_csv: data/fec_classified.csv\n",
        "model:\n",
        "  provider: openai\n",
        "  name: gpt-4.1-mini\n",
        "search:\n",
        "  engine: brightdata_google\n",
        "prompt:\n",
        "  system: You are an expert researcher whose job is to research the connections between political donors and Donald Trump.\n",
        "  user: |\n",
        "    # Instructions\n",
        "\n",
        "    Your job is to research {{Name}}, a donor to Donald Trump's inaugural fund. Your will determine how Donald Trump and {{Name}} are connected, whether via family, business ties, political ties or something else. Don't consider donations to the inaugural fund as a connection, we're only interested in connections before or after the donation.\n",
        "\n",
        "    ## Searching guidelines\n",
        "\n",
        "    In most cases, you should start by searching for \"{{Name}}\" and \"Donald Trump\". Where relevant, remove redundant words like \"INC\", \"LLC\", \"GROUP\", etc from the search query. If you need to perform another search, try to refine it by adding relevant keywords. Note that each case will be different, so be flexible and adaptable. Unless necessary, limit your research to two or three searches.\n",
        "\n",
        "    With each search, select a few sources that are most likely to provide relevant information. Access them using the tools provided. Be critical and use common sense. ALWAYS cite your sources.\n",
        "\n",
        "    Now, please proceed with your analysis and classification of {{Name}}'s connections to Donald Trump.\n",
        "structure:\n",
        "  donor_industry:\n",
        "    type: str\n",
        "    description: What industry does this company, individual or organisation belong to?\n",
        "  type_of_connection:\n",
        "    type: str\n",
        "    description: How are they connected to Donald Trump?\n",
        "    options:\n",
        "      - Family\n",
        "      - Business\n",
        "      - Political\n",
        "      - Other\n",
        "      - No connection\n",
        "      - Don't know or not enough information\n",
        "  explanation:\n",
        "    type: str\n",
        "    description: A few paragraphs explaining your decision in English, formatted in Markdown. In the explanation, link to the most relevant sources from the provided documents. Include at least one inline URL.\n",
        "# mcpServers:\n",
        "#   - name: sequential-thinking\n",
        "#     command: npx\n",
        "#     args:\n",
        "#       - \"-y\"\n",
        "#       - \"@modelcontextprotocol/server-sequential-thinking\"\n",
        "examples:\n",
        "  - input: \"Melinda Hildebrand\"\n",
        "    output:\n",
        "      donor_industry: Energy\n",
        "      type_of_connection: Political\n",
        "      explanation: |\n",
        "        President Donald Trump nominated River Oaks Donuts owner and energy executive Melinda Hildebrand [to serve as U.S. Ambassador to Costa Rica](https://www.congress.gov/nomination/119th-congress/55/21). In May 2024, [the Financial Times reported](https://www.ft.com/content/c89bbfc4-80db-4f3f-8d63-3aeb46ae91a9) the Hildebrand and her husband hosted a campaign event for then-presidential candidate Trump, who was seeking donations from power players in the U.S. energy industry. [The Daily Beast reported](https://www.thedailybeast.com/trump-goes-small-at-fundraisers-as-harris-goes-big-all-over/) that the Hildebrands also served on the host committee of a Trump fundraising dinner in Colorado. According to the Daily Beast, the host committee gave or raised $500,000 per couple.\n",
        "logfire: true\n",
        "\"\"\"\n",
        "\n",
        "# Write the string directly to the file\n",
        "with open(\"data/augmenta.yaml\", 'w') as file:\n",
        "    file.write(yaml_config)"
      ]
    },
    {
      "cell_type": "markdown",
      "metadata": {},
      "source": [
        "Now, we just to run Augmenta.\n",
        "\n",
        "Because it's a CLI tool, we need to run it in a terminal. If you're running this notebook locally, it's best to run it in your preferred terminal instad of the notebook. If you're running it in Google Colab, you can start a terminal by running the following command in a code cell."
      ]
    },
    {
      "cell_type": "code",
      "execution_count": null,
      "metadata": {},
      "outputs": [],
      "source": [
        "#| eval: false\n",
        "!bash"
      ]
    },
    {
      "cell_type": "markdown",
      "metadata": {},
      "source": [
        "Next, you want to run the following command in the terminal.\n",
        "\n",
        "```bash\n",
        "augmenta data/augmenta.yaml -v\n",
        "```\n",
        "\n",
        "Note that you'll need the API keys for OpenAI and BrightData in your environment (we did that at the top of the notebook)."
      ]
    },
    {
      "cell_type": "markdown",
      "metadata": {},
      "source": [
        "This approach is faster (parallel processing), more reliable (caching), more transparent (logging via logfire) and easier to use (no need to write code). It also allows you to use the same configuration file for different projects, so you can reuse your work.\n",
        "\n",
        "You can also [extend Augmenta with custom tools](https://github.com/Global-Witness/augmenta/blob/main/docs/tools.md) via MCP servers. That means you can make it reason before each step, give it access to databases and APIs, and even allow it to write its own Python code (useful for processing data, doing maths, etc.).\n",
        "\n",
        "Feel free to check the [README](https://github.com/Global-Witness/augmenta) and get in touch if you have any questions or suggestions."
      ]
    }
  ],
  "metadata": {
    "colab": {
      "provenance": []
    },
    "kernelspec": {
      "display_name": ".venv",
      "language": "python",
      "name": "python3"
    },
    "language_info": {
      "codemirror_mode": {
        "name": "ipython",
        "version": 3
      },
      "file_extension": ".py",
      "mimetype": "text/x-python",
      "name": "python",
      "nbconvert_exporter": "python",
      "pygments_lexer": "ipython3",
      "version": "3.13.2"
    }
  },
  "nbformat": 4,
  "nbformat_minor": 0
}
