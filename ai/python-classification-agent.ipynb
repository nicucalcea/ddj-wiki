{
  "cells": [
    {
      "cell_type": "raw",
      "id": "c250529d-3381-4cf1-b9e1-da590fa12691",
      "metadata": {
        "vscode": {
          "languageId": "raw"
        }
      },
      "source": [
        "---\n",
        "title: \"AI classification agent\"\n",
        "href: python-classification-agent\n",
        "format:\n",
        "  html:\n",
        "    code-links:\n",
        "      - text: Download notebook\n",
        "        icon: download\n",
        "        href: https://github.com/nicucalcea/ddj-wiki/blob/main/ai/python-classification-agent.ipynb\n",
        "        target: _blank\n",
        "      - text: Open in Google Colab\n",
        "        icon: google\n",
        "        href: https://colab.research.google.com/github/nicucalcea/ddj-wiki/blob/main/ai/python-classification-agent.ipynb\n",
        "        target: _blank\n",
        "execute: \n",
        "  cache: true\n",
        "---"
      ]
    },
    {
      "cell_type": "markdown",
      "metadata": {
        "id": "vO-mZV3OGrm_"
      },
      "source": [
        "You find yourself staring at a dataset with tens or hundreds of thousands of rows. Maybe you want to get up-to-date FOIA contact details for all government departments in your country, or to find out which political donors have links to the fossil fuels industry. What do you do?\n",
        "\n",
        "This kind of work is time-consuming and challenging. However, Large Language Models (LLMs) like those powering ChatGPT can help journalists automate simple research and classification tasks that would take an unreasonably long time to do otherwise.\n",
        "\n",
        "In this session, we'll outline how to use LLMs, search engines and web scraping to help us identify links between Donald Trump and his donors. You can [download the notebook](https://github.com/nicucalcea/ddj-wiki/blob/main/ai/python-classification-agent.ipynb) and run it yourself, or you can [run it in the cloud using Google Colab](https://colab.research.google.com/github/nicucalcea/ddj-wiki/blob/main/ai/python-classification-agent.ipynb). Both links also in the sidebar to the right, or at the bottom of the page on mobile."
      ]
    },
    {
      "cell_type": "markdown",
      "metadata": {
        "id": "Nd-jWkBqd8jH"
      },
      "source": [
        "## Install and load libraries"
      ]
    },
    {
      "cell_type": "markdown",
      "metadata": {},
      "source": [
        "First, we'll need to install some libraries to help us call different LLMs and retrieve search results."
      ]
    },
    {
      "cell_type": "code",
      "execution_count": null,
      "metadata": {
        "id": "Jbn2VKx1gj4W"
      },
      "outputs": [],
      "source": [
        "%pip install pandas\n",
        "%pip install pydantic-ai\n",
        "%pip install duckduckgo-search\n",
        "%pip install trafilatura"
      ]
    },
    {
      "cell_type": "markdown",
      "metadata": {},
      "source": [
        "Then, we'll import those libraries."
      ]
    },
    {
      "cell_type": "code",
      "execution_count": 2,
      "metadata": {},
      "outputs": [],
      "source": [
        "import os\n",
        "\n",
        "# data\n",
        "import pandas as pd\n",
        "\n",
        "# scraping\n",
        "from urllib import request\n",
        "import ssl\n",
        "import requests\n",
        "from trafilatura import extract\n",
        "\n",
        "# validation\n",
        "from typing import List, Tuple\n",
        "from pydantic import BaseModel\n",
        "from typing import Literal\n",
        "\n",
        "# AI\n",
        "from pydantic_ai import Agent, Tool\n",
        "from pydantic_ai.common_tools.duckduckgo import duckduckgo_search_tool\n",
        "\n",
        "# make async work in jupyter\n",
        "import nest_asyncio\n",
        "nest_asyncio.apply()"
      ]
    },
    {
      "cell_type": "markdown",
      "metadata": {},
      "source": [
        "Finally, we need to define some of the API keys we'll be using. You can get your own [OpenAI API key](https://platform.openai.com/account/api-keys) or from another provider.\n",
        "\n",
        "<span hidden=\"\">Get a <a href=\"https://static.globalwitness.org/dataharvest-api-keys.txt\" target=\"_blank\">temporary API key here</a>.</span>"
      ]
    },
    {
      "cell_type": "code",
      "execution_count": null,
      "metadata": {
        "id": "lisUctaVd_K8"
      },
      "outputs": [],
      "source": [
        "#| eval: false\n",
        "os.environ[\"OPENAI_API_KEY\"] = \"\"\n",
        "os.environ[\"BRIGHTDATA_API_KEY\"] = \"\"\n",
        "os.environ[\"BRIGHTDATA_ZONE\"] = \"\""
      ]
    },
    {
      "cell_type": "markdown",
      "metadata": {
        "id": "Z04YaWN5LEsy"
      },
      "source": [
        "## Prep data"
      ]
    },
    {
      "cell_type": "markdown",
      "metadata": {},
      "source": [
        "We'll work with some data from the US Federal Election Commission (FEC) on [donations to Donald Trump's inaugural committee](https://docquery.fec.gov/cgi-bin/forms/C00894162/1889684/f132). Because a downloadable version isn't provided, we'll scrape the data directly from the website."
      ]
    },
    {
      "cell_type": "code",
      "execution_count": 4,
      "metadata": {},
      "outputs": [],
      "source": [
        "response = request.urlopen(\"https://docquery.fec.gov/cgi-bin/forms/C00894162/1889684/f132\",\n",
        "                           context=ssl._create_unverified_context())\n",
        "html = response.read()\n",
        "\n",
        "fec_raw = pd.read_html(html)[0]"
      ]
    },
    {
      "cell_type": "markdown",
      "metadata": {},
      "source": [
        "We need to fix some of the formatting issues, like removing dollar signs and converting dates to a more standard format."
      ]
    },
    {
      "cell_type": "code",
      "execution_count": 5,
      "metadata": {},
      "outputs": [],
      "source": [
        "fec = fec_raw.copy()\n",
        "fec = fec.iloc[:-1] # the last row is a summary\n",
        "\n",
        "fec['Date Donation Received'] = pd.to_datetime(\n",
        "    fec['Date Donation Received'], \n",
        "    format='%m/%d/%Y'  # Format for \"31/12/2025\"\n",
        ")\n",
        "\n",
        "fec['Donation Amount'] = fec['Donation Amount'].str.replace('$', '', regex=False)\n",
        "fec['Donation Amount'] = pd.to_numeric(fec['Donation Amount'])\n",
        "\n",
        "fec = fec.drop(columns=[\"Donor's Aggregate Donations To Date\"])"
      ]
    },
    {
      "cell_type": "markdown",
      "metadata": {},
      "source": [
        "Some donors donated multiple times, so we'll want to group them together and only classify them once."
      ]
    },
    {
      "cell_type": "code",
      "execution_count": 6,
      "metadata": {},
      "outputs": [],
      "source": [
        "fec_total = fec.groupby('Name')['Donation Amount'].sum().reset_index()\n",
        "fec_total = fec_total.sort_values(by='Donation Amount', ascending=False)\n",
        "fec_total = fec_total.head(5) # To keep things simple, we're only going to use the first 5 rows of the dataset.\n",
        "os.makedirs('data', exist_ok=True)\n",
        "fec_total.to_csv('data/fec_unclassified.csv', index=False)"
      ]
    },
    {
      "cell_type": "markdown",
      "metadata": {},
      "source": [
        "We should be ready to go. Let's see what the data looks like."
      ]
    },
    {
      "cell_type": "code",
      "execution_count": 7,
      "metadata": {},
      "outputs": [
        {
          "data": {
            "application/vnd.microsoft.datawrangler.viewer.v0+json": {
              "columns": [
                {
                  "name": "index",
                  "rawType": "int64",
                  "type": "integer"
                },
                {
                  "name": "Name",
                  "rawType": "object",
                  "type": "string"
                },
                {
                  "name": "Donation Amount",
                  "rawType": "float64",
                  "type": "float"
                }
              ],
              "ref": "606b3192-b923-48bc-9315-378ec3f52319",
              "rows": [
                [
                  "618",
                  "PILGRIM'S PRIDE CORPORATION",
                  "5000000.0"
                ],
                [
                  "652",
                  "RIPPLE LABS, INC.",
                  "4889345.33"
                ],
                [
                  "824",
                  "WARREN A STEPHENS",
                  "4000000.0"
                ],
                [
                  "667",
                  "ROBINHOOD MARKETS, INC.",
                  "2000000.0"
                ],
                [
                  "360",
                  "JARED ISAACMAN",
                  "2000000.0"
                ]
              ],
              "shape": {
                "columns": 2,
                "rows": 5
              }
            },
            "text/html": [
              "<div>\n",
              "<style scoped>\n",
              "    .dataframe tbody tr th:only-of-type {\n",
              "        vertical-align: middle;\n",
              "    }\n",
              "\n",
              "    .dataframe tbody tr th {\n",
              "        vertical-align: top;\n",
              "    }\n",
              "\n",
              "    .dataframe thead th {\n",
              "        text-align: right;\n",
              "    }\n",
              "</style>\n",
              "<table border=\"1\" class=\"dataframe\">\n",
              "  <thead>\n",
              "    <tr style=\"text-align: right;\">\n",
              "      <th></th>\n",
              "      <th>Name</th>\n",
              "      <th>Donation Amount</th>\n",
              "    </tr>\n",
              "  </thead>\n",
              "  <tbody>\n",
              "    <tr>\n",
              "      <th>618</th>\n",
              "      <td>PILGRIM'S PRIDE CORPORATION</td>\n",
              "      <td>5000000.00</td>\n",
              "    </tr>\n",
              "    <tr>\n",
              "      <th>652</th>\n",
              "      <td>RIPPLE LABS, INC.</td>\n",
              "      <td>4889345.33</td>\n",
              "    </tr>\n",
              "    <tr>\n",
              "      <th>824</th>\n",
              "      <td>WARREN A STEPHENS</td>\n",
              "      <td>4000000.00</td>\n",
              "    </tr>\n",
              "    <tr>\n",
              "      <th>667</th>\n",
              "      <td>ROBINHOOD MARKETS, INC.</td>\n",
              "      <td>2000000.00</td>\n",
              "    </tr>\n",
              "    <tr>\n",
              "      <th>360</th>\n",
              "      <td>JARED ISAACMAN</td>\n",
              "      <td>2000000.00</td>\n",
              "    </tr>\n",
              "  </tbody>\n",
              "</table>\n",
              "</div>"
            ],
            "text/plain": [
              "                            Name  Donation Amount\n",
              "618  PILGRIM'S PRIDE CORPORATION       5000000.00\n",
              "652            RIPPLE LABS, INC.       4889345.33\n",
              "824            WARREN A STEPHENS       4000000.00\n",
              "667      ROBINHOOD MARKETS, INC.       2000000.00\n",
              "360               JARED ISAACMAN       2000000.00"
            ]
          },
          "execution_count": 7,
          "metadata": {},
          "output_type": "execute_result"
        }
      ],
      "source": [
        "fec_total"
      ]
    },
    {
      "cell_type": "markdown",
      "metadata": {},
      "source": [
        "## Grounding"
      ]
    },
    {
      "cell_type": "markdown",
      "metadata": {},
      "source": [
        "Large Language Models are prone to [hallucinations](https://en.wikipedia.org/wiki/Hallucination_(artificial_intelligence)). If you ask an LLM a question it doesn't know the answer to, [it will confidently make up a plausible-sounding answer](https://ddj.nicu.md/ai/) that is completely wrong. This is particularly the case with lesser known organisations or individuals that wouldn't feature promionently in the training data.\n",
        "\n",
        "One way to minimise (but not completely eliminate) hallucinations is by \"grounding\" the LLM with some factual data like documents or databases. This is sometimes a technique called Retrieval-Augmented Generation (RAG).\n",
        "\n",
        "In our case, we want to allow out agent to search the internet to look for additional information about each donor.\n",
        "\n",
        "We could try scraping search results from Google like we did with the FEC data, but Google doesn't like that, and they will put various roadblocks in your way such as CAPTCHAs, rate limits or even blocking your IP address. Instead, they want you to use their [Custom Search API](https://developers.google.com/custom-search/v1/overview), which is paid and limited to 10k queries per day.\n",
        "\n",
        "Other search engines like Brave provide generous free tiers and more reasonable pricing, and there are some services that specifically cater to AI applications, like [Tavily](https://tavily.com/) and [Perplexity](https://docs.perplexity.ai/home).\n",
        "\n",
        "We'll use the DuckDuckGo API since it's free (but rate-limited), doesn't require signing up for an API key, and comes included with the agents framework we'll be using."
      ]
    },
    {
      "cell_type": "markdown",
      "metadata": {},
      "source": [
        "We also want to give our AI the ability to visit each of those search results and extract the text from there. We'll use a library called [Trafilatura](https://github.com/adbar/trafilatura) since it extract the main text without headers, footers and other irrelevant bits that we probably don't need for the classification."
      ]
    },
    {
      "cell_type": "code",
      "execution_count": 8,
      "metadata": {},
      "outputs": [],
      "source": [
        "def extract_text(urls: List[str]) -> List[Tuple[str, str]]:\n",
        "    \"\"\"\n",
        "    Extract text content from a list of URLs.\n",
        "    \n",
        "    Args:\n",
        "        urls: A list of URLs to scrape\n",
        "        \n",
        "    Returns:\n",
        "        A list of tuples containing (url, extracted_text)\n",
        "    \"\"\"\n",
        "    results = []\n",
        "\n",
        "    for url in urls:\n",
        "        # print(f\"Scraping {url}...\")\n",
        "        try:\n",
        "            response = requests.get(url, timeout=30, verify=False)\n",
        "            response.raise_for_status()\n",
        "            extracted_text = extract(response.text, output_format=\"markdown\")\n",
        "            results.append((url, extracted_text))\n",
        "        except requests.RequestException as e:\n",
        "            # print(f\"Error scraping {url}: {str(e)}\")\n",
        "            results.append((url, f\"Error: {str(e)}\"))\n",
        "\n",
        "    return results"
      ]
    },
    {
      "cell_type": "markdown",
      "metadata": {},
      "source": [
        "We'll eventually give our agent access to both the duckduckgo search function, as well as the `extract_text` function that we just created."
      ]
    },
    {
      "cell_type": "markdown",
      "metadata": {},
      "source": [
        "## Structured output"
      ]
    },
    {
      "cell_type": "markdown",
      "metadata": {},
      "source": [
        "Most modern LLMs are trained to produce structured output, which means they can return data in a specific format. This is useful for producing consistent outputs when we're asking the model to classify or research multiple items.\n",
        "\n",
        "We can define the output format we expect using a [Pydantic model](https://docs.pydantic.dev/latest/concepts/models/)."
      ]
    },
    {
      "cell_type": "code",
      "execution_count": 9,
      "metadata": {},
      "outputs": [],
      "source": [
        "class TrumpConnection(BaseModel):\n",
        "    donor_industry: str\n",
        "    type_of_connection: Literal['Family', 'Business', 'Political', 'Other', 'No connection', 'Don\\'t know or not enough information']\n",
        "    explanation: str\n",
        "    source_urls: str"
      ]
    },
    {
      "cell_type": "markdown",
      "metadata": {},
      "source": [
        "## Agents"
      ]
    },
    {
      "cell_type": "markdown",
      "metadata": {},
      "source": [
        "If we have an idea about what we want to search for, we could use a simple workflow where we first search for the donor's name, then extract the text from the first 5-10 results, and finally feed them to an LLM. An earlier version of this project used this approach, and it worked well enough.\n",
        "\n",
        "Since then, AI agents have become a lot more prominent. Agents are systems in which LLMs are allowed to choose their own steps, use tools appropriate for different tasks and make decisions about when to stop.\n",
        "\n",
        "The code required to create an agent from scratch is fairly simple, but there are several frameworks which come with batteries included. We'll use [PydanticAI](https://ai.pydantic.dev), but most frameworks provide a similar set of features.\n",
        "\n",
        "First, let's create the agent. We'll choose a model to use, give it a system prompt, define the tools it should have access to, and the structured output we expect."
      ]
    },
    {
      "cell_type": "code",
      "execution_count": 10,
      "metadata": {},
      "outputs": [],
      "source": [
        "agent = Agent(\n",
        "    'openai:gpt-4.1-mini',\n",
        "    system_prompt='Answer the question to the best of your abilities, using the tools at your disposal (`duckduckgo_search_tool` and `extract_text`).',\n",
        "    tools=[duckduckgo_search_tool(), Tool(extract_text)],\n",
        "    output_type=TrumpConnection,\n",
        "    model_settings={'temperature': 0.0}\n",
        ")"
      ]
    },
    {
      "cell_type": "markdown",
      "metadata": {},
      "source": [
        "Let's check whether that works. We'll ask the agent to classify a single donor, and see what it returns."
      ]
    },
    {
      "cell_type": "code",
      "execution_count": 11,
      "metadata": {},
      "outputs": [],
      "source": [
        "result = agent.run_sync(\n",
        "    'What is the connection between WARREN A STEPHENS and Donald Trump?'\n",
        ")"
      ]
    },
    {
      "cell_type": "code",
      "execution_count": 12,
      "metadata": {},
      "outputs": [
        {
          "data": {
            "text/plain": [
              "[ModelRequest(parts=[SystemPromptPart(content='Answer the question to the best of your abilities, using the tools at your disposal (`duckduckgo_search_tool` and `extract_text`).', timestamp=datetime.datetime(2025, 5, 21, 10, 32, 20, 9940, tzinfo=datetime.timezone.utc), dynamic_ref=None, part_kind='system-prompt'), UserPromptPart(content='What is the connection between WARREN A STEPHENS and Donald Trump?', timestamp=datetime.datetime(2025, 5, 21, 10, 32, 20, 9955, tzinfo=datetime.timezone.utc), part_kind='user-prompt')], instructions=None, kind='request'),\n",
              " ModelResponse(parts=[ToolCallPart(tool_name='duckduckgo_search', args='{\"query\":\"WARREN A STEPHENS and Donald Trump connection\"}', tool_call_id='call_Nm06XTWC5CNY7d0N114NoE86', part_kind='tool-call')], usage=Usage(requests=1, request_tokens=226, response_tokens=26, total_tokens=252, details={'accepted_prediction_tokens': 0, 'audio_tokens': 0, 'reasoning_tokens': 0, 'rejected_prediction_tokens': 0, 'cached_tokens': 0}), model_name='gpt-4.1-mini-2025-04-14', timestamp=datetime.datetime(2025, 5, 21, 10, 32, 27, tzinfo=datetime.timezone.utc), kind='response', vendor_id='chatcmpl-BZb2Jc45GK38dNYhKUptZR8KJeyRv'),\n",
              " ModelRequest(parts=[ToolReturnPart(tool_name='duckduckgo_search', content=[{'title': 'Warren Stephens - Wikipedia', 'href': 'https://en.wikipedia.org/wiki/Warren_Stephens', 'body': 'Warren Amerine Stephens (born February 18, 1957) is an American diplomat and businessman who is the designate to serve as the United States ambassador to the United Kingdom under President Donald Trump in his second administration.He is the chairman, president and chief executive officer (CEO) of Stephens Inc., a privately held investment bank. [1]On December 2, 2024, President-elect Trump ...'}, {'title': \"Trump's UK Ambassador Has Investments in Industries Set to Benefit from ...\", 'href': 'https://www.desmog.com/2025/05/15/donald-trump-uk-ambassador-warren-stephens-investments-industries-set-to-benefit-from-trade-deal/', 'body': \"Stephens Inc., founded in 1933, has a $7 billion portfolio listed with the SEC, making it one of the largest privately owned investment banks in the U.S.. Warren Stephens is listed as chairman of the company, having also served as its CEO and president prior to being appointed as Trump's ambassador to the UK in February. The firm is now run ...\"}, {'title': 'Trump picks investment banker Warren Stephens as UK ambassador - BBC', 'href': 'https://www.bbc.co.uk/news/articles/c20e79nlpe6o', 'body': 'President-elect Donald Trump has nominated businessman Warren Stephens to serve as America\\'s ambassador to the United Kingdom. \"Warren has always dreamed of serving the United States full time ...'}, {'title': 'Trump names billionaire investment banker Warren Stephens as his envoy ...', 'href': 'https://apnews.com/article/trump-transition-appointments-ambassador-52e4744db02a0f8e078685a7a754835d', 'body': 'WASHINGTON (AP) — President-elect Donald Trump has named billionaire investment banker Warren Stephens as his envoy to Britain, a prestigious posting for the Republican donor whose contributions this year included $2 million to a Trump-backing super PAC. Trump, in a post on his Truth Social site Monday evening, announced he was selecting Stephens to be the U.S. ambassador to the Court of ...'}, {'title': \"Who Is Warren Stephens: Net Worth, Family, Prison Scandal, and Trump's ...\", 'href': 'https://www.ibtimes.co.uk/who-warren-stephens-net-worth-family-prison-scandal-trumps-pick-uk-ambassador-1729149', 'body': 'Warren Stephens, a billionaire investment banker and CEO of Stephens Inc., has been nominated by President-elect Donald Trump to serve as the next U.S. Ambassador to the United Kingdom.'}, {'title': \"Trump's UK Ambassador Stands to Benefit From New Trade Deal - Jacobin\", 'href': 'https://jacobin.com/2025/05/trump-uk-ambassador-trade-deal', 'body': \"President Donald Trump's UK ambassador, Warren Stephens, holds shares worth hundreds of millions in the key sectors that stand to benefit from last week's UK-US trade agreement. Stephens played a key role in pushing through the deal, according to the United Kingdom's ambassador to the United States, Peter Mandelson, and campaigners have raised concerns that he will personally benefit.\"}, {'title': 'Meet Warren Stephens, Investment Banker Picked By Trump To Be UK ...', 'href': 'https://www.timesnownews.com/world/us/us-news/who-is-warren-stephens-donald-trump-uk-ambassador-pick-age-net-worth-career-family-controversiesotherdetails-article-115912443', 'body': 'Warren Stephens, a multibillionaire investment banker, has been nominated by President-elect Donald Trump to be the next American ambassador to the United Kingdom. Stephens, the chairman of Stephens Inc., brings to the position his conservative political connections and decades of economic success. The nomination comes amid rumors that former U.K. Ambassador Woody Johnson will return, and ...'}, {'title': \"Donald Trump news: US President's man in London, Warren Stephens, backs ...\", 'href': 'https://thenightly.com.au/business/donald-trump-news-us-presidents-man-in-london-warren-stephens-backs-aukus-partnership-c-18749933', 'body': 'Donald Trump\\'s new ambassador to the UK has used his first public speech to back the AUKUS partnership with Britain and Australia. Warren Stephens highlighted how \"vital the US-UK relationship is to our countries and to the world\" at an event in parliament attended by UK Prime Minister Keir ...'}, {'title': 'Warren Stephens: the Arkansan Spurs fan Trump is sending to London', 'href': 'https://www.ft.com/content/ec972106-e168-42ee-9805-b9854bb65b82', 'body': \"Warren Stephens took control of his family's investment bank in 2005 after the death of his father, Jack, just as Wall Street entered a debt bubble that would nearly collapse the global ...\"}, {'title': 'Trump Picks Warren Stephens, Billionaire Investment Banker, for U.K ...', 'href': 'https://www.nytimes.com/2024/12/02/us/politics/britain-ambassador-trump-stephens.html', 'body': \"Warren Stephens, an investment banker, gave $2 million in 2016 to a group aiming to block Donald J. Trump's political rise. More recently, he backed Asa Hutchinson, Chris Christie, Mike Pence ...\"}], tool_call_id='call_Nm06XTWC5CNY7d0N114NoE86', timestamp=datetime.datetime(2025, 5, 21, 10, 32, 28, 44169, tzinfo=datetime.timezone.utc), part_kind='tool-return')], instructions=None, kind='request'),\n",
              " ModelResponse(parts=[ToolCallPart(tool_name='extract_text', args='{\"urls\":[\"https://en.wikipedia.org/wiki/Warren_Stephens\",\"https://www.bbc.co.uk/news/articles/c20e79nlpe6o\",\"https://apnews.com/article/trump-transition-appointments-ambassador-52e4744db02a0f8e078685a7a754835d\",\"https://www.ibtimes.co.uk/who-warren-stephens-net-worth-family-prison-scandal-trumps-pick-uk-ambassador-1729149\",\"https://www.nytimes.com/2024/12/02/us/politics/britain-ambassador-trump-stephens.html\"]}', tool_call_id='call_9R70VTnj65ktLbgkGHTUrOps', part_kind='tool-call')], usage=Usage(requests=1, request_tokens=1368, response_tokens=146, total_tokens=1514, details={'accepted_prediction_tokens': 0, 'audio_tokens': 0, 'reasoning_tokens': 0, 'rejected_prediction_tokens': 0, 'cached_tokens': 0}), model_name='gpt-4.1-mini-2025-04-14', timestamp=datetime.datetime(2025, 5, 21, 10, 32, 30, tzinfo=datetime.timezone.utc), kind='response', vendor_id='chatcmpl-BZb2MDc6jiTXRvu9F1iTnwSp2sC6C'),\n",
              " ModelRequest(parts=[ToolReturnPart(tool_name='extract_text', content=[('https://en.wikipedia.org/wiki/Warren_Stephens', '# Warren Stephens\\n\\n\\nWarren Stephens | |\\n|---|---|\\n| United States Ambassador to the United Kingdom | |\\nAssuming officeTBD | |\\n| President | Donald Trump |\\n| Succeeding | Jane D. Hartley |\\n| Personal details | |\\n| Born | Warren Amerine Stephens February 18, 1957 Little Rock, Arkansas, U.S. |\\n| Spouse | Harriet Stephens |\\n| Children | 3 |\\n| Parent |\\n|\\n| Education | Washington and Lee University (BA) Wake Forest University (MBA) |\\n| Occupation | Chairman, President, and CEO of Stephens Inc. |\\n\\n**Warren Amerine Stephens** (born February 18, 1957) is an American diplomat and businessman who is the designate to serve as the United States ambassador to the United Kingdom under President Donald Trump in his second administration. He is the chairman, president and chief executive officer (CEO) of Stephens Inc., a privately held investment bank.[1]\\n\\nOn December 2, 2024, President-elect Trump announced his nomination of Stephens to serve as the ambassador to the United Kingdom.[2] The U.S. Senate confirmed his nomination in a 59–39 vote.[3] He was sworn in on April 30, 2025.[ citation needed]\\n\\n## Early life and education\\n\\n[edit]Stephens was born in Little Rock, the son of Jackson T. Stephens and Mary Amerine Stephens. Warren\\'s father, \"Jack\" Stephens, and his uncle, \"Witt\" Stephens, partnered as investors and financiers in the investment firm, Stephens Inc.[4]\\n\\nWarren began his education in Little Rock, and in 1975, graduated from Trinity Presbyterian High School in Montgomery, Alabama. He graduated from Washington and Lee University in 1979 with a BA in economics, and received his MBA from Wake Forest University in 1981.[5]\\n\\n## Career\\n\\n[edit]Stephens joined his father and uncle in the investment banking business in Little Rock, which had 139 employees. At that time, the firm resembled and operated much like one of the old British merchant banks, investing the firm\\'s and family funds in various businesses and ventures, and it still operates the same way today. Stephens Inc is noted for handling the IPO of Wal-Mart Stores in 1970.[4]\\n\\nStephens began work as an associate in the corporate finance department, concentrating on oil and gas. He became head of the department in 1983 and spent a lot of time on mergers and acquisitions. On February 18, 1986, Stephens was appointed president and CEO of Stephens Inc.[4]\\n\\nIn 1990, he was the senior advisor to Tyson Foods in their acquisition of Holly Farms in a nine-month takeover battle.[4] He is only the third chairman, president and CEO in the firm\\'s more than 90 years of operations since 1933.[6]\\n\\nIn 2006, Stephens acquired 100 percent of the outstanding shares of Stephens Inc from the other family members.[4]\\n\\nStephens is on the board of Dillard\\'s.[7]\\n\\nIn January 2025, Warren Stephens revealed his decision to step down from his role as CEO of Stephens Inc., as he gets ready to take on the position of U.S. ambassador to the United Kingdom. His sons, Miles and John Stephens, have been named co-CEOs, representing the third generation of family leadership at the firm.[8]\\n\\n## Political involvement\\n\\n[edit]A Republican, he supported Bob Dole in 1996, Steve Forbes in 1999, and has supported Mike Huckabee.[9] Stephens was a bundler for Mitt Romney in 2012.[10] He has been critical of presidents Bill Clinton and Barack Obama.[11][12][9] During the 2016 election, Stephens and his brother Jackson Stephens were major financial supporters of the Stop Trump movement.[13]\\n\\nDuring the 2020 presidential election, Stephens donated more than $3 million to Super PACs supporting Trump. In the 2024 Republican presidential primaries, Stephens was a major financial backer of Asa Hutchinson and Nikki Haley.[14][15] During the 2024 presidential campaign, Stephens also contributed to MAGA Inc., a Super PAC aligned with Donald Trump.[16]\\n\\nOn December 2, 2024, President-elect Donald Trump announced Stephens as the nominee to serve as the United States ambassador to the United Kingdom.[17] On February 12, 2025, his nomination was sent to the Senate.[18] His nomination was confirmed by a vote of 59–39 on April 29, 2025.[3] He is awaiting the presentation of his credentials.\\n\\n## Philanthropy\\n\\n[edit]Stephens was on the board of trustees of his alma mater, Washington and Lee University.[5] Stephens and his wife Harriet are benefactors of various organizations, most notably the Episcopal Collegiate School and the Arkansas Arts Center, both in Little Rock.[19][20]\\n\\n## References\\n\\n[edit]**^**\"Warren Stephens\".*Stephens*.**^**\"Trump picks investment banker Warren Stephens as UK ambassador\".*BBC News*. Retrieved December 3, 2024.- ^\\n**a**Solomon, Scott (April 29, 2025). \"Warren Stephens receives confirmation to serve as U.S. Ambassador to United Kingdom\".**b***KATV*. Retrieved April 29, 2025. - ^\\n**a****b****c****d**\"Stephens History\".**e***Stephens*. Archived from the original on December 8, 2014. Retrieved December 11, 2014. - ^\\n**a**\"W&L\".**b***Washington & Lee*. **^**\"University of Arkansas/Walton College/Arkansas Business Hall of Fame/Warren A. Stephens\". Retrieved December 7, 2023.**^**\"Dillard\\'s Board of Directors\".*Bloomberg Business Week*. Archived from the original on December 13, 2014.**^**Clarke, Paul. \"Warren Stephens\\' UK ambassador role triggers succession at family owned investment bank\".*www.fnlondon.com*. Retrieved May 16, 2025.- ^\\n**a**Steven Barnes, \\'PRIVATE SECTOR; Understatement, at $5 Billion\\', in**b***The New York Times*, November 21, 1999 [1] **^**Schouten, Fredreka (July 13, 2012). \"Mitt Romney announces three bundlers\".*USA Today*. Retrieved October 15, 2013.**^**\"Warren Stephens\".*Forbes*. Archived from the original on May 28, 2023.**^**BusinessWeek profile**^**Mider, Zachary (March 21, 2016). \"Arkansas Billionaire Warren Stephens A Leading Stop-Trump Donor\". Southwest Times Record. Archived from the original on August 17, 2016. Retrieved July 18, 2016.**^**Schwartz, Brian (July 31, 2023). \"Almost all of Trump\\'s biggest 2020 super PAC donors refrain from giving to his rivals\". NBC News.**^**Reston, Maeve; Morse, Clara Ence; Knowles, Hanna (February 1, 2024). \"Trump spent more than $55 million in donor money on legal fees last year, filings show\".*Washington Post*.**^**Woodward, Alex. \"Reclusive Republican megadonor drops $50m into Trump super PAC\". Independent.**^**\"Donald Trump nominates billionaire investment banker Warren Stephens to be US ambassador to UK\".*Sky News*. United States. December 2, 2024. Retrieved December 3, 2024.**^**\"Nominations Sent to the Senate\" (Press release). The White House. February 12, 2025.**^**\"Episcopal Collegiate School: History\".*Episcopal Collegiate School*.**^**\"The King of Little Rock\".*Barron\\'s*.\\n\\n- 1957 births\\n- Living people\\n- 20th-century American businesspeople\\n- 21st-century American businesspeople\\n- 21st-century American diplomats\\n- Ambassadors of the United States to the United Kingdom\\n- American billionaires\\n- American chief executives of financial services companies\\n- American investment bankers\\n- Arkansas Republicans\\n- Businesspeople from Little Rock, Arkansas\\n- People named in the Paradise Papers\\n- Second Trump administration personnel\\n- Wake Forest University alumni\\n- Washington and Lee University alumni\\n- Washington and Lee University trustees'), ('https://www.bbc.co.uk/news/articles/c20e79nlpe6o', '# Trump picks investment banker Warren Stephens as UK ambassador\\n\\n- Published\\n\\n**President-elect Donald Trump has nominated businessman Warren Stephens to serve as Americaâs ambassador to the United Kingdom.**\\n\\nâWarren has always dreamed of serving the United States full time,â Trump said in a statement on Truth Social. âI am thrilled that he will now have that opportunity as the top diplomat, representing the USA to one of Americaâs most cherished and beloved allies.â\\n\\nStephens, who is CEO of private Arkansas-based investment bank Stephens Inc, donated millions to Trumpâs re-election campaign this year.\\n\\nIf his nomination is successful, Stephens will help to maintain the so-called âspecial relationshipâ between the US and the UK.\\n\\nThe two countries maintain close military, intelligence, and cultural ties.\\n\\nTrump has vowed to rework the USâ relationships abroad, vowing to implement an âAmerica-firstâ ethos to foreign policy.\\n\\nThe role of US ambassador to the UK is one of the most coveted diplomatic positions, and presidents have been known to bestow the role to prominent backers.\\n\\nDuring his first term in office, Trump appointed Woody Johnson, a top Republican donor and owner of the American football team the New York Jets, as UK ambassador.\\n\\nBarack Obama chose long-time Democratic Party fundraiser and lawyer Louis Susman as his first emissary to the UK - or the Court of St James.\\n\\nStephens did not always back Trumpâs candidacies, however. In 2016, when Trump first ran for president, Stephens donated about $4m (Â£3.1m) to political groups that sought to stop Trumpâs ascent, the Arkansas Democrat-Gazette reported at the time.\\n\\nThe investment banker also donated over $2m to a political action committee that supported former UN Ambassador Nikki Haley as she unsuccessfully ran for president in 2024, the campaign finance watchdog OpenSecrets found.\\n\\nWhen Trump ultimately triumphed in this yearâs Republican presidential primary, however, Stephens threw his support behind him. Federal campaign finance data show he also donated to Republican groups and US Senate candidates this year.\\n\\nIn a statement, Stephens said he was honoured by the nomination.\\n\\n\"I have expressed to President Trump that I would be extremely proud to serve our country and his administration, working to implement the Presidentâs agenda and further strengthen the long-standing alliance between the United States and the United Kingdom,â he said.\\n\\nHe and his wife also maintain a philanthropic organisation, the Harriet and Warren Stephens Family Foundation, which has donated to the Arkansas Museum of Fine Arts, the University of Mississippi, and the Episcopal Collegiate School in Little Rock.\\n\\n- Published2 December 2024\\n\\n- Published1 December 2024\\n\\n- Published25 February\\n\\n\\nNorth America correspondent Anthony Zurcher makes sense of US politics in his twice weekly US Election Unspun newsletter. Readers in the UK can sign up here. Those outside the UK can sign up here.'), ('https://apnews.com/article/trump-transition-appointments-ambassador-52e4744db02a0f8e078685a7a754835d', '# Trump names billionaire investment banker Warren Stephens as his envoy to Britain\\n\\nWASHINGTON (AP) — President-elect Donald Trump has named billionaire investment banker Warren Stephens as his envoy to Britain, a prestigious posting for the Republican donor whose contributions this year included $2 million to a Trump-backing super PAC.\\n\\nTrump, in a post on his Truth Social site Monday evening, announced he was selecting Stephens to be the U.S. ambassador to the Court of Saint James. The Senate is required to confirm the choice.\\n\\n“Warren has always dreamed of serving the United States full time. I am thrilled that he will now have that opportunity as the top Diplomat, representing the U.S.A. to one of America’s most cherished and beloved Allies,” Trump said in in his post.\\n\\nStephens is the chairman, president and CEO of Little Rock, Arkansas-based financial services firm Stephens Inc., having taken over the firm from his father.\\n\\nTrump has already named many of his nominees for his Cabinet and high-profile diplomatic posts, assembling a roster of staunch loyalists. Over the weekend, Trump announced he intends to nominate real estate developer Charles Kushner, father of Trump’s son-in-law Jared Kushner, to serve as ambassador to France.\\n\\nDuring his first term, Trump selected Robert “Woody” Johnson, a contributor to his campaign and the owner of the New York Jets football team, as his representative to the United Kingdom.'), ('https://www.ibtimes.co.uk/who-warren-stephens-net-worth-family-prison-scandal-trumps-pick-uk-ambassador-1729149', 'Error: 403 Client Error: Forbidden for url: https://www.ibtimes.co.uk/who-warren-stephens-net-worth-family-prison-scandal-trumps-pick-uk-ambassador-1729149'), ('https://www.nytimes.com/2024/12/02/us/politics/britain-ambassador-trump-stephens.html', 'Error: 403 Client Error: Forbidden for url: https://www.nytimes.com/2024/12/02/us/politics/britain-ambassador-trump-stephens.html')], tool_call_id='call_9R70VTnj65ktLbgkGHTUrOps', timestamp=datetime.datetime(2025, 5, 21, 10, 32, 33, 605096, tzinfo=datetime.timezone.utc), part_kind='tool-return')], instructions=None, kind='request'),\n",
              " ModelResponse(parts=[ToolCallPart(tool_name='final_result', args='{\"donor_industry\":\"Investment banking and financial services\",\"type_of_connection\":\"Political\",\"explanation\":\"Warren A. Stephens is a billionaire investment banker and CEO of Stephens Inc. He was nominated by President Donald Trump to serve as the United States ambassador to the United Kingdom in Trump\\'s second administration. Stephens has been a significant political donor, including donations to Trump-aligned Super PACs and campaigns. Although he initially supported efforts to stop Trump in 2016, he later became a major financial supporter of Trump and his aligned political groups. His appointment as ambassador is a political connection stemming from his support and donations to Trump and his administration.\",\"source_urls\":\"https://en.wikipedia.org/wiki/Warren_Stephens, https://www.bbc.co.uk/news/articles/c20e79nlpe6o, https://apnews.com/article/trump-transition-appointments-ambassador-52e4744db02a0f8e078685a7a754835d\"}', tool_call_id='call_lyRikPjRKAIGUgXvxW7r9lxc', part_kind='tool-call')], usage=Usage(requests=1, request_tokens=4513, response_tokens=206, total_tokens=4719, details={'accepted_prediction_tokens': 0, 'audio_tokens': 0, 'reasoning_tokens': 0, 'rejected_prediction_tokens': 0, 'cached_tokens': 0}), model_name='gpt-4.1-mini-2025-04-14', timestamp=datetime.datetime(2025, 5, 21, 10, 32, 34, tzinfo=datetime.timezone.utc), kind='response', vendor_id='chatcmpl-BZb2QjD4o50FAzQDPPzPcwg6DiQV0'),\n",
              " ModelRequest(parts=[ToolReturnPart(tool_name='final_result', content='Final result processed.', tool_call_id='call_lyRikPjRKAIGUgXvxW7r9lxc', timestamp=datetime.datetime(2025, 5, 21, 10, 32, 38, 978804, tzinfo=datetime.timezone.utc), part_kind='tool-return')], instructions=None, kind='request')]"
            ]
          },
          "execution_count": 12,
          "metadata": {},
          "output_type": "execute_result"
        }
      ],
      "source": [
        "result.all_messages()"
      ]
    },
    {
      "cell_type": "markdown",
      "metadata": {},
      "source": [
        "As you can see above, our agent started by searching the internet, read the search results, selected a few of the most relevant ones, read the text from those pages, and finally produced an output in the format we defined earlier."
      ]
    },
    {
      "cell_type": "markdown",
      "metadata": {},
      "source": [
        "## Running on the full dataset"
      ]
    },
    {
      "cell_type": "markdown",
      "metadata": {},
      "source": [
        "We now have a working agent that can search the internet, read websites and return structured outputs. We can now have it run on each row of our dataset and return a full classification for each donor.\n",
        "\n",
        "First, let's define a simple function that incorporates the agent run shown above."
      ]
    },
    {
      "cell_type": "code",
      "execution_count": 13,
      "metadata": {},
      "outputs": [],
      "source": [
        "def classify_donor(donor: str):\n",
        "    result = agent.run_sync(f'What is the connection between {donor} and Donald Trump?')\n",
        "    return result.output"
      ]
    },
    {
      "cell_type": "markdown",
      "metadata": {},
      "source": [
        "Now, we can run it on the scraped data from the FEC website."
      ]
    },
    {
      "cell_type": "code",
      "execution_count": 14,
      "metadata": {},
      "outputs": [],
      "source": [
        "def apply_classify_donor(df):\n",
        "    # Apply the classify_donor function to each row\n",
        "    df['classification'] = df.apply(lambda row: classify_donor(donor=row['Name']), axis=1)\n",
        "    \n",
        "    # Convert the Pydantic objects to dictionaries\n",
        "    classification_dicts = df['classification'].apply(lambda x: x.model_dump())\n",
        "    \n",
        "    # Create a new DataFrame from the classification dictionaries\n",
        "    # This ensures the index matches the original dataframe\n",
        "    classification_df = pd.DataFrame(classification_dicts.tolist(), index=df.index)\n",
        "    \n",
        "    # Combine original data with classification data\n",
        "    result_df = pd.concat([df.drop(['classification'], axis=1), classification_df], axis=1)\n",
        "    \n",
        "    return result_df"
      ]
    },
    {
      "cell_type": "code",
      "execution_count": 15,
      "metadata": {},
      "outputs": [],
      "source": [
        "fec_classified = apply_classify_donor(fec_total)"
      ]
    },
    {
      "cell_type": "code",
      "execution_count": 16,
      "metadata": {},
      "outputs": [
        {
          "data": {
            "application/vnd.microsoft.datawrangler.viewer.v0+json": {
              "columns": [
                {
                  "name": "index",
                  "rawType": "int64",
                  "type": "integer"
                },
                {
                  "name": "Name",
                  "rawType": "object",
                  "type": "string"
                },
                {
                  "name": "Donation Amount",
                  "rawType": "float64",
                  "type": "float"
                },
                {
                  "name": "donor_industry",
                  "rawType": "object",
                  "type": "string"
                },
                {
                  "name": "type_of_connection",
                  "rawType": "object",
                  "type": "string"
                },
                {
                  "name": "explanation",
                  "rawType": "object",
                  "type": "string"
                },
                {
                  "name": "source_urls",
                  "rawType": "object",
                  "type": "string"
                }
              ],
              "ref": "51daa01f-2787-487a-af0f-00a9414f3c1f",
              "rows": [
                [
                  "618",
                  "PILGRIM'S PRIDE CORPORATION",
                  "5000000.0",
                  "Poultry processing",
                  "Business",
                  "Pilgrim's Pride Corporation, a major poultry processor, made a $5 million donation to Donald Trump's 2025 inaugural committee, making it the largest corporate donor to the inauguration. This establishes a business connection between Pilgrim's Pride and Donald Trump through their financial support of his inauguration.",
                  "https://readsludge.com/2025/04/21/trumps-top-inaugural-donor-is-poultry-company-fined-for-price-fixing-and-antitrust-violations/, https://www.wattagnet.com/regions/north-america/news/15743696/pilgrims-pride-donated-5-to-trumpvance-inauguration, https://www.meatpoultry.com/articles/31921-senator-questions-pilgrims-5-million-donation-to-trump-inaugural-fund"
                ],
                [
                  "652",
                  "RIPPLE LABS, INC.",
                  "4889345.33",
                  "Cryptocurrency and blockchain technology",
                  "Political",
                  "Ripple Labs, Inc. has a political connection with Donald Trump. Ripple's CEO Brad Garlinghouse met with President-elect Trump at Mar-a-Lago in January 2025, marking a significant engagement between the company and Trump. Ripple also donated $5 million to Trump's inaugural committee. The company has benefited from a more favorable regulatory environment anticipated under Trump's administration, including the SEC dropping its case against Ripple. Additionally, a lobbyist linked to Ripple influenced Trump to publicly endorse XRP, Ripple's cryptocurrency, which caused Trump to feel manipulated once he learned of the connection. These interactions indicate a political connection between Ripple Labs and Donald Trump.",
                  "https://abcnews.go.com/US/sec-drops-case-crypto-firm-ties-trump-ceo/story?id=119963257, https://blockonomi.com/ripple-expands-us-operations-following-trump-meeting/, https://cryptobriefing.com/trump-ripple-lobbyist-controversy/"
                ],
                [
                  "824",
                  "WARREN A STEPHENS",
                  "4000000.0",
                  "Investment banking and financial services",
                  "Political",
                  "Warren A. Stephens is a billionaire investment banker and chairman, president, and CEO of Stephens Inc., a private investment bank. He was nominated by President Donald Trump to serve as the United States ambassador to the United Kingdom in Trump's second administration. Stephens has been a significant donor to Republican causes and supported Trump's 2020 campaign financially, although he initially opposed Trump in 2016. His connection to Trump is primarily political, as a major donor and appointee to a diplomatic position by Trump.",
                  "https://en.wikipedia.org/wiki/Warren_Stephens, https://www.bbc.co.uk/news/articles/c20e79nlpe6o, https://www.standard.co.uk/news/us-politics/warren-stephens-new-uk-ambassador-donald-trump-b1197754.html"
                ],
                [
                  "667",
                  "ROBINHOOD MARKETS, INC.",
                  "2000000.0",
                  "Financial Technology (Fintech)",
                  "Political",
                  "Robinhood Markets, Inc. made a $2 million donation to Donald Trump's inaugural fund, marking the largest publicly announced contribution among major tech firms. This financial support aligns Robinhood with Trump's proposed regulatory approach, especially regarding cryptocurrency and AI policies. Robinhood's CEO Vlad Tenev has publicly criticized the Biden administration's regulatory stance and expressed support for Trump's more favorable regulatory outlook. This establishes a political connection between Robinhood Markets, Inc. and Donald Trump.",
                  "https://www.benzinga.com/markets/equities/24/12/42546903/robinhood-pledges-2-million-to-trumps-inaugural-fund-criticizes-bidens-crypto-and-ai-policies-amid-236-stock-surge"
                ],
                [
                  "360",
                  "JARED ISAACMAN",
                  "2000000.0",
                  "Casinos and hospitality (Trump Taj Mahal casino)",
                  "Business",
                  "Jared Isaacman was sued by Trump's Taj Mahal casino in 2009 for writing bad checks totaling $1 million, which was settled for $650,000. He was also involved in other civil cases related to casino debts with Trump-owned casinos. This establishes a business connection between Isaacman and Donald Trump through the casino industry.",
                  "https://www.firstpost.com/world/trumps-nasa-nominee-jared-isaacman-arrested-for-fraud-in-2010-records-reveal-13883370.html"
                ]
              ],
              "shape": {
                "columns": 6,
                "rows": 5
              }
            },
            "text/html": [
              "<div>\n",
              "<style scoped>\n",
              "    .dataframe tbody tr th:only-of-type {\n",
              "        vertical-align: middle;\n",
              "    }\n",
              "\n",
              "    .dataframe tbody tr th {\n",
              "        vertical-align: top;\n",
              "    }\n",
              "\n",
              "    .dataframe thead th {\n",
              "        text-align: right;\n",
              "    }\n",
              "</style>\n",
              "<table border=\"1\" class=\"dataframe\">\n",
              "  <thead>\n",
              "    <tr style=\"text-align: right;\">\n",
              "      <th></th>\n",
              "      <th>Name</th>\n",
              "      <th>Donation Amount</th>\n",
              "      <th>donor_industry</th>\n",
              "      <th>type_of_connection</th>\n",
              "      <th>explanation</th>\n",
              "      <th>source_urls</th>\n",
              "    </tr>\n",
              "  </thead>\n",
              "  <tbody>\n",
              "    <tr>\n",
              "      <th>618</th>\n",
              "      <td>PILGRIM'S PRIDE CORPORATION</td>\n",
              "      <td>5000000.00</td>\n",
              "      <td>Poultry processing</td>\n",
              "      <td>Business</td>\n",
              "      <td>Pilgrim's Pride Corporation, a major poultry p...</td>\n",
              "      <td>https://readsludge.com/2025/04/21/trumps-top-i...</td>\n",
              "    </tr>\n",
              "    <tr>\n",
              "      <th>652</th>\n",
              "      <td>RIPPLE LABS, INC.</td>\n",
              "      <td>4889345.33</td>\n",
              "      <td>Cryptocurrency and blockchain technology</td>\n",
              "      <td>Political</td>\n",
              "      <td>Ripple Labs, Inc. has a political connection w...</td>\n",
              "      <td>https://abcnews.go.com/US/sec-drops-case-crypt...</td>\n",
              "    </tr>\n",
              "    <tr>\n",
              "      <th>824</th>\n",
              "      <td>WARREN A STEPHENS</td>\n",
              "      <td>4000000.00</td>\n",
              "      <td>Investment banking and financial services</td>\n",
              "      <td>Political</td>\n",
              "      <td>Warren A. Stephens is a billionaire investment...</td>\n",
              "      <td>https://en.wikipedia.org/wiki/Warren_Stephens,...</td>\n",
              "    </tr>\n",
              "    <tr>\n",
              "      <th>667</th>\n",
              "      <td>ROBINHOOD MARKETS, INC.</td>\n",
              "      <td>2000000.00</td>\n",
              "      <td>Financial Technology (Fintech)</td>\n",
              "      <td>Political</td>\n",
              "      <td>Robinhood Markets, Inc. made a $2 million dona...</td>\n",
              "      <td>https://www.benzinga.com/markets/equities/24/1...</td>\n",
              "    </tr>\n",
              "    <tr>\n",
              "      <th>360</th>\n",
              "      <td>JARED ISAACMAN</td>\n",
              "      <td>2000000.00</td>\n",
              "      <td>Casinos and hospitality (Trump Taj Mahal casino)</td>\n",
              "      <td>Business</td>\n",
              "      <td>Jared Isaacman was sued by Trump's Taj Mahal c...</td>\n",
              "      <td>https://www.firstpost.com/world/trumps-nasa-no...</td>\n",
              "    </tr>\n",
              "  </tbody>\n",
              "</table>\n",
              "</div>"
            ],
            "text/plain": [
              "                            Name  Donation Amount  \\\n",
              "618  PILGRIM'S PRIDE CORPORATION       5000000.00   \n",
              "652            RIPPLE LABS, INC.       4889345.33   \n",
              "824            WARREN A STEPHENS       4000000.00   \n",
              "667      ROBINHOOD MARKETS, INC.       2000000.00   \n",
              "360               JARED ISAACMAN       2000000.00   \n",
              "\n",
              "                                       donor_industry type_of_connection  \\\n",
              "618                                Poultry processing           Business   \n",
              "652          Cryptocurrency and blockchain technology          Political   \n",
              "824         Investment banking and financial services          Political   \n",
              "667                    Financial Technology (Fintech)          Political   \n",
              "360  Casinos and hospitality (Trump Taj Mahal casino)           Business   \n",
              "\n",
              "                                           explanation  \\\n",
              "618  Pilgrim's Pride Corporation, a major poultry p...   \n",
              "652  Ripple Labs, Inc. has a political connection w...   \n",
              "824  Warren A. Stephens is a billionaire investment...   \n",
              "667  Robinhood Markets, Inc. made a $2 million dona...   \n",
              "360  Jared Isaacman was sued by Trump's Taj Mahal c...   \n",
              "\n",
              "                                           source_urls  \n",
              "618  https://readsludge.com/2025/04/21/trumps-top-i...  \n",
              "652  https://abcnews.go.com/US/sec-drops-case-crypt...  \n",
              "824  https://en.wikipedia.org/wiki/Warren_Stephens,...  \n",
              "667  https://www.benzinga.com/markets/equities/24/1...  \n",
              "360  https://www.firstpost.com/world/trumps-nasa-no...  "
            ]
          },
          "execution_count": 16,
          "metadata": {},
          "output_type": "execute_result"
        }
      ],
      "source": [
        "fec_classified"
      ]
    },
    {
      "cell_type": "markdown",
      "metadata": {},
      "source": [
        "We now have a full classification for each donor which we can export to a CSV file, analyse further or review manually."
      ]
    },
    {
      "cell_type": "markdown",
      "metadata": {},
      "source": [
        "## Next steps"
      ]
    },
    {
      "cell_type": "markdown",
      "metadata": {},
      "source": [
        "The example above shows a minimal working example of how to use LLMs to research a dataset. However, there are several ways in which this process could be improved. Here are some ideas:\n",
        "\n",
        "- **[Play with the prompt](https://github.com/Global-Witness/augmenta/)**. We asked a simple question, but the more specific you are, the better the results. Write a good prompt, include examples and iterate.\n",
        "- **[Make the AI reason](https://github.com/Global-Witness/augmenta/blob/main/docs/tools.md#:~:text=MCP%20servers%20are%3A-,sequential%20thinking,--%20Allows%20the%20agent)**. Allowing an LLM to \"reason\" about its next steps can help it produce better outputs.\n",
        "- **[Use different search engines](https://github.com/Global-Witness/augmenta/blob/main/docs/search.md)**. DuckDuckGo is free and good for a prototype. However, their API isn't meant to be used this way and will often return errors, especially when used on bigger datasets. It also doesn't return the best results. I recomment switching to Google, potentially via a SERP API.\n",
        "- **Try other models**. I like to use gpt-4.1-mini because it is reasonably fast, cheap and \"smart\" enough for most tasks. If you find it often gets it wrong, you can use the smarter gpt-4.1 or a \"reasoning\" model like o3.\n",
        "- **Validate the output**. While we did code the classifier to return structured output, you can go beyond that and validate the output (ie. check that the sources are valid URLs, check that the explanation includes exact quotes from the sources, etc).\n",
        "- **[Save your progress](https://github.com/Global-Witness/augmenta/blob/main/docs/cache.md)**. Things can and will go wrong! The search engine may fail, the LLM may be down (Claude often is), your Python script may throw an unexpected error. If you don't want to lose progress, you should save your progress to file or a database so you can pick up from where you left off.\n",
        "- **Async/Multithreading**. In my tests, each classification takes about 20-50 seconds, but it can take longer if the LLM is trying to accesss an unresponsive website. If you have a lot of rows to classify, you should consider running multiple agents in parallel.\n",
        "- **Verify**. LLMs are still dumb and shouldn't be trusted! Manually verify the classifications if you're going to publish the results."
      ]
    },
    {
      "cell_type": "markdown",
      "metadata": {},
      "source": [
        "# A better way"
      ]
    },
    {
      "cell_type": "markdown",
      "metadata": {},
      "source": [
        "I've used the approach described above for several projects at Global Witness, including our [annual classification of fossil fuel donors at COP](https://globalwitness.org/en/campaigns/fossil-fuels/how-we-used-ai-to-help-us-find-lobbyists-at-cop/).\n",
        "\n",
        "As the codebase grew to account for the suggestions described above, I decided to package everything into a Python library called **[Augmenta](https://github.com/Global-Witness/augmenta/)**. You can use Augmenta to build agents without writing any code. It has a few features that make life easier, such as:\n",
        "\n",
        "- Built-in search and text extraction tools\n",
        "- Support for multiple LLMs\n",
        "- Asynchronous processing\n",
        "- Automatic caching to save progress\n",
        "- Support for [third-party tools via MCP](https://github.com/Global-Witness/augmenta/blob/main/docs/tools.md)\n",
        "- Logfire integration for monitoring and debugging\n",
        "\n",
        "Let's see how it works.\n",
        "\n",
        "Because Augmenta is an interactive command-line tool, it doesn't work great in a Jupyter notebook. Instead, we'll run it in a separate terminal locally.\n",
        "\n",
        "First, we need to install Augmenta."
      ]
    },
    {
      "cell_type": "code",
      "execution_count": 1,
      "metadata": {},
      "outputs": [
        {
          "name": "stdout",
          "output_type": "stream",
          "text": [
            "Note: you may need to restart the kernel to use updated packages.\n"
          ]
        },
        {
          "name": "stderr",
          "output_type": "stream",
          "text": [
            "c:\\Users\\NicuCalcea\\Projects\\ddj-wiki\\.venv\\Scripts\\python.exe: No module named pip\n"
          ]
        }
      ],
      "source": [
        "%pip install augmenta"
      ]
    },
    {
      "cell_type": "markdown",
      "metadata": {},
      "source": [
        "Next, we need to create a configuration file. This is a YAML file that contains all the settings for the agent, including the search engine to use, the LLM to use and the prompts. It may look something like this."
      ]
    },
    {
      "cell_type": "code",
      "execution_count": 2,
      "metadata": {},
      "outputs": [],
      "source": [
        "yaml_config = \"\"\"\n",
        "input_csv: data/fec_unclassified.csv\n",
        "output_csv: data/fec_classified.csv\n",
        "model:\n",
        "  provider: openai\n",
        "  name: gpt-4.1-mini\n",
        "search:\n",
        "  engine: brightdata_google\n",
        "prompt:\n",
        "  system: You are an expert researcher whose job is to research the connections between political donors and Donald Trump.\n",
        "  user: |\n",
        "    # Instructions\n",
        "\n",
        "    Your job is to research {{Name}}, a donor to Donald Trump's inaugural fund. Your will determine how Donald Trump and {{Name}} are connected, whether via family, business ties, political ties or something else. Don't consider donations to the inaugural fund as a connection, we're only interested in connections before or after the donation.\n",
        "\n",
        "    ## Searching guidelines\n",
        "\n",
        "    In most cases, you should start by searching for \"{{Name}}\" and \"Donald Trump\". Where relevant, remove redundant words like \"INC\", \"LLC\", \"GROUP\", etc from the search query. If you need to perform another search, try to refine it by adding relevant keywords. Note that each case will be different, so be flexible and adaptable. Unless necessary, limit your research to two or three searches.\n",
        "\n",
        "    With each search, select a few sources that are most likely to provide relevant information. Access them using the tools provided. Be critical and use common sense. ALWAYS cite your sources.\n",
        "\n",
        "    Now, please proceed with your analysis and classification of {{Name}}'s connections to Donald Trump.\n",
        "structure:\n",
        "  donor_industry:\n",
        "    type: str\n",
        "    description: What industry does this company, individual or organisation belong to?\n",
        "  type_of_connection:\n",
        "    type: str\n",
        "    description: How are they connected to Donald Trump?\n",
        "    options:\n",
        "      - Family\n",
        "      - Business\n",
        "      - Political\n",
        "      - Other\n",
        "      - No connection\n",
        "      - Don't know or not enough information\n",
        "  explanation:\n",
        "    type: str\n",
        "    description: A few paragraphs explaining your decision in English, formatted in Markdown. In the explanation, link to the most relevant sources from the provided documents. Include at least one inline URL.\n",
        "# mcpServers:\n",
        "#   - name: sequential-thinking\n",
        "#     command: npx\n",
        "#     args:\n",
        "#       - \"-y\"\n",
        "#       - \"@modelcontextprotocol/server-sequential-thinking\"\n",
        "examples:\n",
        "  - input: \"Melinda Hildebrand\"\n",
        "    output:\n",
        "      donor_industry: Energy\n",
        "      type_of_connection: Political\n",
        "      explanation: |\n",
        "        President Donald Trump nominated River Oaks Donuts owner and energy executive Melinda Hildebrand [to serve as U.S. Ambassador to Costa Rica](https://www.congress.gov/nomination/119th-congress/55/21). In May 2024, [the Financial Times reported](https://www.ft.com/content/c89bbfc4-80db-4f3f-8d63-3aeb46ae91a9) the Hildebrand and her husband hosted a campaign event for then-presidential candidate Trump, who was seeking donations from power players in the U.S. energy industry. [The Daily Beast reported](https://www.thedailybeast.com/trump-goes-small-at-fundraisers-as-harris-goes-big-all-over/) that the Hildebrands also served on the host committee of a Trump fundraising dinner in Colorado. According to the Daily Beast, the host committee gave or raised $500,000 per couple.\n",
        "logfire: true\n",
        "\"\"\"\n",
        "\n",
        "# Write the string directly to the file\n",
        "with open(\"data/augmenta.yaml\", 'w') as file:\n",
        "    file.write(yaml_config)"
      ]
    },
    {
      "cell_type": "markdown",
      "metadata": {},
      "source": [
        "Now, we just to run Augmenta.\n",
        "\n",
        "Because it's a CLI tool, we need to run it in a terminal. If you're running this notebook locally, it's best to run it in your preferred terminal instad of the notebook. If you're running it in Google Colab, you can start a terminal by running the following command in a code cell."
      ]
    },
    {
      "cell_type": "code",
      "execution_count": 3,
      "metadata": {},
      "outputs": [
        {
          "name": "stderr",
          "output_type": "stream",
          "text": [
            "'bash' is not recognized as an internal or external command,\n",
            "operable program or batch file.\n"
          ]
        }
      ],
      "source": [
        "#| eval: false\n",
        "!bash"
      ]
    },
    {
      "cell_type": "markdown",
      "metadata": {},
      "source": [
        "Next, you want to run the following command in the terminal.\n",
        "\n",
        "```bash\n",
        "augmenta data/augmenta.yaml\n",
        "```\n",
        "\n",
        "Note that you'll need API keys for OpenAI and BrightData in your environment (we did that at the top of the notebook)."
      ]
    },
    {
      "cell_type": "markdown",
      "metadata": {},
      "source": [
        "Once the classification is done, we can import the CSV back into the notebook and see the results."
      ]
    },
    {
      "cell_type": "code",
      "execution_count": 6,
      "metadata": {},
      "outputs": [
        {
          "data": {
            "application/vnd.microsoft.datawrangler.viewer.v0+json": {
              "columns": [
                {
                  "name": "index",
                  "rawType": "int64",
                  "type": "integer"
                },
                {
                  "name": "Name",
                  "rawType": "object",
                  "type": "string"
                },
                {
                  "name": "Donation Amount",
                  "rawType": "float64",
                  "type": "float"
                },
                {
                  "name": "donor_industry",
                  "rawType": "object",
                  "type": "string"
                },
                {
                  "name": "type_of_connection",
                  "rawType": "object",
                  "type": "string"
                },
                {
                  "name": "explanation",
                  "rawType": "object",
                  "type": "string"
                }
              ],
              "conversionMethod": "pd.DataFrame",
              "ref": "357a9b74-b160-45c0-8aba-5726c1fb9fa6",
              "rows": [
                [
                  "0",
                  "PILGRIM'S PRIDE CORPORATION",
                  "5000000.0",
                  "Food and Meat Processing",
                  "Political",
                  "Pilgrim's Pride Corporation, a major poultry producer in the United States and a subsidiary of the Brazil-based company JBS, donated $5 million to Donald Trump's 2025 inaugural committee, making it the largest donor to the inauguration. This donation was part of Pilgrim's Pride's support for the inauguration ceremony, reflecting its interest in working with the Trump administration to create opportunities for American farmers and provide affordable food. The connection between Pilgrim's Pride and Donald Trump is political, as the donation was made to support Trump's presidential inauguration. Pilgrim's Pride has also faced legal issues, including a guilty plea for conspiring to fix chicken prices and significant fines, while its parent company JBS was fined for bribery during Trump's first term. These details highlight the political nature of their connection rather than family or business ties directly with Trump himself. [Source 1](https://www.wattagnet.com/regions/north-america/news/15743696/pilgrims-pride-donated-5-to-trumpvance-inauguration), [Source 2](https://www.notus.org/donald-trump/inauguration-fundraising-pilgrims-pride), [Source 3](https://mightyearth.org/article/brazilian-meat-giant-jbs-was-largest-donor-to-trumps-inauguration/)"
                ],
                [
                  "1",
                  "RIPPLE LABS, INC.",
                  "4889345.33",
                  "Cryptocurrency / Blockchain Technology",
                  "Political",
                  "Ripple Labs, Inc. is a cryptocurrency and blockchain technology company. It donated approximately $4.9 million to Donald Trump's inaugural committee, making it one of the largest donors from the crypto industry to Trump's inauguration fund. The CEO of Ripple Labs, Brad Garlinghouse, has political ties to Trump, having met with him and participated in a White House crypto summit during Trump's presidency. This connection is primarily political, as Ripple Labs sought to influence regulatory and legislative approaches to cryptocurrency under the Trump administration. The company's involvement in Trump's inauguration and the CEO's direct engagement with Trump highlight a political relationship rather than family or business ownership ties. For more details, see the coverage by Fortune on the donation and ABC News on the CEO's ties and the SEC case involving Ripple Labs: https://fortune.com/crypto/2025/04/21/donald-trump-inauguration-fund-crypto-coinbase-ripple-circle-18-million/ and https://abcnews.go.com/US/sec-drops-case-crypto-firm-ties-trump-ceo/story?id=119963257."
                ],
                [
                  "2",
                  "WARREN A STEPHENS",
                  "4000000.0",
                  "Financial Services",
                  "Political",
                  "Warren A. Stephens is a billionaire investment banker and the chairman, president, and CEO of Stephens Inc., a financial services firm based in Little Rock, Arkansas. He is a longtime Republican megadonor who donated $4 million to President Donald Trump's inauguration fund and contributed at least $21.9 million to Republican candidates and causes in 2023 and 2024. Trump nominated Stephens to be the U.S. ambassador to the United Kingdom, a prestigious diplomatic post, which reflects a political connection between them. Stephens' role as a major donor and his subsequent nomination as ambassador demonstrate a political relationship rather than family or business ties directly with Trump. \r\n\r\nSources include the Associated Press reporting on Trump's nomination of Stephens as ambassador (https://apnews.com/article/trump-transition-appointments-ambassador-52e4744db02a0f8e078685a7a754835d) and the Arkansas Times detailing his donations and political involvement (https://arktimes.com/arkansas-blog/2025/04/24/warren-stephens-tops-individual-donor-list-for-trumps-inauguration)."
                ],
                [
                  "3",
                  "CHEVRON PRODUCTS COMPANY",
                  "2000000.0",
                  "Energy",
                  "Political",
                  "Chevron Products Company is an energy company that donated to President Donald Trump's inaugural fund. According to multiple sources, including Reuters and OpenSecrets, Chevron made financial contributions to Trump's inaugural committee. This connection is political in nature, as the company supported Trump's inauguration through donations rather than through family or business ties. There is no evidence of direct business partnerships or family relations between Chevron and Donald Trump. The donation reflects Chevron's political support for Trump's presidency, as noted in the Reuters report on Chevron's donation to Trump's inaugural fund and the OpenSecrets profile showing Chevron's political contributions [Reuters](https://www.reuters.com/world/us/chevron-donating-president-elect-donald-trumps-inaugural-committee-spokesperson-2025-01-09/), [OpenSecrets](https://www.opensecrets.org/orgs/chevron/summary?id=D000000015)."
                ],
                [
                  "4",
                  "ROBINHOOD MARKETS, INC.",
                  "2000000.0",
                  "Financial Services",
                  "Political",
                  "Robinhood Markets, Inc. is an American financial services company that operates a platform for trading stocks, ETFs, options, and cryptocurrencies. It is a publicly traded company headquartered in Menlo Park, California, with no known family or business ties to Donald Trump. However, Robinhood Markets, Inc. was a donor to Donald Trump's inaugural fund, contributing $2 million, which establishes a political connection between the company and Donald Trump. This connection is based on their financial support for Trump's inauguration rather than any familial or direct business relationship. \r\n\r\nSources include the Washington Post and Wall Street Journal articles listing Robinhood as a donor to Trump's inauguration fund, and company profiles from Yahoo Finance and Wikipedia detailing Robinhood's business and lack of direct ties to Trump.\r\n\r\n- Washington Post: https://www.washingtonpost.com/politics/interactive/2025/trump-inauguration-donors-list/\r\n- Wall Street Journal: https://www.wsj.com/politics/policy/trump-inauguration-funding-record-breaking-ae6a811e\r\n- Yahoo Finance: https://finance.yahoo.com/quote/HOOD/profile/\r\n- Wikipedia: https://en.wikipedia.org/wiki/Robinhood_Markets"
                ]
              ],
              "shape": {
                "columns": 5,
                "rows": 5
              }
            },
            "text/html": [
              "<div>\n",
              "<style scoped>\n",
              "    .dataframe tbody tr th:only-of-type {\n",
              "        vertical-align: middle;\n",
              "    }\n",
              "\n",
              "    .dataframe tbody tr th {\n",
              "        vertical-align: top;\n",
              "    }\n",
              "\n",
              "    .dataframe thead th {\n",
              "        text-align: right;\n",
              "    }\n",
              "</style>\n",
              "<table border=\"1\" class=\"dataframe\">\n",
              "  <thead>\n",
              "    <tr style=\"text-align: right;\">\n",
              "      <th></th>\n",
              "      <th>Name</th>\n",
              "      <th>Donation Amount</th>\n",
              "      <th>donor_industry</th>\n",
              "      <th>type_of_connection</th>\n",
              "      <th>explanation</th>\n",
              "    </tr>\n",
              "  </thead>\n",
              "  <tbody>\n",
              "    <tr>\n",
              "      <th>0</th>\n",
              "      <td>PILGRIM'S PRIDE CORPORATION</td>\n",
              "      <td>5000000.00</td>\n",
              "      <td>Food and Meat Processing</td>\n",
              "      <td>Political</td>\n",
              "      <td>Pilgrim's Pride Corporation, a major poultry p...</td>\n",
              "    </tr>\n",
              "    <tr>\n",
              "      <th>1</th>\n",
              "      <td>RIPPLE LABS, INC.</td>\n",
              "      <td>4889345.33</td>\n",
              "      <td>Cryptocurrency / Blockchain Technology</td>\n",
              "      <td>Political</td>\n",
              "      <td>Ripple Labs, Inc. is a cryptocurrency and bloc...</td>\n",
              "    </tr>\n",
              "    <tr>\n",
              "      <th>2</th>\n",
              "      <td>WARREN A STEPHENS</td>\n",
              "      <td>4000000.00</td>\n",
              "      <td>Financial Services</td>\n",
              "      <td>Political</td>\n",
              "      <td>Warren A. Stephens is a billionaire investment...</td>\n",
              "    </tr>\n",
              "    <tr>\n",
              "      <th>3</th>\n",
              "      <td>CHEVRON PRODUCTS COMPANY</td>\n",
              "      <td>2000000.00</td>\n",
              "      <td>Energy</td>\n",
              "      <td>Political</td>\n",
              "      <td>Chevron Products Company is an energy company ...</td>\n",
              "    </tr>\n",
              "    <tr>\n",
              "      <th>4</th>\n",
              "      <td>ROBINHOOD MARKETS, INC.</td>\n",
              "      <td>2000000.00</td>\n",
              "      <td>Financial Services</td>\n",
              "      <td>Political</td>\n",
              "      <td>Robinhood Markets, Inc. is an American financi...</td>\n",
              "    </tr>\n",
              "  </tbody>\n",
              "</table>\n",
              "</div>"
            ],
            "text/plain": [
              "                          Name  Donation Amount  \\\n",
              "0  PILGRIM'S PRIDE CORPORATION       5000000.00   \n",
              "1            RIPPLE LABS, INC.       4889345.33   \n",
              "2            WARREN A STEPHENS       4000000.00   \n",
              "3     CHEVRON PRODUCTS COMPANY       2000000.00   \n",
              "4      ROBINHOOD MARKETS, INC.       2000000.00   \n",
              "\n",
              "                           donor_industry type_of_connection  \\\n",
              "0                Food and Meat Processing          Political   \n",
              "1  Cryptocurrency / Blockchain Technology          Political   \n",
              "2                      Financial Services          Political   \n",
              "3                                  Energy          Political   \n",
              "4                      Financial Services          Political   \n",
              "\n",
              "                                         explanation  \n",
              "0  Pilgrim's Pride Corporation, a major poultry p...  \n",
              "1  Ripple Labs, Inc. is a cryptocurrency and bloc...  \n",
              "2  Warren A. Stephens is a billionaire investment...  \n",
              "3  Chevron Products Company is an energy company ...  \n",
              "4  Robinhood Markets, Inc. is an American financi...  "
            ]
          },
          "execution_count": 6,
          "metadata": {},
          "output_type": "execute_result"
        }
      ],
      "source": [
        "fec_classified = pd.read_csv('data/fec_classified.csv')\n",
        "\n",
        "fec_classified"
      ]
    },
    {
      "cell_type": "markdown",
      "metadata": {},
      "source": [
        "This approach is faster (parallel processing), more reliable (caching), more transparent (logging via logfire) and easier to use (no need to write code).\n",
        "\n",
        "You can also [extend Augmenta with custom tools](https://github.com/Global-Witness/augmenta/blob/main/docs/tools.md) via MCP servers. That means you can make it reason before each step, give it access to databases and APIs, and even allow it to write its own Python code (useful for processing data, doing maths, etc.).\n",
        "\n",
        "Feel free to check the [README](https://github.com/Global-Witness/augmenta) and get in touch if you have any questions or suggestions."
      ]
    }
  ],
  "metadata": {
    "colab": {
      "provenance": []
    },
    "kernelspec": {
      "display_name": ".venv",
      "language": "python",
      "name": "python3"
    },
    "language_info": {
      "codemirror_mode": {
        "name": "ipython",
        "version": 3
      },
      "file_extension": ".py",
      "mimetype": "text/x-python",
      "name": "python",
      "nbconvert_exporter": "python",
      "pygments_lexer": "ipython3",
      "version": "3.13.3"
    }
  },
  "nbformat": 4,
  "nbformat_minor": 0
}
